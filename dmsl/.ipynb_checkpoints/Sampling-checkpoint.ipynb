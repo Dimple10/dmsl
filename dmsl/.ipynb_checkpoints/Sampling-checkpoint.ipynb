{
 "cells": [
  {
   "cell_type": "code",
   "execution_count": 1,
   "id": "d98a911b",
   "metadata": {},
   "outputs": [
    {
     "name": "stderr",
     "output_type": "stream",
     "text": [
      "/Users/fangirl/miniconda3/envs/project/lib/python3.8/site-packages/scipy/__init__.py:146: UserWarning: A NumPy version >=1.16.5 and <1.23.0 is required for this version of SciPy (detected version 1.24.0\n",
      "  warnings.warn(f\"A NumPy version >={np_minversion} and <{np_maxversion}\"\n",
      "WARNING (pytensor.tensor.blas): Using NumPy C-API based implementation for BLAS functions.\n"
     ]
    }
   ],
   "source": [
    "import sampler as sm\n",
    "import survey\n",
    "from importlib import reload \n",
    "import mass_function as mf\n",
    "import mass_profile as mp\n",
    "import numpy as np\n",
    "import matplotlib.pyplot as plt\n",
    "import astropy.units as u\n",
    "import scipy\n",
    "import pandas as pd\n",
    "import psutil\n",
    "%load_ext autoreload\n",
    "%autoreload 2\n",
    "%matplotlib inline"
   ]
  },
  {
   "cell_type": "code",
   "execution_count": null,
   "id": "6b9c988d",
   "metadata": {},
   "outputs": [],
   "source": [
    "import emcee\n",
    "\n",
    "np.random.seed(42)\n",
    "initial = np.random.randn(32, 5)\n",
    "nwalkers, ndim = initial.shape\n",
    "nsteps = 100\n",
    "\n",
    "sampler = emcee.EnsembleSampler(nwalkers, ndim, log_prob)\n",
    "start = time.time()\n",
    "sampler.run_mcmc(initial, nsteps, progress=True)\n",
    "end = time.time()\n",
    "serial_time = end - start\n",
    "print(\"Serial took {0:.1f} seconds\".format(serial_time))"
   ]
  },
  {
   "cell_type": "code",
   "execution_count": null,
   "id": "cb4f96c8",
   "metadata": {},
   "outputs": [],
   "source": [
    "from multiprocessing import Pool\n",
    "\n",
    "with Pool() as pool:\n",
    "    sampler = emcee.EnsembleSampler(nwalkers, ndim, log_prob, pool=pool)\n",
    "    start = time.time()\n",
    "    sampler.run_mcmc(initial, nsteps, progress=True)\n",
    "    end = time.time()\n",
    "    multi_time = end - start\n",
    "    print(\"Multiprocessing took {0:.1f} seconds\".format(multi_time))\n",
    "    print(\"{0:.1f} times faster than serial\".format(serial_time / multi_time))"
   ]
  },
  {
   "cell_type": "code",
   "execution_count": null,
   "id": "b1d53824",
   "metadata": {},
   "outputs": [],
   "source": []
  },
  {
   "cell_type": "code",
   "execution_count": null,
   "id": "c5823ee2",
   "metadata": {},
   "outputs": [],
   "source": []
  },
  {
   "cell_type": "code",
   "execution_count": 22,
   "id": "d66e047b",
   "metadata": {},
   "outputs": [],
   "source": [
    " %reload_ext autoreload"
   ]
  },
  {
   "cell_type": "code",
   "execution_count": 5,
   "id": "23f1b6bc",
   "metadata": {
    "scrolled": true
   },
   "outputs": [],
   "source": [
    "r = survey.Roman(alphasigma=0.1*u.uas/u.yr**2)"
   ]
  },
  {
   "cell_type": "code",
   "execution_count": 3,
   "id": "5d329cae",
   "metadata": {},
   "outputs": [
    {
     "data": {
      "text/latex": [
       "$0.001 \\; \\mathrm{\\frac{\\mu as}{yr^{2}}}$"
      ],
      "text/plain": [
       "<Quantity 0.001 uas / yr2>"
      ]
     },
     "execution_count": 3,
     "metadata": {},
     "output_type": "execute_result"
    }
   ],
   "source": [
    "r.alphasigma"
   ]
  },
  {
   "cell_type": "code",
   "execution_count": 3,
   "id": "08c4ba1b",
   "metadata": {},
   "outputs": [
    {
     "name": "stdout",
     "output_type": "stream",
     "text": [
      "CPU times: user 1.27 ms, sys: 42 µs, total: 1.32 ms\n",
      "Wall time: 1.32 ms\n"
     ]
    }
   ],
   "source": [
    "%%time\n",
    "ps = mp.PointSource(Ml=1)\n",
    "gauss = mp.Gaussian(Ml=1.e6*u.Msun,R0=0.01*u.kpc)\n",
    "nfw = mp.NFW(Ml=1.e5*u.Msun, c200= 13)"
   ]
  },
  {
   "cell_type": "code",
   "execution_count": 2,
   "id": "070d72f0",
   "metadata": {},
   "outputs": [
    {
     "name": "stdout",
     "output_type": "stream",
     "text": [
      "CPU times: user 1.06 ms, sys: 119 µs, total: 1.18 ms\n",
      "Wall time: 1.19 ms\n"
     ]
    }
   ],
   "source": [
    "%%time\n",
    "nfw = mp.NFW(Ml=1.e5*u.Msun, c200= 13)"
   ]
  },
  {
   "cell_type": "code",
   "execution_count": 23,
   "id": "44f606a5",
   "metadata": {},
   "outputs": [
    {
     "name": "stdout",
     "output_type": "stream",
     "text": [
      "CPU times: user 10 µs, sys: 0 ns, total: 10 µs\n",
      "Wall time: 12.9 µs\n"
     ]
    }
   ],
   "source": [
    "%%time\n",
    "ps = mp.PointSource(Ml=1)"
   ]
  },
  {
   "cell_type": "code",
   "execution_count": null,
   "id": "350d3093",
   "metadata": {},
   "outputs": [],
   "source": [
    "pl = mf.PowerLaw(m_l = np.logspace(0, np.log10(1000), 100))"
   ]
  },
  {
   "cell_type": "code",
   "execution_count": 15,
   "id": "aa100044",
   "metadata": {
    "scrolled": false
   },
   "outputs": [
    {
     "name": "stdout",
     "output_type": "stream",
     "text": [
      "CPU times: user 1.86 ms, sys: 1.5 ms, total: 3.37 ms\n",
      "Wall time: 3.27 ms\n"
     ]
    }
   ],
   "source": [
    "%%time\n",
    "cdm = mf.CDM_Test(m_l = np.logspace(0,6,100))"
   ]
  },
  {
   "cell_type": "code",
   "execution_count": 90,
   "id": "7e891e1e",
   "metadata": {},
   "outputs": [
    {
     "name": "stdout",
     "output_type": "stream",
     "text": [
      "CPU times: user 1.48 ms, sys: 236 µs, total: 1.72 ms\n",
      "Wall time: 1.7 ms\n"
     ]
    }
   ],
   "source": [
    "%%time\n",
    "pbh = mf.PBH(m_l = np.logspace(-5,5,100))"
   ]
  },
  {
   "cell_type": "code",
   "execution_count": 7,
   "id": "9cf0304f",
   "metadata": {},
   "outputs": [],
   "source": [
    "wdm = mf.WDM_stream(m_l = np.logspace(0,6,100))"
   ]
  },
  {
   "cell_type": "code",
   "execution_count": 13,
   "id": "d5d0bf89",
   "metadata": {},
   "outputs": [],
   "source": [
    "wdm_l = mf.WDM_lensing(m_l = np.logspace(0,6,100))"
   ]
  },
  {
   "cell_type": "code",
   "execution_count": 7,
   "id": "4c4c8800",
   "metadata": {},
   "outputs": [
    {
     "data": {
      "text/plain": [
       "{'m_wdm': (0.01, 1500), 'gamma': (0.01, 60), 'beta': (0.1, 3)}"
      ]
     },
     "execution_count": 7,
     "metadata": {},
     "output_type": "execute_result"
    }
   ],
   "source": [
    "wdm.param_range"
   ]
  },
  {
   "cell_type": "code",
   "execution_count": 17,
   "id": "1c09aec9",
   "metadata": {},
   "outputs": [],
   "source": [
    "tinker = mf.Tinker(m_l = np.logspace(0,6,100))"
   ]
  },
  {
   "cell_type": "code",
   "execution_count": 55,
   "id": "78754a9a",
   "metadata": {},
   "outputs": [
    {
     "name": "stdout",
     "output_type": "stream",
     "text": [
      "CPU times: user 130 ms, sys: 3.73 ms, total: 134 ms\n",
      "Wall time: 131 ms\n"
     ]
    }
   ],
   "source": [
    "%%time\n",
    "press_s=mf.PressSchechter_test(m_l=np.logspace(6,14,100))"
   ]
  },
  {
   "cell_type": "markdown",
   "id": "aad1376b",
   "metadata": {},
   "source": [
    "## Sampling"
   ]
  },
  {
   "cell_type": "code",
   "execution_count": null,
   "id": "6398670b",
   "metadata": {},
   "outputs": [],
   "source": [
    "%%time\n",
    "s = sm.Sampler(nstars=100,survey=r, MassFunction=pl)"
   ]
  },
  {
   "cell_type": "code",
   "execution_count": null,
   "id": "c472690d",
   "metadata": {},
   "outputs": [],
   "source": [
    "%%time\n",
    "s = sm.Sampler(nstars=1000, survey=r,nchains=20, MassFunction=pl, MassProfile=nfw)"
   ]
  },
  {
   "cell_type": "code",
   "execution_count": null,
   "id": "3833c7ad",
   "metadata": {
    "collapsed": true
   },
   "outputs": [
    {
     "name": "stdout",
     "output_type": "stream",
     "text": [
      "Creating data vector\n",
      "Wrote to /Users/fangirl/Repos/Kris/dmsl/data/star_accel/Roman_3_2_0.dat\n",
      "/Users/fangirl/Repos/Kris/dmsl/data/star_accel/Roman_hist_3_2_0.png\n",
      "(1000, 2)\n",
      "2024-03-17T16:08:57.573380: made /Users/fangirl/Repos/Kris/dmsl/data/star_accel/Roman_hist_3_2_0.png\n",
      "Loading prior\n",
      "Prior loaded\n",
      "Total pars: 4\n",
      "Sampling..\n"
     ]
    },
    {
     "name": "stderr",
     "output_type": "stream",
     "text": [
      "/Users/fangirl/miniconda3/envs/project/lib/python3.8/site-packages/astropy/units/quantity.py:620: RuntimeWarning: divide by zero encountered in divide\n",
      "  result = super().__array_ufunc__(function, method, *arrays, **kwargs)\n",
      "/Users/fangirl/miniconda3/envs/project/lib/python3.8/site-packages/astropy/units/quantity.py:620: RuntimeWarning: invalid value encountered in multiply\n",
      "  result = super().__array_ufunc__(function, method, *arrays, **kwargs)\n",
      "/Users/fangirl/Repos/Kris/dmsl/dmsl/mass_function.py:227: RuntimeWarning: invalid value encountered in cast\n",
      "  self.n_l = (hist*norm).astype(int)\n",
      "/Users/fangirl/miniconda3/envs/project/lib/python3.8/site-packages/astropy/units/quantity.py:620: RuntimeWarning: overflow encountered in power\n",
      "  result = super().__array_ufunc__(function, method, *arrays, **kwargs)\n",
      "/Users/fangirl/miniconda3/envs/project/lib/python3.8/site-packages/numpy/lib/function_base.py:1248: RuntimeWarning: invalid value encountered in add\n",
      "  out[tuple(slice1)] = a * f[tuple(slice2)] + b * f[tuple(slice3)] + c * f[tuple(slice4)]\n",
      "/Users/fangirl/miniconda3/envs/project/lib/python3.8/site-packages/numpy/lib/function_base.py:1264: RuntimeWarning: invalid value encountered in scalar subtract\n",
      "  out[tuple(slice1)] = (f[tuple(slice2)] - f[tuple(slice3)]) / dx_n\n",
      "  0%|                                                                                                                                                                                                                | 0/1010 [00:00<?, ?it/s]/Users/fangirl/miniconda3/envs/project/lib/python3.8/site-packages/emcee/moves/red_blue.py:99: RuntimeWarning: invalid value encountered in scalar subtract\n",
      "  lnpdiff = f + nlp - state.log_prob[j]\n",
      "  1%|██▎                                                                                                                                                                                                    | 12/1010 [00:14<31:32,  1.90s/it]"
     ]
    }
   ],
   "source": [
    "s = sm.Sampler(nstars=1000, nsamples=10, survey=r,nchains=8, MassFunction=cdm, MassProfile=gauss)"
   ]
  },
  {
   "cell_type": "code",
   "execution_count": 16,
   "id": "f994e9da",
   "metadata": {
    "collapsed": true
   },
   "outputs": [
    {
     "name": "stdout",
     "output_type": "stream",
     "text": [
      "Creating data vector\n",
      "Wrote to /Users/fangirl/Repos/Kris/dmsl/data/star_accel/Roman_3_2_0_2024:06:30-16.51.12.dat\n",
      "/Users/fangirl/Repos/Kris/dmsl/data/star_accel/Roman_hist_3_2_0_2024:06:30-16.51.12.png\n",
      "(1000, 2)\n",
      "2024-06-30T16:51:12.525276: made /Users/fangirl/Repos/Kris/dmsl/data/star_accel/Roman_hist_3_2_0_2024:06:30-16.51.12.png\n",
      "Loading prior\n",
      "Prior loaded\n",
      "Total pars: 3\n",
      "Sampling..\n"
     ]
    },
    {
     "name": "stderr",
     "output_type": "stream",
     "text": [
      "/Users/fangirl/miniconda3/envs/project/lib/python3.8/site-packages/scipy/__init__.py:146: UserWarning: A NumPy version >=1.16.5 and <1.23.0 is required for this version of SciPy (detected version 1.24.0\n",
      "  warnings.warn(f\"A NumPy version >={np_minversion} and <{np_maxversion}\"\n",
      "WARNING (pytensor.tensor.blas): Using NumPy C-API based implementation for BLAS functions.\n",
      "/Users/fangirl/miniconda3/envs/project/lib/python3.8/site-packages/scipy/__init__.py:146: UserWarning: A NumPy version >=1.16.5 and <1.23.0 is required for this version of SciPy (detected version 1.24.0\n",
      "  warnings.warn(f\"A NumPy version >={np_minversion} and <{np_maxversion}\"\n",
      "WARNING (pytensor.tensor.blas): Using NumPy C-API based implementation for BLAS functions.\n",
      "/Users/fangirl/miniconda3/envs/project/lib/python3.8/site-packages/scipy/__init__.py:146: UserWarning: A NumPy version >=1.16.5 and <1.23.0 is required for this version of SciPy (detected version 1.24.0\n",
      "  warnings.warn(f\"A NumPy version >={np_minversion} and <{np_maxversion}\"\n",
      "WARNING (pytensor.tensor.blas): Using NumPy C-API based implementation for BLAS functions.\n",
      "/Users/fangirl/miniconda3/envs/project/lib/python3.8/site-packages/scipy/__init__.py:146: UserWarning: A NumPy version >=1.16.5 and <1.23.0 is required for this version of SciPy (detected version 1.24.0\n",
      "  warnings.warn(f\"A NumPy version >={np_minversion} and <{np_maxversion}\"\n",
      "WARNING (pytensor.tensor.blas): Using NumPy C-API based implementation for BLAS functions.\n",
      "/Users/fangirl/miniconda3/envs/project/lib/python3.8/site-packages/scipy/__init__.py:146: UserWarning: A NumPy version >=1.16.5 and <1.23.0 is required for this version of SciPy (detected version 1.24.0\n",
      "  warnings.warn(f\"A NumPy version >={np_minversion} and <{np_maxversion}\"\n",
      "WARNING (pytensor.tensor.blas): Using NumPy C-API based implementation for BLAS functions.\n",
      "/Users/fangirl/miniconda3/envs/project/lib/python3.8/site-packages/scipy/__init__.py:146: UserWarning: A NumPy version >=1.16.5 and <1.23.0 is required for this version of SciPy (detected version 1.24.0\n",
      "  warnings.warn(f\"A NumPy version >={np_minversion} and <{np_maxversion}\"\n",
      "WARNING (pytensor.tensor.blas): Using NumPy C-API based implementation for BLAS functions.\n",
      "/Users/fangirl/miniconda3/envs/project/lib/python3.8/site-packages/scipy/__init__.py:146: UserWarning: A NumPy version >=1.16.5 and <1.23.0 is required for this version of SciPy (detected version 1.24.0\n",
      "  warnings.warn(f\"A NumPy version >={np_minversion} and <{np_maxversion}\"\n",
      "WARNING (pytensor.tensor.blas): Using NumPy C-API based implementation for BLAS functions.\n",
      "/Users/fangirl/miniconda3/envs/project/lib/python3.8/site-packages/scipy/__init__.py:146: UserWarning: A NumPy version >=1.16.5 and <1.23.0 is required for this version of SciPy (detected version 1.24.0\n",
      "  warnings.warn(f\"A NumPy version >={np_minversion} and <{np_maxversion}\"\n",
      "WARNING (pytensor.tensor.blas): Using NumPy C-API based implementation for BLAS functions.\n",
      "100%|████████████████████████████████████████████████████████████████████████████████████████████████████████████████████████████████████████████████████████████████████████████████████████████████| 11000/11000 [13:10:21<00:00,  4.31s/it]\n"
     ]
    },
    {
     "name": "stdout",
     "output_type": "stream",
     "text": [
      "Multiprocessing took 47455.2 seconds\n",
      "95\\% upper limit on c200: 3.4192495635592017\n",
      "Wrote /Users/fangirl/Repos/Kris/dmsl/results/samples_Roman_nfw_CDM_3_4_2_2024:07:01-06.02.07.pkl\n",
      "Chains have been pruned. 127.0 chains remain\n",
      "Wrote /Users/fangirl/Repos/Kris/dmsl/results/loglike_Roman_nfw_CDM_3_4_2_2024:07:01-06.02.08.pkl\n",
      "Wrote /Users/fangirl/Repos/Kris/dmsl/results/pruned_samples_Roman_nfw_CDM_3_4_2_2024:07:01-06.02.08.pkl\n",
      "Chains have been pruned. 127.0 chains remain\n",
      "flatchain: (1270000, 3)\n",
      "b\n",
      "2024-07-01T06:02:09.649926: made /Users/fangirl/Repos/Kris/dmsl/results/post_Roman_nfw_CDM_b_3_4_2_2024:07:01-06.02.09.png\n",
      "logc\n",
      "2024-07-01T06:02:09.755936: made /Users/fangirl/Repos/Kris/dmsl/results/post_Roman_nfw_CDM_logc_3_4_2_2024:07:01-06.02.09.png\n",
      "2024-07-01T06:02:09.853370: made /Users/fangirl/Repos/Kris/dmsl/results/post_Roman_nfw_CDM_c200_3_4_2_2024:07:01-06.02.09.png\n",
      "2024-07-01T06:02:15.316078: made /Users/fangirl/Repos/Kris/dmsl/results/corner_Roman_nfw_CDM_3_4_2_2024:07:01-06.02.10.png\n",
      "2024-07-01T06:02:16.080822: made /Users/fangirl/Repos/Kris/dmsl/results/chainsplot_Roman_nfw_CDM_3_4_2_2024:07:01-06.02.15.png\n",
      "2024-07-01T06:02:18.634244: made /Users/fangirl/Repos/Kris/dmsl/results/logprob_Roman_nfw_CDM_3_4_2_2024:07:01-06.02.16.png\n",
      "CPU times: user 9min 39s, sys: 1min 9s, total: 10min 49s\n",
      "Wall time: 13h 11min 6s\n"
     ]
    }
   ],
   "source": [
    "%%time\n",
    "s = sm.Sampler(nstars=1000, nsamples=10000, survey=r,nchains=128, MassFunction=cdm, MassProfile=nfw)"
   ]
  },
  {
   "cell_type": "code",
   "execution_count": null,
   "id": "6c38fa8a",
   "metadata": {},
   "outputs": [],
   "source": []
  },
  {
   "cell_type": "code",
   "execution_count": null,
   "id": "05cc2ee9",
   "metadata": {},
   "outputs": [],
   "source": [
    "# https://stackoverflow.com/questions/35215161/most-efficient-way-to-map-function-over-numpy-array"
   ]
  },
  {
   "cell_type": "code",
   "execution_count": null,
   "id": "d486c72f",
   "metadata": {},
   "outputs": [],
   "source": []
  },
  {
   "cell_type": "code",
   "execution_count": 12,
   "id": "e7379ba3",
   "metadata": {
    "collapsed": true
   },
   "outputs": [
    {
     "ename": "NameError",
     "evalue": "name 'gauss' is not defined",
     "output_type": "error",
     "traceback": [
      "\u001b[0;31m---------------------------------------------------------------------------\u001b[0m",
      "\u001b[0;31mNameError\u001b[0m                                 Traceback (most recent call last)",
      "Cell \u001b[0;32mIn [12], line 1\u001b[0m\n\u001b[0;32m----> 1\u001b[0m s \u001b[38;5;241m=\u001b[39m sm\u001b[38;5;241m.\u001b[39mSampler(nstars\u001b[38;5;241m=\u001b[39m\u001b[38;5;241m10\u001b[39m, nsamples\u001b[38;5;241m=\u001b[39m\u001b[38;5;241m10\u001b[39m, survey\u001b[38;5;241m=\u001b[39mr,nchains\u001b[38;5;241m=\u001b[39m\u001b[38;5;241m8\u001b[39m, MassProfile\u001b[38;5;241m=\u001b[39m\u001b[43mgauss\u001b[49m)\n",
      "\u001b[0;31mNameError\u001b[0m: name 'gauss' is not defined"
     ]
    }
   ],
   "source": [
    "s = sm.Sampler(nstars=10, nsamples=10, survey=r,nchains=8, MassProfile=gauss)"
   ]
  },
  {
   "cell_type": "code",
   "execution_count": 73,
   "id": "b1ad7817",
   "metadata": {
    "collapsed": true
   },
   "outputs": [
    {
     "name": "stdout",
     "output_type": "stream",
     "text": [
      "Creating data vector\n",
      "Wrote to /Users/fangirl/Repos/Kris/dmsl/data/star_accel/Roman_3_2_0_2024:06:17-21.12.00.dat\n",
      "/Users/fangirl/Repos/Kris/dmsl/data/star_accel/Roman_hist_3_2_0_2024:06:17-21.12.00.png\n",
      "(1000, 2)\n",
      "2024-06-17T21:12:00.498606: made /Users/fangirl/Repos/Kris/dmsl/data/star_accel/Roman_hist_3_2_0_2024:06:17-21.12.00.png\n",
      "Loading prior\n",
      "Prior loaded\n",
      "Total pars: 4\n",
      "Sampling..\n"
     ]
    },
    {
     "name": "stderr",
     "output_type": "stream",
     "text": [
      "  4%|████████▋                                                                                                                                                                                              | 48/1100 [01:37<32:00,  1.83s/it]/Users/fangirl/miniconda3/envs/project/lib/python3.8/site-packages/astropy/units/quantity.py:620: RuntimeWarning: invalid value encountered in add\n",
      "  result = super().__array_ufunc__(function, method, *arrays, **kwargs)\n",
      "100%|█████████████████████████████████████████████████████████████████████████████████████████████████████████████████████████████████████████████████████████████████████████████████████████████████████| 1100/1100 [21:49<00:00,  1.19s/it]"
     ]
    },
    {
     "name": "stdout",
     "output_type": "stream",
     "text": [
      "Serial took 1312.1 seconds\n"
     ]
    },
    {
     "name": "stderr",
     "output_type": "stream",
     "text": [
      "\n",
      "/Users/fangirl/miniconda3/envs/project/lib/python3.8/site-packages/scipy/__init__.py:146: UserWarning: A NumPy version >=1.16.5 and <1.23.0 is required for this version of SciPy (detected version 1.24.0\n",
      "  warnings.warn(f\"A NumPy version >={np_minversion} and <{np_maxversion}\"\n",
      "WARNING (pytensor.tensor.blas): Using NumPy C-API based implementation for BLAS functions.\n",
      "/Users/fangirl/miniconda3/envs/project/lib/python3.8/site-packages/scipy/__init__.py:146: UserWarning: A NumPy version >=1.16.5 and <1.23.0 is required for this version of SciPy (detected version 1.24.0\n",
      "  warnings.warn(f\"A NumPy version >={np_minversion} and <{np_maxversion}\"\n",
      "WARNING (pytensor.tensor.blas): Using NumPy C-API based implementation for BLAS functions.\n",
      "/Users/fangirl/miniconda3/envs/project/lib/python3.8/site-packages/scipy/__init__.py:146: UserWarning: A NumPy version >=1.16.5 and <1.23.0 is required for this version of SciPy (detected version 1.24.0\n",
      "  warnings.warn(f\"A NumPy version >={np_minversion} and <{np_maxversion}\"\n",
      "WARNING (pytensor.tensor.blas): Using NumPy C-API based implementation for BLAS functions.\n",
      "/Users/fangirl/miniconda3/envs/project/lib/python3.8/site-packages/scipy/__init__.py:146: UserWarning: A NumPy version >=1.16.5 and <1.23.0 is required for this version of SciPy (detected version 1.24.0\n",
      "  warnings.warn(f\"A NumPy version >={np_minversion} and <{np_maxversion}\"\n",
      "WARNING (pytensor.tensor.blas): Using NumPy C-API based implementation for BLAS functions.\n",
      "/Users/fangirl/miniconda3/envs/project/lib/python3.8/site-packages/scipy/__init__.py:146: UserWarning: A NumPy version >=1.16.5 and <1.23.0 is required for this version of SciPy (detected version 1.24.0\n",
      "  warnings.warn(f\"A NumPy version >={np_minversion} and <{np_maxversion}\"\n",
      "WARNING (pytensor.tensor.blas): Using NumPy C-API based implementation for BLAS functions.\n",
      "/Users/fangirl/miniconda3/envs/project/lib/python3.8/site-packages/scipy/__init__.py:146: UserWarning: A NumPy version >=1.16.5 and <1.23.0 is required for this version of SciPy (detected version 1.24.0\n",
      "  warnings.warn(f\"A NumPy version >={np_minversion} and <{np_maxversion}\"\n",
      "WARNING (pytensor.tensor.blas): Using NumPy C-API based implementation for BLAS functions.\n",
      "/Users/fangirl/miniconda3/envs/project/lib/python3.8/site-packages/scipy/__init__.py:146: UserWarning: A NumPy version >=1.16.5 and <1.23.0 is required for this version of SciPy (detected version 1.24.0\n",
      "  warnings.warn(f\"A NumPy version >={np_minversion} and <{np_maxversion}\"\n",
      "WARNING (pytensor.tensor.blas): Using NumPy C-API based implementation for BLAS functions.\n",
      "/Users/fangirl/miniconda3/envs/project/lib/python3.8/site-packages/scipy/__init__.py:146: UserWarning: A NumPy version >=1.16.5 and <1.23.0 is required for this version of SciPy (detected version 1.24.0\n",
      "  warnings.warn(f\"A NumPy version >={np_minversion} and <{np_maxversion}\"\n",
      "WARNING (pytensor.tensor.blas): Using NumPy C-API based implementation for BLAS functions.\n",
      "100%|█████████████████████████████████████████████████████████████████████████████████████████████████████████████████████████████████████████████████████████████████████████████████████████████████████| 1100/1100 [14:37<00:00,  1.25it/s]"
     ]
    },
    {
     "name": "stdout",
     "output_type": "stream",
     "text": [
      "Multiprocessing took 903.5 seconds\n",
      "1.5 times faster than serial\n",
      "95\\% upper limit on fpbh: 2.8417520037074775\n",
      "Wrote /Users/fangirl/Repos/Kris/dmsl/results/samples_Roman_nfw_CDM_3_2_2_2024:06:17-21.48.56.pkl\n",
      "Chains have been pruned. 0.0 chains remain\n",
      "Wrote /Users/fangirl/Repos/Kris/dmsl/results/loglike_Roman_nfw_CDM_3_2_2_2024:06:17-21.48.56.pkl\n",
      "Wrote /Users/fangirl/Repos/Kris/dmsl/results/pruned_samples_Roman_nfw_CDM_3_2_2_2024:06:17-21.48.56.pkl\n",
      "Chains have been pruned. 0.0 chains remain\n",
      "CPU times: user 25min 7s, sys: 6.95 s, total: 25min 14s\n",
      "Wall time: 36min 55s\n"
     ]
    },
    {
     "name": "stderr",
     "output_type": "stream",
     "text": [
      "\n",
      "/Users/fangirl/miniconda3/envs/project/lib/python3.8/site-packages/astropy/units/quantity.py:620: RuntimeWarning: invalid value encountered in add\n",
      "  result = super().__array_ufunc__(function, method, *arrays, **kwargs)\n"
     ]
    }
   ],
   "source": [
    "%%time\n",
    "s = sm.Sampler(nstars=1000,nsamples=100,nchains=8, survey=r, MassFunction=cdm, MassProfile=nfw)"
   ]
  },
  {
   "cell_type": "code",
   "execution_count": 74,
   "id": "c723b35d",
   "metadata": {},
   "outputs": [
    {
     "name": "stdout",
     "output_type": "stream",
     "text": [
      "8 CPUs\n"
     ]
    }
   ],
   "source": [
    "from multiprocessing import cpu_count\n",
    "\n",
    "ncpu = cpu_count()\n",
    "print(\"{0} CPUs\".format(ncpu))"
   ]
  },
  {
   "cell_type": "code",
   "execution_count": 8,
   "id": "00c9e893",
   "metadata": {
    "collapsed": true
   },
   "outputs": [
    {
     "name": "stdout",
     "output_type": "stream",
     "text": [
      "Creating data vector\n",
      "CDM data type: <class 'astropy.units.quantity.Quantity'>\n",
      "Wrote to /Users/fangirl/Repos/Kris/dmsl/data/star_accel/Roman_3_2_0_2024:06:26-13.14.02.dat\n",
      "/Users/fangirl/Repos/Kris/dmsl/data/star_accel/Roman_hist_3_2_0_2024:06:26-13.14.02.png\n",
      "(1000, 2)\n",
      "2024-06-26T13:14:03.013051: made /Users/fangirl/Repos/Kris/dmsl/data/star_accel/Roman_hist_3_2_0_2024:06:26-13.14.02.png\n",
      "Loading prior\n",
      "Prior loaded\n",
      "Total pars: 4\n",
      "Sampling..\n"
     ]
    },
    {
     "name": "stderr",
     "output_type": "stream",
     "text": [
      "/Users/fangirl/miniconda3/envs/project/lib/python3.8/site-packages/scipy/__init__.py:146: UserWarning: A NumPy version >=1.16.5 and <1.23.0 is required for this version of SciPy (detected version 1.24.0\n",
      "  warnings.warn(f\"A NumPy version >={np_minversion} and <{np_maxversion}\"\n",
      "WARNING (pytensor.tensor.blas): Using NumPy C-API based implementation for BLAS functions.\n",
      "/Users/fangirl/miniconda3/envs/project/lib/python3.8/site-packages/scipy/__init__.py:146: UserWarning: A NumPy version >=1.16.5 and <1.23.0 is required for this version of SciPy (detected version 1.24.0\n",
      "  warnings.warn(f\"A NumPy version >={np_minversion} and <{np_maxversion}\"\n",
      "WARNING (pytensor.tensor.blas): Using NumPy C-API based implementation for BLAS functions.\n",
      "/Users/fangirl/miniconda3/envs/project/lib/python3.8/site-packages/scipy/__init__.py:146: UserWarning: A NumPy version >=1.16.5 and <1.23.0 is required for this version of SciPy (detected version 1.24.0\n",
      "  warnings.warn(f\"A NumPy version >={np_minversion} and <{np_maxversion}\"\n",
      "WARNING (pytensor.tensor.blas): Using NumPy C-API based implementation for BLAS functions.\n",
      "/Users/fangirl/miniconda3/envs/project/lib/python3.8/site-packages/scipy/__init__.py:146: UserWarning: A NumPy version >=1.16.5 and <1.23.0 is required for this version of SciPy (detected version 1.24.0\n",
      "  warnings.warn(f\"A NumPy version >={np_minversion} and <{np_maxversion}\"\n",
      "WARNING (pytensor.tensor.blas): Using NumPy C-API based implementation for BLAS functions.\n",
      "/Users/fangirl/miniconda3/envs/project/lib/python3.8/site-packages/scipy/__init__.py:146: UserWarning: A NumPy version >=1.16.5 and <1.23.0 is required for this version of SciPy (detected version 1.24.0\n",
      "  warnings.warn(f\"A NumPy version >={np_minversion} and <{np_maxversion}\"\n",
      "WARNING (pytensor.tensor.blas): Using NumPy C-API based implementation for BLAS functions.\n",
      "/Users/fangirl/miniconda3/envs/project/lib/python3.8/site-packages/scipy/__init__.py:146: UserWarning: A NumPy version >=1.16.5 and <1.23.0 is required for this version of SciPy (detected version 1.24.0\n",
      "  warnings.warn(f\"A NumPy version >={np_minversion} and <{np_maxversion}\"\n",
      "WARNING (pytensor.tensor.blas): Using NumPy C-API based implementation for BLAS functions.\n",
      "/Users/fangirl/miniconda3/envs/project/lib/python3.8/site-packages/scipy/__init__.py:146: UserWarning: A NumPy version >=1.16.5 and <1.23.0 is required for this version of SciPy (detected version 1.24.0\n",
      "  warnings.warn(f\"A NumPy version >={np_minversion} and <{np_maxversion}\"\n",
      "WARNING (pytensor.tensor.blas): Using NumPy C-API based implementation for BLAS functions.\n",
      "/Users/fangirl/miniconda3/envs/project/lib/python3.8/site-packages/scipy/__init__.py:146: UserWarning: A NumPy version >=1.16.5 and <1.23.0 is required for this version of SciPy (detected version 1.24.0\n",
      "  warnings.warn(f\"A NumPy version >={np_minversion} and <{np_maxversion}\"\n",
      "WARNING (pytensor.tensor.blas): Using NumPy C-API based implementation for BLAS functions.\n",
      "100%|███████████████████████████████████████████████████████████████████████████████████████████████████████████████████████████████████████████████████████████████████████████████████████████████████| 11000/11000 [23:37<00:00,  7.76it/s]\n"
     ]
    },
    {
     "name": "stdout",
     "output_type": "stream",
     "text": [
      "Multiprocessing took 1443.1 seconds\n",
      "95\\% upper limit on c200: 5.0348924796542125\n",
      "Wrote /Users/fangirl/Repos/Kris/dmsl/results/samples_Roman_nfw_WDM Stream_3_4_2_2024:06:26-13.38.06.pkl\n",
      "Chains have been pruned. 128.0 chains remain\n",
      "Wrote /Users/fangirl/Repos/Kris/dmsl/results/loglike_Roman_nfw_WDM Stream_3_4_2_2024:06:26-13.38.06.pkl\n",
      "Wrote /Users/fangirl/Repos/Kris/dmsl/results/pruned_samples_Roman_nfw_WDM Stream_3_4_2_2024:06:26-13.38.06.pkl\n",
      "Chains have been pruned. 128.0 chains remain\n",
      "flatchain: (1280000, 4)\n",
      "logmwdm\n",
      "2024-06-26T13:38:08.152988: made /Users/fangirl/Repos/Kris/dmsl/results/post_Roman_nfw_WDM Stream_logmwdm_3_4_2_2024:06:26-13.38.08.png\n",
      "gamma\n",
      "2024-06-26T13:38:08.250741: made /Users/fangirl/Repos/Kris/dmsl/results/post_Roman_nfw_WDM Stream_gamma_3_4_2_2024:06:26-13.38.08.png\n",
      "beta\n",
      "2024-06-26T13:38:08.347556: made /Users/fangirl/Repos/Kris/dmsl/results/post_Roman_nfw_WDM Stream_beta_3_4_2_2024:06:26-13.38.08.png\n",
      "2024-06-26T13:38:08.440969: made /Users/fangirl/Repos/Kris/dmsl/results/post_Roman_nfw_WDM Stream_c200_3_4_2_2024:06:26-13.38.08.png\n",
      "2024-06-26T13:38:16.791120: made /Users/fangirl/Repos/Kris/dmsl/results/corner_Roman_nfw_WDM Stream_3_4_2_2024:06:26-13.38.09.png\n",
      "2024-06-26T13:38:17.544925: made /Users/fangirl/Repos/Kris/dmsl/results/chainsplot_Roman_nfw_WDM Stream_3_4_2_2024:06:26-13.38.16.png\n",
      "2024-06-26T13:38:18.085589: made /Users/fangirl/Repos/Kris/dmsl/results/logprob_Roman_nfw_WDM Stream_3_4_2_2024:06:26-13.38.17.png\n",
      "CPU times: user 7min 37s, sys: 55.7 s, total: 8min 32s\n",
      "Wall time: 24min 15s\n"
     ]
    }
   ],
   "source": [
    "%%time\n",
    "s = sm.Sampler(nstars=1000,nsamples=10000, survey=r,nchains=128, MassFunction=wdm, MassProfile=nfw)"
   ]
  },
  {
   "cell_type": "code",
   "execution_count": 14,
   "id": "96b60cef",
   "metadata": {
    "collapsed": true
   },
   "outputs": [
    {
     "name": "stdout",
     "output_type": "stream",
     "text": [
      "Creating data vector\n",
      "CDM data type: <class 'astropy.units.quantity.Quantity'>\n",
      "Wrote to /Users/fangirl/Repos/Kris/dmsl/data/star_accel/Roman_3_2_0_2024:06:28-16.29.01.dat\n",
      "/Users/fangirl/Repos/Kris/dmsl/data/star_accel/Roman_hist_3_2_0_2024:06:28-16.29.01.png\n",
      "(1000, 2)\n",
      "2024-06-28T16:29:01.951380: made /Users/fangirl/Repos/Kris/dmsl/data/star_accel/Roman_hist_3_2_0_2024:06:28-16.29.01.png\n",
      "Loading prior\n",
      "Prior loaded\n",
      "Total pars: 3\n",
      "Sampling..\n"
     ]
    },
    {
     "name": "stderr",
     "output_type": "stream",
     "text": [
      "/Users/fangirl/miniconda3/envs/project/lib/python3.8/site-packages/scipy/__init__.py:146: UserWarning: A NumPy version >=1.16.5 and <1.23.0 is required for this version of SciPy (detected version 1.24.0\n",
      "  warnings.warn(f\"A NumPy version >={np_minversion} and <{np_maxversion}\"\n",
      "WARNING (pytensor.tensor.blas): Using NumPy C-API based implementation for BLAS functions.\n",
      "/Users/fangirl/miniconda3/envs/project/lib/python3.8/site-packages/scipy/__init__.py:146: UserWarning: A NumPy version >=1.16.5 and <1.23.0 is required for this version of SciPy (detected version 1.24.0\n",
      "  warnings.warn(f\"A NumPy version >={np_minversion} and <{np_maxversion}\"\n",
      "WARNING (pytensor.tensor.blas): Using NumPy C-API based implementation for BLAS functions.\n",
      "/Users/fangirl/miniconda3/envs/project/lib/python3.8/site-packages/scipy/__init__.py:146: UserWarning: A NumPy version >=1.16.5 and <1.23.0 is required for this version of SciPy (detected version 1.24.0\n",
      "  warnings.warn(f\"A NumPy version >={np_minversion} and <{np_maxversion}\"\n",
      "WARNING (pytensor.tensor.blas): Using NumPy C-API based implementation for BLAS functions.\n",
      "/Users/fangirl/miniconda3/envs/project/lib/python3.8/site-packages/scipy/__init__.py:146: UserWarning: A NumPy version >=1.16.5 and <1.23.0 is required for this version of SciPy (detected version 1.24.0\n",
      "  warnings.warn(f\"A NumPy version >={np_minversion} and <{np_maxversion}\"\n",
      "WARNING (pytensor.tensor.blas): Using NumPy C-API based implementation for BLAS functions.\n",
      "/Users/fangirl/miniconda3/envs/project/lib/python3.8/site-packages/scipy/__init__.py:146: UserWarning: A NumPy version >=1.16.5 and <1.23.0 is required for this version of SciPy (detected version 1.24.0\n",
      "  warnings.warn(f\"A NumPy version >={np_minversion} and <{np_maxversion}\"\n",
      "WARNING (pytensor.tensor.blas): Using NumPy C-API based implementation for BLAS functions.\n",
      "/Users/fangirl/miniconda3/envs/project/lib/python3.8/site-packages/scipy/__init__.py:146: UserWarning: A NumPy version >=1.16.5 and <1.23.0 is required for this version of SciPy (detected version 1.24.0\n",
      "  warnings.warn(f\"A NumPy version >={np_minversion} and <{np_maxversion}\"\n",
      "WARNING (pytensor.tensor.blas): Using NumPy C-API based implementation for BLAS functions.\n",
      "/Users/fangirl/miniconda3/envs/project/lib/python3.8/site-packages/scipy/__init__.py:146: UserWarning: A NumPy version >=1.16.5 and <1.23.0 is required for this version of SciPy (detected version 1.24.0\n",
      "  warnings.warn(f\"A NumPy version >={np_minversion} and <{np_maxversion}\"\n",
      "WARNING (pytensor.tensor.blas): Using NumPy C-API based implementation for BLAS functions.\n",
      "/Users/fangirl/miniconda3/envs/project/lib/python3.8/site-packages/scipy/__init__.py:146: UserWarning: A NumPy version >=1.16.5 and <1.23.0 is required for this version of SciPy (detected version 1.24.0\n",
      "  warnings.warn(f\"A NumPy version >={np_minversion} and <{np_maxversion}\"\n",
      "WARNING (pytensor.tensor.blas): Using NumPy C-API based implementation for BLAS functions.\n",
      "100%|███████████████████████████████████████████████████████████████████████████████████████████████████████████████████████████████████████████████████████████████████████████████████████████████████| 10000/10000 [11:14<00:00, 14.82it/s]\n"
     ]
    },
    {
     "name": "stdout",
     "output_type": "stream",
     "text": [
      "Multiprocessing took 699.4 seconds\n",
      "95\\% upper limit on c200: 3.2563085282900253\n",
      "Wrote /Users/fangirl/Repos/Kris/dmsl/results/samples_Roman_nfw_WDM Lensing_3_3_2_2024:06:28-16.40.41.pkl\n",
      "Chains have been pruned. 64.0 chains remain\n",
      "Wrote /Users/fangirl/Repos/Kris/dmsl/results/loglike_Roman_nfw_WDM Lensing_3_3_2_2024:06:28-16.40.41.pkl\n",
      "Wrote /Users/fangirl/Repos/Kris/dmsl/results/pruned_samples_Roman_nfw_WDM Lensing_3_3_2_2024:06:28-16.40.41.pkl\n",
      "Chains have been pruned. 64.0 chains remain\n",
      "flatchain: (576000, 3)\n",
      "mwdm\n",
      "2024-06-28T16:40:42.269694: made /Users/fangirl/Repos/Kris/dmsl/results/post_Roman_nfw_WDM Lensing_mwdm_3_3_2_2024:06:28-16.40.42.png\n",
      "beta\n",
      "2024-06-28T16:40:42.354111: made /Users/fangirl/Repos/Kris/dmsl/results/post_Roman_nfw_WDM Lensing_beta_3_3_2_2024:06:28-16.40.42.png\n",
      "2024-06-28T16:40:42.745491: made /Users/fangirl/Repos/Kris/dmsl/results/post_Roman_nfw_WDM Lensing_c200_3_3_2_2024:06:28-16.40.42.png\n",
      "2024-06-28T16:40:47.085988: made /Users/fangirl/Repos/Kris/dmsl/results/corner_Roman_nfw_WDM Lensing_3_3_2_2024:06:28-16.40.43.png\n",
      "2024-06-28T16:40:47.510627: made /Users/fangirl/Repos/Kris/dmsl/results/chainsplot_Roman_nfw_WDM Lensing_3_3_2_2024:06:28-16.40.47.png\n",
      "2024-06-28T16:40:47.770770: made /Users/fangirl/Repos/Kris/dmsl/results/logprob_Roman_nfw_WDM Lensing_3_3_2_2024:06:28-16.40.47.png\n",
      "CPU times: user 5min 50s, sys: 42.2 s, total: 6min 32s\n",
      "Wall time: 11min 46s\n"
     ]
    }
   ],
   "source": [
    "%%time\n",
    "s = sm.Sampler(nstars=1000, nsamples=9000, survey=r,nchains=64, MassFunction=wdm_l, MassProfile=nfw)"
   ]
  },
  {
   "cell_type": "code",
   "execution_count": 56,
   "id": "99b8e21b",
   "metadata": {
    "collapsed": true
   },
   "outputs": [
    {
     "name": "stdout",
     "output_type": "stream",
     "text": [
      "Creating data vector\n",
      "Wrote to /Users/fangirl/Repos/Kris/dmsl/data/star_accel/Roman_3_2_0_2024:06:15-16.09.24.dat\n",
      "/Users/fangirl/Repos/Kris/dmsl/data/star_accel/Roman_hist_3_2_0_2024:06:15-16.09.24.png\n",
      "(1000, 2)\n",
      "2024-06-15T16:09:24.270378: made /Users/fangirl/Repos/Kris/dmsl/data/star_accel/Roman_hist_3_2_0_2024:06:15-16.09.24.png\n",
      "Loading prior\n",
      "Prior loaded\n",
      "Total pars: 2\n",
      "Sampling..\n"
     ]
    },
    {
     "name": "stderr",
     "output_type": "stream",
     "text": [
      "/Users/fangirl/miniconda3/envs/project/lib/python3.8/site-packages/astropy/units/quantity.py:620: RuntimeWarning: invalid value encountered in add\n",
      "  result = super().__array_ufunc__(function, method, *arrays, **kwargs)\n",
      " 77%|███████████████████████████████████████████████████████████████████████████████████████████████████████████████████████████████████████████████████▏                                            | 4600/6000 [21:40:43<2:21:41,  6.07s/it]"
     ]
    },
    {
     "name": "stdout",
     "output_type": "stream",
     "text": [
      "Converged at.. 4600\n"
     ]
    },
    {
     "name": "stderr",
     "output_type": "stream",
     "text": [
      "100%|██████████████████████████████████████████████████████████████████████████████████████████████████████████████████████████████████████████████████████████████████████████████████████████████████| 6000/6000 [24:05:38<00:00, 14.46s/it]\n"
     ]
    },
    {
     "name": "stdout",
     "output_type": "stream",
     "text": [
      "95\\% upper limit on fpbh: 2.680677046092465\n",
      "Wrote /Users/fangirl/Repos/Kris/dmsl/results/samples_Roman_nfw_Press Schechter_3_3_2_2024:06:16-16.15.10.pkl\n",
      "Chains have been pruned. 46.0 chains remain\n",
      "Wrote /Users/fangirl/Repos/Kris/dmsl/results/loglike_Roman_nfw_Press Schechter_3_3_2_2024:06:16-16.15.10.pkl\n",
      "Wrote /Users/fangirl/Repos/Kris/dmsl/results/pruned_samples_Roman_nfw_Press Schechter_3_3_2_2024:06:16-16.15.10.pkl\n",
      "Chains have been pruned. 46.0 chains remain\n",
      "flatchain: (230000, 2)\n",
      "del_crit\n",
      "2024-06-16T16:15:11.054855: made /Users/fangirl/Repos/Kris/dmsl/results/post_Roman_nfw_Press Schechter_del_crit_3_3_2_2024:06:16-16.15.10.png\n",
      "2024-06-16T16:15:11.138179: made /Users/fangirl/Repos/Kris/dmsl/results/post_Roman_nfw_Press Schechter_c200_3_3_2_2024:06:16-16.15.11.png\n",
      "2024-06-16T16:15:13.551182: made /Users/fangirl/Repos/Kris/dmsl/results/corner_Roman_nfw_Press Schechter_3_3_2_2024:06:16-16.15.11.png\n",
      "2024-06-16T16:15:13.854932: made /Users/fangirl/Repos/Kris/dmsl/results/chainsplot_Roman_nfw_Press Schechter_3_3_2_2024:06:16-16.15.13.png\n",
      "2024-06-16T16:15:14.137778: made /Users/fangirl/Repos/Kris/dmsl/results/logprob_Roman_nfw_Press Schechter_3_3_2_2024:06:16-16.15.13.png\n",
      "CPU times: user 10h 22min 39s, sys: 3min 24s, total: 10h 26min 3s\n",
      "Wall time: 1d 5min 49s\n"
     ]
    }
   ],
   "source": [
    "%%time\n",
    "s = sm.Sampler(nstars=1000,nsamples=5000,nchains=64, survey=r, MassFunction=press_s, MassProfile=nfw)"
   ]
  },
  {
   "cell_type": "code",
   "execution_count": 20,
   "id": "0af4f7ed",
   "metadata": {
    "scrolled": true
   },
   "outputs": [
    {
     "name": "stdout",
     "output_type": "stream",
     "text": [
      "Creating data vector\n",
      "Wrote to /Users/fangirl/Repos/Kris/dmsl/data/star_accel/Roman_3_2_0_2024:07:01-17.08.36.dat\n",
      "/Users/fangirl/Repos/Kris/dmsl/data/star_accel/Roman_hist_3_2_0_2024:07:01-17.08.36.png\n",
      "(1000, 2)\n",
      "2024-07-01T17:08:36.352969: made /Users/fangirl/Repos/Kris/dmsl/data/star_accel/Roman_hist_3_2_0_2024:07:01-17.08.36.png\n",
      "Loading prior\n",
      "Prior loaded\n",
      "Total pars: 4\n",
      "Sampling..\n"
     ]
    },
    {
     "name": "stderr",
     "output_type": "stream",
     "text": [
      "/Users/fangirl/miniconda3/envs/project/lib/python3.8/site-packages/scipy/__init__.py:146: UserWarning: A NumPy version >=1.16.5 and <1.23.0 is required for this version of SciPy (detected version 1.24.0\n",
      "  warnings.warn(f\"A NumPy version >={np_minversion} and <{np_maxversion}\"\n",
      "WARNING (pytensor.tensor.blas): Using NumPy C-API based implementation for BLAS functions.\n",
      "/Users/fangirl/miniconda3/envs/project/lib/python3.8/site-packages/scipy/__init__.py:146: UserWarning: A NumPy version >=1.16.5 and <1.23.0 is required for this version of SciPy (detected version 1.24.0\n",
      "  warnings.warn(f\"A NumPy version >={np_minversion} and <{np_maxversion}\"\n",
      "WARNING (pytensor.tensor.blas): Using NumPy C-API based implementation for BLAS functions.\n",
      "/Users/fangirl/miniconda3/envs/project/lib/python3.8/site-packages/scipy/__init__.py:146: UserWarning: A NumPy version >=1.16.5 and <1.23.0 is required for this version of SciPy (detected version 1.24.0\n",
      "  warnings.warn(f\"A NumPy version >={np_minversion} and <{np_maxversion}\"\n",
      "WARNING (pytensor.tensor.blas): Using NumPy C-API based implementation for BLAS functions.\n",
      "/Users/fangirl/miniconda3/envs/project/lib/python3.8/site-packages/scipy/__init__.py:146: UserWarning: A NumPy version >=1.16.5 and <1.23.0 is required for this version of SciPy (detected version 1.24.0\n",
      "  warnings.warn(f\"A NumPy version >={np_minversion} and <{np_maxversion}\"\n",
      "WARNING (pytensor.tensor.blas): Using NumPy C-API based implementation for BLAS functions.\n",
      "/Users/fangirl/miniconda3/envs/project/lib/python3.8/site-packages/scipy/__init__.py:146: UserWarning: A NumPy version >=1.16.5 and <1.23.0 is required for this version of SciPy (detected version 1.24.0\n",
      "  warnings.warn(f\"A NumPy version >={np_minversion} and <{np_maxversion}\"\n",
      "WARNING (pytensor.tensor.blas): Using NumPy C-API based implementation for BLAS functions.\n",
      "/Users/fangirl/miniconda3/envs/project/lib/python3.8/site-packages/scipy/__init__.py:146: UserWarning: A NumPy version >=1.16.5 and <1.23.0 is required for this version of SciPy (detected version 1.24.0\n",
      "  warnings.warn(f\"A NumPy version >={np_minversion} and <{np_maxversion}\"\n",
      "WARNING (pytensor.tensor.blas): Using NumPy C-API based implementation for BLAS functions.\n",
      "/Users/fangirl/miniconda3/envs/project/lib/python3.8/site-packages/scipy/__init__.py:146: UserWarning: A NumPy version >=1.16.5 and <1.23.0 is required for this version of SciPy (detected version 1.24.0\n",
      "  warnings.warn(f\"A NumPy version >={np_minversion} and <{np_maxversion}\"\n",
      "WARNING (pytensor.tensor.blas): Using NumPy C-API based implementation for BLAS functions.\n",
      "/Users/fangirl/miniconda3/envs/project/lib/python3.8/site-packages/scipy/__init__.py:146: UserWarning: A NumPy version >=1.16.5 and <1.23.0 is required for this version of SciPy (detected version 1.24.0\n",
      "  warnings.warn(f\"A NumPy version >={np_minversion} and <{np_maxversion}\"\n",
      "WARNING (pytensor.tensor.blas): Using NumPy C-API based implementation for BLAS functions.\n",
      "100%|██████████████████████████████████████████████████████████████████████████████████████████████████████████████████████████████████████████████████████████████████████████████████████████████████| 6000/6000 [23:39:02<00:00, 14.19s/it]\n"
     ]
    },
    {
     "name": "stdout",
     "output_type": "stream",
     "text": [
      "Multiprocessing took 85184.5 seconds\n",
      "95\\% upper limit on c200: 3.728324024495042\n",
      "Wrote /Users/fangirl/Repos/Kris/dmsl/results/samples_Roman_nfw_Tinker_3_3_2_2024:07:02-16.48.21.pkl\n",
      "Chains have been pruned. 30.0 chains remain\n",
      "Wrote /Users/fangirl/Repos/Kris/dmsl/results/loglike_Roman_nfw_Tinker_3_3_2_2024:07:02-16.48.21.pkl\n",
      "Wrote /Users/fangirl/Repos/Kris/dmsl/results/pruned_samples_Roman_nfw_Tinker_3_3_2_2024:07:02-16.48.21.pkl\n",
      "Chains have been pruned. 30.0 chains remain\n",
      "flatchain: (150000, 4)\n",
      "a\n",
      "2024-07-02T16:48:21.397793: made /Users/fangirl/Repos/Kris/dmsl/results/post_Roman_nfw_Tinker_a_3_3_2_2024:07:02-16.48.21.png\n",
      "b\n",
      "2024-07-02T16:48:21.475172: made /Users/fangirl/Repos/Kris/dmsl/results/post_Roman_nfw_Tinker_b_3_3_2_2024:07:02-16.48.21.png\n",
      "c\n",
      "2024-07-02T16:48:21.551577: made /Users/fangirl/Repos/Kris/dmsl/results/post_Roman_nfw_Tinker_c_3_3_2_2024:07:02-16.48.21.png\n",
      "2024-07-02T16:48:21.621882: made /Users/fangirl/Repos/Kris/dmsl/results/post_Roman_nfw_Tinker_c200_3_3_2_2024:07:02-16.48.21.png\n",
      "2024-07-02T16:48:26.949402: made /Users/fangirl/Repos/Kris/dmsl/results/corner_Roman_nfw_Tinker_3_3_2_2024:07:02-16.48.21.png\n",
      "2024-07-02T16:48:27.135567: made /Users/fangirl/Repos/Kris/dmsl/results/chainsplot_Roman_nfw_Tinker_3_3_2_2024:07:02-16.48.26.png\n",
      "2024-07-02T16:48:27.278901: made /Users/fangirl/Repos/Kris/dmsl/results/logprob_Roman_nfw_Tinker_3_3_2_2024:07:02-16.48.27.png\n",
      "CPU times: user 4min 42s, sys: 31.2 s, total: 5min 13s\n",
      "Wall time: 23h 39min 51s\n"
     ]
    }
   ],
   "source": [
    "%%time\n",
    "s = sm.Sampler(nstars=1000,nsamples=5000,survey=r,nchains=32, MassFunction=tinker, MassProfile=nfw)"
   ]
  },
  {
   "cell_type": "code",
   "execution_count": 91,
   "id": "bf5287b0",
   "metadata": {
    "collapsed": true
   },
   "outputs": [
    {
     "name": "stdout",
     "output_type": "stream",
     "text": [
      "Creating data vector\n",
      "Wrote to /Users/fangirl/Repos/Kris/dmsl/data/star_accel/Roman_3_2_0_2024:06:20-12.16.18.dat\n",
      "/Users/fangirl/Repos/Kris/dmsl/data/star_accel/Roman_hist_3_2_0_2024:06:20-12.16.18.png\n",
      "(1000, 2)\n",
      "2024-06-20T12:16:18.539041: made /Users/fangirl/Repos/Kris/dmsl/data/star_accel/Roman_hist_3_2_0_2024:06:20-12.16.18.png\n",
      "Loading prior\n",
      "Prior loaded\n",
      "Total pars: 1\n",
      "Sampling..\n"
     ]
    },
    {
     "name": "stderr",
     "output_type": "stream",
     "text": [
      "/Users/fangirl/miniconda3/envs/project/lib/python3.8/site-packages/scipy/__init__.py:146: UserWarning: A NumPy version >=1.16.5 and <1.23.0 is required for this version of SciPy (detected version 1.24.0\n",
      "  warnings.warn(f\"A NumPy version >={np_minversion} and <{np_maxversion}\"\n",
      "WARNING (pytensor.tensor.blas): Using NumPy C-API based implementation for BLAS functions.\n",
      "/Users/fangirl/miniconda3/envs/project/lib/python3.8/site-packages/scipy/__init__.py:146: UserWarning: A NumPy version >=1.16.5 and <1.23.0 is required for this version of SciPy (detected version 1.24.0\n",
      "  warnings.warn(f\"A NumPy version >={np_minversion} and <{np_maxversion}\"\n",
      "WARNING (pytensor.tensor.blas): Using NumPy C-API based implementation for BLAS functions.\n",
      "/Users/fangirl/miniconda3/envs/project/lib/python3.8/site-packages/scipy/__init__.py:146: UserWarning: A NumPy version >=1.16.5 and <1.23.0 is required for this version of SciPy (detected version 1.24.0\n",
      "  warnings.warn(f\"A NumPy version >={np_minversion} and <{np_maxversion}\"\n",
      "WARNING (pytensor.tensor.blas): Using NumPy C-API based implementation for BLAS functions.\n",
      "/Users/fangirl/miniconda3/envs/project/lib/python3.8/site-packages/scipy/__init__.py:146: UserWarning: A NumPy version >=1.16.5 and <1.23.0 is required for this version of SciPy (detected version 1.24.0\n",
      "  warnings.warn(f\"A NumPy version >={np_minversion} and <{np_maxversion}\"\n",
      "WARNING (pytensor.tensor.blas): Using NumPy C-API based implementation for BLAS functions.\n",
      "/Users/fangirl/miniconda3/envs/project/lib/python3.8/site-packages/scipy/__init__.py:146: UserWarning: A NumPy version >=1.16.5 and <1.23.0 is required for this version of SciPy (detected version 1.24.0\n",
      "  warnings.warn(f\"A NumPy version >={np_minversion} and <{np_maxversion}\"\n",
      "WARNING (pytensor.tensor.blas): Using NumPy C-API based implementation for BLAS functions.\n",
      "/Users/fangirl/miniconda3/envs/project/lib/python3.8/site-packages/scipy/__init__.py:146: UserWarning: A NumPy version >=1.16.5 and <1.23.0 is required for this version of SciPy (detected version 1.24.0\n",
      "  warnings.warn(f\"A NumPy version >={np_minversion} and <{np_maxversion}\"\n",
      "WARNING (pytensor.tensor.blas): Using NumPy C-API based implementation for BLAS functions.\n",
      "/Users/fangirl/miniconda3/envs/project/lib/python3.8/site-packages/scipy/__init__.py:146: UserWarning: A NumPy version >=1.16.5 and <1.23.0 is required for this version of SciPy (detected version 1.24.0\n",
      "  warnings.warn(f\"A NumPy version >={np_minversion} and <{np_maxversion}\"\n",
      "WARNING (pytensor.tensor.blas): Using NumPy C-API based implementation for BLAS functions.\n",
      "/Users/fangirl/miniconda3/envs/project/lib/python3.8/site-packages/scipy/__init__.py:146: UserWarning: A NumPy version >=1.16.5 and <1.23.0 is required for this version of SciPy (detected version 1.24.0\n",
      "  warnings.warn(f\"A NumPy version >={np_minversion} and <{np_maxversion}\"\n",
      "WARNING (pytensor.tensor.blas): Using NumPy C-API based implementation for BLAS functions.\n",
      "100%|█████████████████████████████████████████████████████████████████████████████████████████████████████████████████████████████████████████████████████████████████████████████████████████████████████| 6000/6000 [07:10<00:00, 13.93it/s]\n"
     ]
    },
    {
     "name": "stdout",
     "output_type": "stream",
     "text": [
      "Multiprocessing took 455.2 seconds\n",
      "95\\% upper limit on c200: -0.47772629792328036\n",
      "Wrote /Users/fangirl/Repos/Kris/dmsl/results/samples_Roman_ps_PBH_3_3_2_2024:06:20-12.23.53.pkl\n",
      "Chains have been pruned. 51.0 chains remain\n",
      "Wrote /Users/fangirl/Repos/Kris/dmsl/results/loglike_Roman_ps_PBH_3_3_2_2024:06:20-12.23.53.pkl\n",
      "Wrote /Users/fangirl/Repos/Kris/dmsl/results/pruned_samples_Roman_ps_PBH_3_3_2_2024:06:20-12.23.53.pkl\n",
      "Chains have been pruned. 51.0 chains remain\n",
      "flatchain: (255000, 1)\n",
      "logf_pbh\n",
      "2024-06-20T12:23:54.273815: made /Users/fangirl/Repos/Kris/dmsl/results/post_Roman_ps_PBH_logf_pbh_3_3_2_2024:06:20-12.23.54.png\n",
      "2024-06-20T12:23:54.340410: made /Users/fangirl/Repos/Kris/dmsl/results/post_Roman_ps_PBH_c200_3_3_2_2024:06:20-12.23.54.png\n"
     ]
    },
    {
     "ename": "RuntimeError",
     "evalue": "latex was not able to process the following string:\nb'logf_pbh = ${-4.46}_{-3.05}^{+3.03}$'\n\nHere is the full report generated by latex:\nThis is pdfTeX, Version 3.141592653-2.6-1.40.24 (TeX Live 2022) (preloaded format=latex)\n restricted \\write18 enabled.\nentering extended mode\n(/Users/fangirl/.matplotlib/tex.cache/bbae94166c65f55c834fe220190eaf23.tex\nLaTeX2e <2021-11-15> patch level 1\nL3 programming layer <2022-02-24>\n(/usr/local/texlive/2022/texmf-dist/tex/latex/base/article.cls\nDocument Class: article 2021/10/04 v1.4n Standard LaTeX document class\n(/usr/local/texlive/2022/texmf-dist/tex/latex/base/size10.clo))\n(/usr/local/texlive/2022/texmf-dist/tex/latex/type1cm/type1cm.sty)\n(/usr/local/texlive/2022/texmf-dist/tex/latex/cm-super/type1ec.sty\n(/usr/local/texlive/2022/texmf-dist/tex/latex/base/t1cmr.fd))\n(/usr/local/texlive/2022/texmf-dist/tex/latex/base/textcomp.sty)\n(/usr/local/texlive/2022/texmf-dist/tex/latex/base/inputenc.sty)\n(/usr/local/texlive/2022/texmf-dist/tex/latex/geometry/geometry.sty\n(/usr/local/texlive/2022/texmf-dist/tex/latex/graphics/keyval.sty)\n(/usr/local/texlive/2022/texmf-dist/tex/generic/iftex/ifvtex.sty\n(/usr/local/texlive/2022/texmf-dist/tex/generic/iftex/iftex.sty))\n\nPackage geometry Warning: Over-specification in `h'-direction.\n    `width' (5058.9pt) is ignored.\n\n\nPackage geometry Warning: Over-specification in `v'-direction.\n    `height' (5058.9pt) is ignored.\n\n) (/usr/local/texlive/2022/texmf-dist/tex/latex/amsmath/amsmath.sty\nFor additional information on amsmath, use the `?' option.\n(/usr/local/texlive/2022/texmf-dist/tex/latex/amsmath/amstext.sty\n(/usr/local/texlive/2022/texmf-dist/tex/latex/amsmath/amsgen.sty))\n(/usr/local/texlive/2022/texmf-dist/tex/latex/amsmath/amsbsy.sty)\n(/usr/local/texlive/2022/texmf-dist/tex/latex/amsmath/amsopn.sty))\n(/usr/local/texlive/2022/texmf-dist/tex/latex/l3backend/l3backend-dvips.def)\nNo file bbae94166c65f55c834fe220190eaf23.aux.\n*geometry* driver: auto-detecting\n*geometry* detected driver: dvips\n! Missing $ inserted.\n<inserted text> \n                $\nl.19 {\\rmfamily logf_\n                     pbh = ${-4.46}_{-3.05}^{+3.03}$}\nNo pages of output.\nTranscript written on bbae94166c65f55c834fe220190eaf23.log.\n\n\n",
     "output_type": "error",
     "traceback": [
      "\u001b[0;31m---------------------------------------------------------------------------\u001b[0m",
      "\u001b[0;31mCalledProcessError\u001b[0m                        Traceback (most recent call last)",
      "File \u001b[0;32m~/miniconda3/envs/project/lib/python3.8/site-packages/matplotlib/texmanager.py:304\u001b[0m, in \u001b[0;36mTexManager._run_checked_subprocess\u001b[0;34m(self, command, tex)\u001b[0m\n\u001b[1;32m    303\u001b[0m \u001b[38;5;28;01mtry\u001b[39;00m:\n\u001b[0;32m--> 304\u001b[0m     report \u001b[38;5;241m=\u001b[39m \u001b[43msubprocess\u001b[49m\u001b[38;5;241;43m.\u001b[39;49m\u001b[43mcheck_output\u001b[49m\u001b[43m(\u001b[49m\u001b[43mcommand\u001b[49m\u001b[43m,\u001b[49m\n\u001b[1;32m    305\u001b[0m \u001b[43m                                     \u001b[49m\u001b[43mcwd\u001b[49m\u001b[38;5;241;43m=\u001b[39;49m\u001b[38;5;28;43mself\u001b[39;49m\u001b[38;5;241;43m.\u001b[39;49m\u001b[43mtexcache\u001b[49m\u001b[43m,\u001b[49m\n\u001b[1;32m    306\u001b[0m \u001b[43m                                     \u001b[49m\u001b[43mstderr\u001b[49m\u001b[38;5;241;43m=\u001b[39;49m\u001b[43msubprocess\u001b[49m\u001b[38;5;241;43m.\u001b[39;49m\u001b[43mSTDOUT\u001b[49m\u001b[43m)\u001b[49m\n\u001b[1;32m    307\u001b[0m \u001b[38;5;28;01mexcept\u001b[39;00m \u001b[38;5;167;01mFileNotFoundError\u001b[39;00m \u001b[38;5;28;01mas\u001b[39;00m exc:\n",
      "File \u001b[0;32m~/miniconda3/envs/project/lib/python3.8/subprocess.py:415\u001b[0m, in \u001b[0;36mcheck_output\u001b[0;34m(timeout, *popenargs, **kwargs)\u001b[0m\n\u001b[1;32m    413\u001b[0m     kwargs[\u001b[38;5;124m'\u001b[39m\u001b[38;5;124minput\u001b[39m\u001b[38;5;124m'\u001b[39m] \u001b[38;5;241m=\u001b[39m empty\n\u001b[0;32m--> 415\u001b[0m \u001b[38;5;28;01mreturn\u001b[39;00m \u001b[43mrun\u001b[49m\u001b[43m(\u001b[49m\u001b[38;5;241;43m*\u001b[39;49m\u001b[43mpopenargs\u001b[49m\u001b[43m,\u001b[49m\u001b[43m \u001b[49m\u001b[43mstdout\u001b[49m\u001b[38;5;241;43m=\u001b[39;49m\u001b[43mPIPE\u001b[49m\u001b[43m,\u001b[49m\u001b[43m \u001b[49m\u001b[43mtimeout\u001b[49m\u001b[38;5;241;43m=\u001b[39;49m\u001b[43mtimeout\u001b[49m\u001b[43m,\u001b[49m\u001b[43m \u001b[49m\u001b[43mcheck\u001b[49m\u001b[38;5;241;43m=\u001b[39;49m\u001b[38;5;28;43;01mTrue\u001b[39;49;00m\u001b[43m,\u001b[49m\n\u001b[1;32m    416\u001b[0m \u001b[43m           \u001b[49m\u001b[38;5;241;43m*\u001b[39;49m\u001b[38;5;241;43m*\u001b[39;49m\u001b[43mkwargs\u001b[49m\u001b[43m)\u001b[49m\u001b[38;5;241m.\u001b[39mstdout\n",
      "File \u001b[0;32m~/miniconda3/envs/project/lib/python3.8/subprocess.py:516\u001b[0m, in \u001b[0;36mrun\u001b[0;34m(input, capture_output, timeout, check, *popenargs, **kwargs)\u001b[0m\n\u001b[1;32m    515\u001b[0m     \u001b[38;5;28;01mif\u001b[39;00m check \u001b[38;5;129;01mand\u001b[39;00m retcode:\n\u001b[0;32m--> 516\u001b[0m         \u001b[38;5;28;01mraise\u001b[39;00m CalledProcessError(retcode, process\u001b[38;5;241m.\u001b[39margs,\n\u001b[1;32m    517\u001b[0m                                  output\u001b[38;5;241m=\u001b[39mstdout, stderr\u001b[38;5;241m=\u001b[39mstderr)\n\u001b[1;32m    518\u001b[0m \u001b[38;5;28;01mreturn\u001b[39;00m CompletedProcess(process\u001b[38;5;241m.\u001b[39margs, retcode, stdout, stderr)\n",
      "\u001b[0;31mCalledProcessError\u001b[0m: Command '['latex', '-interaction=nonstopmode', '--halt-on-error', '/Users/fangirl/.matplotlib/tex.cache/bbae94166c65f55c834fe220190eaf23.tex']' returned non-zero exit status 1.",
      "\nThe above exception was the direct cause of the following exception:\n",
      "\u001b[0;31mRuntimeError\u001b[0m                              Traceback (most recent call last)",
      "File \u001b[0;32m<timed exec>:1\u001b[0m\n",
      "File \u001b[0;32m~/Repos/Kris/dmsl/dmsl/sampler.py:82\u001b[0m, in \u001b[0;36mSampler.__init__\u001b[0;34m(self, nstars, nsamples, nchains, ntune, ndims, minlogMl, maxlogMl, MassProfile, MassFunction, SNRcutoff, survey, overwrite, usefraction)\u001b[0m\n\u001b[1;32m     80\u001b[0m \u001b[38;5;28mself\u001b[39m\u001b[38;5;241m.\u001b[39mrun_inference()\n\u001b[1;32m     81\u001b[0m \u001b[38;5;28;01mif\u001b[39;00m \u001b[38;5;28mself\u001b[39m\u001b[38;5;241m.\u001b[39moverwrite:\n\u001b[0;32m---> 82\u001b[0m     \u001b[38;5;28;43mself\u001b[39;49m\u001b[38;5;241;43m.\u001b[39;49m\u001b[43mmake_diagnostic_plots\u001b[49m\u001b[43m(\u001b[49m\u001b[43m)\u001b[49m\n",
      "File \u001b[0;32m~/Repos/Kris/dmsl/dmsl/sampler.py:432\u001b[0m, in \u001b[0;36mSampler.make_diagnostic_plots\u001b[0;34m(self)\u001b[0m\n\u001b[1;32m    430\u001b[0m \u001b[38;5;28mprint\u001b[39m(\u001b[38;5;124m'\u001b[39m\u001b[38;5;124mflatchain:\u001b[39m\u001b[38;5;124m'\u001b[39m, np\u001b[38;5;241m.\u001b[39mshape(flatchain))\n\u001b[1;32m    431\u001b[0m \u001b[38;5;28;01mif\u001b[39;00m \u001b[38;5;28mself\u001b[39m\u001b[38;5;241m.\u001b[39mmassfunction:\n\u001b[0;32m--> 432\u001b[0m     \u001b[43mplot\u001b[49m\u001b[38;5;241;43m.\u001b[39;49m\u001b[43mplot_emcee\u001b[49m\u001b[43m(\u001b[49m\u001b[43mflatchain\u001b[49m\u001b[43m,\u001b[49m\n\u001b[1;32m    433\u001b[0m \u001b[43m            \u001b[49m\u001b[38;5;28;43mself\u001b[39;49m\u001b[38;5;241;43m.\u001b[39;49m\u001b[43mnstars\u001b[49m\u001b[43m,\u001b[49m\u001b[43m \u001b[49m\u001b[38;5;28;43mself\u001b[39;49m\u001b[38;5;241;43m.\u001b[39;49m\u001b[43mnsamples\u001b[49m\u001b[43m,\u001b[49m\u001b[38;5;28;43mself\u001b[39;49m\u001b[38;5;241;43m.\u001b[39;49m\u001b[43mndims\u001b[49m\u001b[43m,\u001b[49m\u001b[43m \u001b[49m\u001b[38;5;28;43mself\u001b[39;49m\u001b[38;5;241;43m.\u001b[39;49m\u001b[43mmassprofile\u001b[49m\u001b[43m,\u001b[49m\n\u001b[1;32m    434\u001b[0m \u001b[43m            \u001b[49m\u001b[38;5;28;43mself\u001b[39;49m\u001b[38;5;241;43m.\u001b[39;49m\u001b[43msurvey\u001b[49m\u001b[38;5;241;43m.\u001b[39;49m\u001b[43mname\u001b[49m\u001b[43m,\u001b[49m\u001b[43m \u001b[49m\u001b[38;5;28;43mself\u001b[39;49m\u001b[38;5;241;43m.\u001b[39;49m\u001b[43musefraction\u001b[49m\u001b[43m,\u001b[49m\u001b[43mmassfunction\u001b[49m\u001b[38;5;241;43m=\u001b[39;49m\u001b[38;5;28;43mself\u001b[39;49m\u001b[38;5;241;43m.\u001b[39;49m\u001b[43mmassfunction\u001b[49m\u001b[43m)\u001b[49m\n\u001b[1;32m    435\u001b[0m     extra_string \u001b[38;5;241m=\u001b[39m \u001b[38;5;124mf\u001b[39m\u001b[38;5;124m'\u001b[39m\u001b[38;5;124mchainsplot_\u001b[39m\u001b[38;5;132;01m{\u001b[39;00m\u001b[38;5;28mself\u001b[39m\u001b[38;5;241m.\u001b[39msurvey\u001b[38;5;241m.\u001b[39mname\u001b[38;5;132;01m}\u001b[39;00m\u001b[38;5;124m_\u001b[39m\u001b[38;5;132;01m{\u001b[39;00m\u001b[38;5;28mself\u001b[39m\u001b[38;5;241m.\u001b[39mmassprofile\u001b[38;5;241m.\u001b[39mtype\u001b[38;5;132;01m}\u001b[39;00m\u001b[38;5;124m_\u001b[39m\u001b[38;5;132;01m{\u001b[39;00m\u001b[38;5;28mself\u001b[39m\u001b[38;5;241m.\u001b[39mmassfunction\u001b[38;5;241m.\u001b[39mName\u001b[38;5;132;01m}\u001b[39;00m\u001b[38;5;124m'\u001b[39m\n\u001b[1;32m    436\u001b[0m \u001b[38;5;28;01melse\u001b[39;00m:\n",
      "File \u001b[0;32m~/Repos/Kris/dmsl/dmsl/plotting.py:148\u001b[0m, in \u001b[0;36mplot_emcee\u001b[0;34m(flatchain, nstars, nsamples, ndims, massprofile, surveyname, usefraction, massfunction)\u001b[0m\n\u001b[1;32m    146\u001b[0m plt.plot(samples[:,:,0])\n\u001b[1;32m    147\u001b[0m plt.ylabel(r'$\\\\log_{{10}} {f_{pbh}}$');\n\u001b[0;32m--> 148\u001b[0m #plt.ylabel(r'$m_{wdm}$');\n\u001b[1;32m    149\u001b[0m plt.xlabel(r'N');\n\u001b[1;32m    150\u001b[0m savefig(fig, outpath, writepdf=0, dpi=100)\n",
      "File \u001b[0;32m~/Repos/Kris/dmsl/dmsl/plotting.py:241\u001b[0m, in \u001b[0;36msavefig\u001b[0;34m(fig, figpath, writepdf, dpi)\u001b[0m\n\u001b[1;32m    240\u001b[0m \u001b[38;5;28;01mdef\u001b[39;00m \u001b[38;5;21msavefig\u001b[39m(fig, figpath, writepdf\u001b[38;5;241m=\u001b[39m\u001b[38;5;28;01mTrue\u001b[39;00m, dpi\u001b[38;5;241m=\u001b[39m\u001b[38;5;241m450\u001b[39m):\n\u001b[0;32m--> 241\u001b[0m     \u001b[43mfig\u001b[49m\u001b[38;5;241;43m.\u001b[39;49m\u001b[43msavefig\u001b[49m\u001b[43m(\u001b[49m\u001b[43mfigpath\u001b[49m\u001b[43m,\u001b[49m\u001b[43m \u001b[49m\u001b[43mdpi\u001b[49m\u001b[38;5;241;43m=\u001b[39;49m\u001b[43mdpi\u001b[49m\u001b[43m,\u001b[49m\u001b[43m \u001b[49m\u001b[43mbbox_inches\u001b[49m\u001b[38;5;241;43m=\u001b[39;49m\u001b[38;5;124;43m'\u001b[39;49m\u001b[38;5;124;43mtight\u001b[39;49m\u001b[38;5;124;43m'\u001b[39;49m\u001b[43m)\u001b[49m\n\u001b[1;32m    242\u001b[0m     \u001b[38;5;28mprint\u001b[39m(\u001b[38;5;124m'\u001b[39m\u001b[38;5;132;01m{}\u001b[39;00m\u001b[38;5;124m: made \u001b[39m\u001b[38;5;132;01m{}\u001b[39;00m\u001b[38;5;124m'\u001b[39m\u001b[38;5;241m.\u001b[39mformat(datetime\u001b[38;5;241m.\u001b[39mnow()\u001b[38;5;241m.\u001b[39misoformat(), figpath))\n\u001b[1;32m    244\u001b[0m     \u001b[38;5;28;01mif\u001b[39;00m writepdf:\n",
      "File \u001b[0;32m~/miniconda3/envs/project/lib/python3.8/site-packages/matplotlib/figure.py:2203\u001b[0m, in \u001b[0;36mFigure.savefig\u001b[0;34m(self, fname, transparent, **kwargs)\u001b[0m\n\u001b[1;32m   2200\u001b[0m     original_frameon \u001b[38;5;241m=\u001b[39m \u001b[38;5;28mself\u001b[39m\u001b[38;5;241m.\u001b[39mpatch\u001b[38;5;241m.\u001b[39mget_visible()\n\u001b[1;32m   2201\u001b[0m     \u001b[38;5;28mself\u001b[39m\u001b[38;5;241m.\u001b[39mpatch\u001b[38;5;241m.\u001b[39mset_visible(frameon)\n\u001b[0;32m-> 2203\u001b[0m \u001b[38;5;28;43mself\u001b[39;49m\u001b[38;5;241;43m.\u001b[39;49m\u001b[43mcanvas\u001b[49m\u001b[38;5;241;43m.\u001b[39;49m\u001b[43mprint_figure\u001b[49m\u001b[43m(\u001b[49m\u001b[43mfname\u001b[49m\u001b[43m,\u001b[49m\u001b[43m \u001b[49m\u001b[38;5;241;43m*\u001b[39;49m\u001b[38;5;241;43m*\u001b[39;49m\u001b[43mkwargs\u001b[49m\u001b[43m)\u001b[49m\n\u001b[1;32m   2205\u001b[0m \u001b[38;5;28;01mif\u001b[39;00m frameon:\n\u001b[1;32m   2206\u001b[0m     \u001b[38;5;28mself\u001b[39m\u001b[38;5;241m.\u001b[39mpatch\u001b[38;5;241m.\u001b[39mset_visible(original_frameon)\n",
      "File \u001b[0;32m~/miniconda3/envs/project/lib/python3.8/site-packages/matplotlib/backend_bases.py:2100\u001b[0m, in \u001b[0;36mFigureCanvasBase.print_figure\u001b[0;34m(self, filename, dpi, facecolor, edgecolor, orientation, format, bbox_inches, **kwargs)\u001b[0m\n\u001b[1;32m   2096\u001b[0m ctx \u001b[38;5;241m=\u001b[39m (renderer\u001b[38;5;241m.\u001b[39m_draw_disabled()\n\u001b[1;32m   2097\u001b[0m        \u001b[38;5;28;01mif\u001b[39;00m \u001b[38;5;28mhasattr\u001b[39m(renderer, \u001b[38;5;124m'\u001b[39m\u001b[38;5;124m_draw_disabled\u001b[39m\u001b[38;5;124m'\u001b[39m)\n\u001b[1;32m   2098\u001b[0m        \u001b[38;5;28;01melse\u001b[39;00m suppress())\n\u001b[1;32m   2099\u001b[0m \u001b[38;5;28;01mwith\u001b[39;00m ctx:\n\u001b[0;32m-> 2100\u001b[0m     \u001b[38;5;28;43mself\u001b[39;49m\u001b[38;5;241;43m.\u001b[39;49m\u001b[43mfigure\u001b[49m\u001b[38;5;241;43m.\u001b[39;49m\u001b[43mdraw\u001b[49m\u001b[43m(\u001b[49m\u001b[43mrenderer\u001b[49m\u001b[43m)\u001b[49m\n\u001b[1;32m   2101\u001b[0m bbox_artists \u001b[38;5;241m=\u001b[39m kwargs\u001b[38;5;241m.\u001b[39mpop(\u001b[38;5;124m\"\u001b[39m\u001b[38;5;124mbbox_extra_artists\u001b[39m\u001b[38;5;124m\"\u001b[39m, \u001b[38;5;28;01mNone\u001b[39;00m)\n\u001b[1;32m   2102\u001b[0m bbox_inches \u001b[38;5;241m=\u001b[39m \u001b[38;5;28mself\u001b[39m\u001b[38;5;241m.\u001b[39mfigure\u001b[38;5;241m.\u001b[39mget_tightbbox(renderer,\n\u001b[1;32m   2103\u001b[0m         bbox_extra_artists\u001b[38;5;241m=\u001b[39mbbox_artists)\n",
      "File \u001b[0;32m~/miniconda3/envs/project/lib/python3.8/site-packages/matplotlib/artist.py:38\u001b[0m, in \u001b[0;36mallow_rasterization.<locals>.draw_wrapper\u001b[0;34m(artist, renderer, *args, **kwargs)\u001b[0m\n\u001b[1;32m     35\u001b[0m     \u001b[38;5;28;01mif\u001b[39;00m artist\u001b[38;5;241m.\u001b[39mget_agg_filter() \u001b[38;5;129;01mis\u001b[39;00m \u001b[38;5;129;01mnot\u001b[39;00m \u001b[38;5;28;01mNone\u001b[39;00m:\n\u001b[1;32m     36\u001b[0m         renderer\u001b[38;5;241m.\u001b[39mstart_filter()\n\u001b[0;32m---> 38\u001b[0m     \u001b[38;5;28;01mreturn\u001b[39;00m \u001b[43mdraw\u001b[49m\u001b[43m(\u001b[49m\u001b[43martist\u001b[49m\u001b[43m,\u001b[49m\u001b[43m \u001b[49m\u001b[43mrenderer\u001b[49m\u001b[43m,\u001b[49m\u001b[43m \u001b[49m\u001b[38;5;241;43m*\u001b[39;49m\u001b[43margs\u001b[49m\u001b[43m,\u001b[49m\u001b[43m \u001b[49m\u001b[38;5;241;43m*\u001b[39;49m\u001b[38;5;241;43m*\u001b[39;49m\u001b[43mkwargs\u001b[49m\u001b[43m)\u001b[49m\n\u001b[1;32m     39\u001b[0m \u001b[38;5;28;01mfinally\u001b[39;00m:\n\u001b[1;32m     40\u001b[0m     \u001b[38;5;28;01mif\u001b[39;00m artist\u001b[38;5;241m.\u001b[39mget_agg_filter() \u001b[38;5;129;01mis\u001b[39;00m \u001b[38;5;129;01mnot\u001b[39;00m \u001b[38;5;28;01mNone\u001b[39;00m:\n",
      "File \u001b[0;32m~/miniconda3/envs/project/lib/python3.8/site-packages/matplotlib/figure.py:1735\u001b[0m, in \u001b[0;36mFigure.draw\u001b[0;34m(self, renderer)\u001b[0m\n\u001b[1;32m   1732\u001b[0m             \u001b[38;5;66;03m# ValueError can occur when resizing a window.\u001b[39;00m\n\u001b[1;32m   1734\u001b[0m     \u001b[38;5;28mself\u001b[39m\u001b[38;5;241m.\u001b[39mpatch\u001b[38;5;241m.\u001b[39mdraw(renderer)\n\u001b[0;32m-> 1735\u001b[0m     \u001b[43mmimage\u001b[49m\u001b[38;5;241;43m.\u001b[39;49m\u001b[43m_draw_list_compositing_images\u001b[49m\u001b[43m(\u001b[49m\n\u001b[1;32m   1736\u001b[0m \u001b[43m        \u001b[49m\u001b[43mrenderer\u001b[49m\u001b[43m,\u001b[49m\u001b[43m \u001b[49m\u001b[38;5;28;43mself\u001b[39;49m\u001b[43m,\u001b[49m\u001b[43m \u001b[49m\u001b[43martists\u001b[49m\u001b[43m,\u001b[49m\u001b[43m \u001b[49m\u001b[38;5;28;43mself\u001b[39;49m\u001b[38;5;241;43m.\u001b[39;49m\u001b[43msuppressComposite\u001b[49m\u001b[43m)\u001b[49m\n\u001b[1;32m   1738\u001b[0m     renderer\u001b[38;5;241m.\u001b[39mclose_group(\u001b[38;5;124m'\u001b[39m\u001b[38;5;124mfigure\u001b[39m\u001b[38;5;124m'\u001b[39m)\n\u001b[1;32m   1739\u001b[0m \u001b[38;5;28;01mfinally\u001b[39;00m:\n",
      "File \u001b[0;32m~/miniconda3/envs/project/lib/python3.8/site-packages/matplotlib/image.py:137\u001b[0m, in \u001b[0;36m_draw_list_compositing_images\u001b[0;34m(renderer, parent, artists, suppress_composite)\u001b[0m\n\u001b[1;32m    135\u001b[0m \u001b[38;5;28;01mif\u001b[39;00m not_composite \u001b[38;5;129;01mor\u001b[39;00m \u001b[38;5;129;01mnot\u001b[39;00m has_images:\n\u001b[1;32m    136\u001b[0m     \u001b[38;5;28;01mfor\u001b[39;00m a \u001b[38;5;129;01min\u001b[39;00m artists:\n\u001b[0;32m--> 137\u001b[0m         \u001b[43ma\u001b[49m\u001b[38;5;241;43m.\u001b[39;49m\u001b[43mdraw\u001b[49m\u001b[43m(\u001b[49m\u001b[43mrenderer\u001b[49m\u001b[43m)\u001b[49m\n\u001b[1;32m    138\u001b[0m \u001b[38;5;28;01melse\u001b[39;00m:\n\u001b[1;32m    139\u001b[0m     \u001b[38;5;66;03m# Composite any adjacent images together\u001b[39;00m\n\u001b[1;32m    140\u001b[0m     image_group \u001b[38;5;241m=\u001b[39m []\n",
      "File \u001b[0;32m~/miniconda3/envs/project/lib/python3.8/site-packages/matplotlib/artist.py:38\u001b[0m, in \u001b[0;36mallow_rasterization.<locals>.draw_wrapper\u001b[0;34m(artist, renderer, *args, **kwargs)\u001b[0m\n\u001b[1;32m     35\u001b[0m     \u001b[38;5;28;01mif\u001b[39;00m artist\u001b[38;5;241m.\u001b[39mget_agg_filter() \u001b[38;5;129;01mis\u001b[39;00m \u001b[38;5;129;01mnot\u001b[39;00m \u001b[38;5;28;01mNone\u001b[39;00m:\n\u001b[1;32m     36\u001b[0m         renderer\u001b[38;5;241m.\u001b[39mstart_filter()\n\u001b[0;32m---> 38\u001b[0m     \u001b[38;5;28;01mreturn\u001b[39;00m \u001b[43mdraw\u001b[49m\u001b[43m(\u001b[49m\u001b[43martist\u001b[49m\u001b[43m,\u001b[49m\u001b[43m \u001b[49m\u001b[43mrenderer\u001b[49m\u001b[43m,\u001b[49m\u001b[43m \u001b[49m\u001b[38;5;241;43m*\u001b[39;49m\u001b[43margs\u001b[49m\u001b[43m,\u001b[49m\u001b[43m \u001b[49m\u001b[38;5;241;43m*\u001b[39;49m\u001b[38;5;241;43m*\u001b[39;49m\u001b[43mkwargs\u001b[49m\u001b[43m)\u001b[49m\n\u001b[1;32m     39\u001b[0m \u001b[38;5;28;01mfinally\u001b[39;00m:\n\u001b[1;32m     40\u001b[0m     \u001b[38;5;28;01mif\u001b[39;00m artist\u001b[38;5;241m.\u001b[39mget_agg_filter() \u001b[38;5;129;01mis\u001b[39;00m \u001b[38;5;129;01mnot\u001b[39;00m \u001b[38;5;28;01mNone\u001b[39;00m:\n",
      "File \u001b[0;32m~/miniconda3/envs/project/lib/python3.8/site-packages/matplotlib/axes/_base.py:2590\u001b[0m, in \u001b[0;36m_AxesBase.draw\u001b[0;34m(self, renderer, inframe)\u001b[0m\n\u001b[1;32m   2587\u001b[0m     \u001b[38;5;28;01mfor\u001b[39;00m spine \u001b[38;5;129;01min\u001b[39;00m \u001b[38;5;28mself\u001b[39m\u001b[38;5;241m.\u001b[39mspines\u001b[38;5;241m.\u001b[39mvalues():\n\u001b[1;32m   2588\u001b[0m         artists\u001b[38;5;241m.\u001b[39mremove(spine)\n\u001b[0;32m-> 2590\u001b[0m \u001b[38;5;28;43mself\u001b[39;49m\u001b[38;5;241;43m.\u001b[39;49m\u001b[43m_update_title_position\u001b[49m\u001b[43m(\u001b[49m\u001b[43mrenderer\u001b[49m\u001b[43m)\u001b[49m\n\u001b[1;32m   2592\u001b[0m \u001b[38;5;28;01mif\u001b[39;00m \u001b[38;5;129;01mnot\u001b[39;00m \u001b[38;5;28mself\u001b[39m\u001b[38;5;241m.\u001b[39maxison \u001b[38;5;129;01mor\u001b[39;00m inframe:\n\u001b[1;32m   2593\u001b[0m     \u001b[38;5;28;01mfor\u001b[39;00m _axis \u001b[38;5;129;01min\u001b[39;00m \u001b[38;5;28mself\u001b[39m\u001b[38;5;241m.\u001b[39m_get_axis_list():\n",
      "File \u001b[0;32m~/miniconda3/envs/project/lib/python3.8/site-packages/matplotlib/axes/_base.py:2538\u001b[0m, in \u001b[0;36m_AxesBase._update_title_position\u001b[0;34m(self, renderer)\u001b[0m\n\u001b[1;32m   2536\u001b[0m     \u001b[38;5;28;01mif\u001b[39;00m bb \u001b[38;5;129;01mis\u001b[39;00m \u001b[38;5;129;01mnot\u001b[39;00m \u001b[38;5;28;01mNone\u001b[39;00m:\n\u001b[1;32m   2537\u001b[0m         top \u001b[38;5;241m=\u001b[39m \u001b[38;5;28mmax\u001b[39m(top, bb\u001b[38;5;241m.\u001b[39mymax)\n\u001b[0;32m-> 2538\u001b[0m \u001b[38;5;28;01mif\u001b[39;00m \u001b[43mtitle\u001b[49m\u001b[38;5;241;43m.\u001b[39;49m\u001b[43mget_window_extent\u001b[49m\u001b[43m(\u001b[49m\u001b[43mrenderer\u001b[49m\u001b[43m)\u001b[49m\u001b[38;5;241m.\u001b[39mymin \u001b[38;5;241m<\u001b[39m top:\n\u001b[1;32m   2539\u001b[0m     _, y \u001b[38;5;241m=\u001b[39m \u001b[38;5;28mself\u001b[39m\u001b[38;5;241m.\u001b[39mtransAxes\u001b[38;5;241m.\u001b[39minverted()\u001b[38;5;241m.\u001b[39mtransform((\u001b[38;5;241m0\u001b[39m, top))\n\u001b[1;32m   2540\u001b[0m     title\u001b[38;5;241m.\u001b[39mset_position((x, y))\n",
      "File \u001b[0;32m~/miniconda3/envs/project/lib/python3.8/site-packages/matplotlib/text.py:905\u001b[0m, in \u001b[0;36mText.get_window_extent\u001b[0;34m(self, renderer, dpi)\u001b[0m\n\u001b[1;32m    902\u001b[0m \u001b[38;5;28;01mif\u001b[39;00m \u001b[38;5;28mself\u001b[39m\u001b[38;5;241m.\u001b[39m_renderer \u001b[38;5;129;01mis\u001b[39;00m \u001b[38;5;28;01mNone\u001b[39;00m:\n\u001b[1;32m    903\u001b[0m     \u001b[38;5;28;01mraise\u001b[39;00m \u001b[38;5;167;01mRuntimeError\u001b[39;00m(\u001b[38;5;124m'\u001b[39m\u001b[38;5;124mCannot get window extent w/o renderer\u001b[39m\u001b[38;5;124m'\u001b[39m)\n\u001b[0;32m--> 905\u001b[0m bbox, info, descent \u001b[38;5;241m=\u001b[39m \u001b[38;5;28;43mself\u001b[39;49m\u001b[38;5;241;43m.\u001b[39;49m\u001b[43m_get_layout\u001b[49m\u001b[43m(\u001b[49m\u001b[38;5;28;43mself\u001b[39;49m\u001b[38;5;241;43m.\u001b[39;49m\u001b[43m_renderer\u001b[49m\u001b[43m)\u001b[49m\n\u001b[1;32m    906\u001b[0m x, y \u001b[38;5;241m=\u001b[39m \u001b[38;5;28mself\u001b[39m\u001b[38;5;241m.\u001b[39mget_unitless_position()\n\u001b[1;32m    907\u001b[0m x, y \u001b[38;5;241m=\u001b[39m \u001b[38;5;28mself\u001b[39m\u001b[38;5;241m.\u001b[39mget_transform()\u001b[38;5;241m.\u001b[39mtransform((x, y))\n",
      "File \u001b[0;32m~/miniconda3/envs/project/lib/python3.8/site-packages/matplotlib/text.py:299\u001b[0m, in \u001b[0;36mText._get_layout\u001b[0;34m(self, renderer)\u001b[0m\n\u001b[1;32m    297\u001b[0m clean_line, ismath \u001b[38;5;241m=\u001b[39m \u001b[38;5;28mself\u001b[39m\u001b[38;5;241m.\u001b[39m_preprocess_math(line)\n\u001b[1;32m    298\u001b[0m \u001b[38;5;28;01mif\u001b[39;00m clean_line:\n\u001b[0;32m--> 299\u001b[0m     w, h, d \u001b[38;5;241m=\u001b[39m \u001b[43mrenderer\u001b[49m\u001b[38;5;241;43m.\u001b[39;49m\u001b[43mget_text_width_height_descent\u001b[49m\u001b[43m(\u001b[49m\n\u001b[1;32m    300\u001b[0m \u001b[43m        \u001b[49m\u001b[43mclean_line\u001b[49m\u001b[43m,\u001b[49m\u001b[43m \u001b[49m\u001b[38;5;28;43mself\u001b[39;49m\u001b[38;5;241;43m.\u001b[39;49m\u001b[43m_fontproperties\u001b[49m\u001b[43m,\u001b[49m\u001b[43m \u001b[49m\u001b[43mismath\u001b[49m\u001b[38;5;241;43m=\u001b[39;49m\u001b[43mismath\u001b[49m\u001b[43m)\u001b[49m\n\u001b[1;32m    301\u001b[0m \u001b[38;5;28;01melse\u001b[39;00m:\n\u001b[1;32m    302\u001b[0m     w \u001b[38;5;241m=\u001b[39m h \u001b[38;5;241m=\u001b[39m d \u001b[38;5;241m=\u001b[39m \u001b[38;5;241m0\u001b[39m\n",
      "File \u001b[0;32m~/miniconda3/envs/project/lib/python3.8/site-packages/matplotlib/backends/backend_agg.py:203\u001b[0m, in \u001b[0;36mRendererAgg.get_text_width_height_descent\u001b[0;34m(self, s, prop, ismath)\u001b[0m\n\u001b[1;32m    201\u001b[0m     texmanager \u001b[38;5;241m=\u001b[39m \u001b[38;5;28mself\u001b[39m\u001b[38;5;241m.\u001b[39mget_texmanager()\n\u001b[1;32m    202\u001b[0m     fontsize \u001b[38;5;241m=\u001b[39m prop\u001b[38;5;241m.\u001b[39mget_size_in_points()\n\u001b[0;32m--> 203\u001b[0m     w, h, d \u001b[38;5;241m=\u001b[39m \u001b[43mtexmanager\u001b[49m\u001b[38;5;241;43m.\u001b[39;49m\u001b[43mget_text_width_height_descent\u001b[49m\u001b[43m(\u001b[49m\n\u001b[1;32m    204\u001b[0m \u001b[43m        \u001b[49m\u001b[43ms\u001b[49m\u001b[43m,\u001b[49m\u001b[43m \u001b[49m\u001b[43mfontsize\u001b[49m\u001b[43m,\u001b[49m\u001b[43m \u001b[49m\u001b[43mrenderer\u001b[49m\u001b[38;5;241;43m=\u001b[39;49m\u001b[38;5;28;43mself\u001b[39;49m\u001b[43m)\u001b[49m\n\u001b[1;32m    205\u001b[0m     \u001b[38;5;28;01mreturn\u001b[39;00m w, h, d\n\u001b[1;32m    207\u001b[0m \u001b[38;5;28;01mif\u001b[39;00m ismath:\n",
      "File \u001b[0;32m~/miniconda3/envs/project/lib/python3.8/site-packages/matplotlib/texmanager.py:458\u001b[0m, in \u001b[0;36mTexManager.get_text_width_height_descent\u001b[0;34m(self, tex, fontsize, renderer)\u001b[0m\n\u001b[1;32m    454\u001b[0m     \u001b[38;5;28;01mreturn\u001b[39;00m width, height \u001b[38;5;241m+\u001b[39m depth, depth\n\u001b[1;32m    456\u001b[0m \u001b[38;5;28;01melse\u001b[39;00m:\n\u001b[1;32m    457\u001b[0m     \u001b[38;5;66;03m# use dviread.\u001b[39;00m\n\u001b[0;32m--> 458\u001b[0m     dvifile \u001b[38;5;241m=\u001b[39m \u001b[38;5;28;43mself\u001b[39;49m\u001b[38;5;241;43m.\u001b[39;49m\u001b[43mmake_dvi\u001b[49m\u001b[43m(\u001b[49m\u001b[43mtex\u001b[49m\u001b[43m,\u001b[49m\u001b[43m \u001b[49m\u001b[43mfontsize\u001b[49m\u001b[43m)\u001b[49m\n\u001b[1;32m    459\u001b[0m     \u001b[38;5;28;01mwith\u001b[39;00m dviread\u001b[38;5;241m.\u001b[39mDvi(dvifile, \u001b[38;5;241m72\u001b[39m \u001b[38;5;241m*\u001b[39m dpi_fraction) \u001b[38;5;28;01mas\u001b[39;00m dvi:\n\u001b[1;32m    460\u001b[0m         page, \u001b[38;5;241m=\u001b[39m dvi\n",
      "File \u001b[0;32m~/miniconda3/envs/project/lib/python3.8/site-packages/matplotlib/texmanager.py:338\u001b[0m, in \u001b[0;36mTexManager.make_dvi\u001b[0;34m(self, tex, fontsize)\u001b[0m\n\u001b[1;32m    336\u001b[0m texfile \u001b[38;5;241m=\u001b[39m \u001b[38;5;28mself\u001b[39m\u001b[38;5;241m.\u001b[39mmake_tex(tex, fontsize)\n\u001b[1;32m    337\u001b[0m \u001b[38;5;28;01mwith\u001b[39;00m cbook\u001b[38;5;241m.\u001b[39m_lock_path(texfile):\n\u001b[0;32m--> 338\u001b[0m     \u001b[38;5;28;43mself\u001b[39;49m\u001b[38;5;241;43m.\u001b[39;49m\u001b[43m_run_checked_subprocess\u001b[49m\u001b[43m(\u001b[49m\n\u001b[1;32m    339\u001b[0m \u001b[43m        \u001b[49m\u001b[43m[\u001b[49m\u001b[38;5;124;43m\"\u001b[39;49m\u001b[38;5;124;43mlatex\u001b[39;49m\u001b[38;5;124;43m\"\u001b[39;49m\u001b[43m,\u001b[49m\u001b[43m \u001b[49m\u001b[38;5;124;43m\"\u001b[39;49m\u001b[38;5;124;43m-interaction=nonstopmode\u001b[39;49m\u001b[38;5;124;43m\"\u001b[39;49m\u001b[43m,\u001b[49m\u001b[43m \u001b[49m\u001b[38;5;124;43m\"\u001b[39;49m\u001b[38;5;124;43m--halt-on-error\u001b[39;49m\u001b[38;5;124;43m\"\u001b[39;49m\u001b[43m,\u001b[49m\n\u001b[1;32m    340\u001b[0m \u001b[43m         \u001b[49m\u001b[43mtexfile\u001b[49m\u001b[43m]\u001b[49m\u001b[43m,\u001b[49m\u001b[43m \u001b[49m\u001b[43mtex\u001b[49m\u001b[43m)\u001b[49m\n\u001b[1;32m    341\u001b[0m \u001b[38;5;28;01mfor\u001b[39;00m fname \u001b[38;5;129;01min\u001b[39;00m glob\u001b[38;5;241m.\u001b[39mglob(basefile \u001b[38;5;241m+\u001b[39m \u001b[38;5;124m'\u001b[39m\u001b[38;5;124m*\u001b[39m\u001b[38;5;124m'\u001b[39m):\n\u001b[1;32m    342\u001b[0m     \u001b[38;5;28;01mif\u001b[39;00m \u001b[38;5;129;01mnot\u001b[39;00m fname\u001b[38;5;241m.\u001b[39mendswith((\u001b[38;5;124m'\u001b[39m\u001b[38;5;124mdvi\u001b[39m\u001b[38;5;124m'\u001b[39m, \u001b[38;5;124m'\u001b[39m\u001b[38;5;124mtex\u001b[39m\u001b[38;5;124m'\u001b[39m)):\n",
      "File \u001b[0;32m~/miniconda3/envs/project/lib/python3.8/site-packages/matplotlib/texmanager.py:312\u001b[0m, in \u001b[0;36mTexManager._run_checked_subprocess\u001b[0;34m(self, command, tex)\u001b[0m\n\u001b[1;32m    308\u001b[0m     \u001b[38;5;28;01mraise\u001b[39;00m \u001b[38;5;167;01mRuntimeError\u001b[39;00m(\n\u001b[1;32m    309\u001b[0m         \u001b[38;5;124m'\u001b[39m\u001b[38;5;124mFailed to process string with tex because \u001b[39m\u001b[38;5;132;01m{}\u001b[39;00m\u001b[38;5;124m could not be \u001b[39m\u001b[38;5;124m'\u001b[39m\n\u001b[1;32m    310\u001b[0m         \u001b[38;5;124m'\u001b[39m\u001b[38;5;124mfound\u001b[39m\u001b[38;5;124m'\u001b[39m\u001b[38;5;241m.\u001b[39mformat(command[\u001b[38;5;241m0\u001b[39m])) \u001b[38;5;28;01mfrom\u001b[39;00m \u001b[38;5;21;01mexc\u001b[39;00m\n\u001b[1;32m    311\u001b[0m \u001b[38;5;28;01mexcept\u001b[39;00m subprocess\u001b[38;5;241m.\u001b[39mCalledProcessError \u001b[38;5;28;01mas\u001b[39;00m exc:\n\u001b[0;32m--> 312\u001b[0m     \u001b[38;5;28;01mraise\u001b[39;00m \u001b[38;5;167;01mRuntimeError\u001b[39;00m(\n\u001b[1;32m    313\u001b[0m         \u001b[38;5;124m'\u001b[39m\u001b[38;5;132;01m{prog}\u001b[39;00m\u001b[38;5;124m was not able to process the following string:\u001b[39m\u001b[38;5;130;01m\\n\u001b[39;00m\u001b[38;5;124m'\u001b[39m\n\u001b[1;32m    314\u001b[0m         \u001b[38;5;124m'\u001b[39m\u001b[38;5;132;01m{tex!r}\u001b[39;00m\u001b[38;5;130;01m\\n\u001b[39;00m\u001b[38;5;130;01m\\n\u001b[39;00m\u001b[38;5;124m'\u001b[39m\n\u001b[1;32m    315\u001b[0m         \u001b[38;5;124m'\u001b[39m\u001b[38;5;124mHere is the full report generated by \u001b[39m\u001b[38;5;132;01m{prog}\u001b[39;00m\u001b[38;5;124m:\u001b[39m\u001b[38;5;130;01m\\n\u001b[39;00m\u001b[38;5;124m'\u001b[39m\n\u001b[1;32m    316\u001b[0m         \u001b[38;5;124m'\u001b[39m\u001b[38;5;132;01m{exc}\u001b[39;00m\u001b[38;5;130;01m\\n\u001b[39;00m\u001b[38;5;130;01m\\n\u001b[39;00m\u001b[38;5;124m'\u001b[39m\u001b[38;5;241m.\u001b[39mformat(\n\u001b[1;32m    317\u001b[0m             prog\u001b[38;5;241m=\u001b[39mcommand[\u001b[38;5;241m0\u001b[39m],\n\u001b[1;32m    318\u001b[0m             tex\u001b[38;5;241m=\u001b[39mtex\u001b[38;5;241m.\u001b[39mencode(\u001b[38;5;124m'\u001b[39m\u001b[38;5;124municode_escape\u001b[39m\u001b[38;5;124m'\u001b[39m),\n\u001b[1;32m    319\u001b[0m             exc\u001b[38;5;241m=\u001b[39mexc\u001b[38;5;241m.\u001b[39moutput\u001b[38;5;241m.\u001b[39mdecode(\u001b[38;5;124m'\u001b[39m\u001b[38;5;124mutf-8\u001b[39m\u001b[38;5;124m'\u001b[39m))) \u001b[38;5;28;01mfrom\u001b[39;00m \u001b[38;5;21;01mexc\u001b[39;00m\n\u001b[1;32m    320\u001b[0m _log\u001b[38;5;241m.\u001b[39mdebug(report)\n\u001b[1;32m    321\u001b[0m \u001b[38;5;28;01mreturn\u001b[39;00m report\n",
      "\u001b[0;31mRuntimeError\u001b[0m: latex was not able to process the following string:\nb'logf_pbh = ${-4.46}_{-3.05}^{+3.03}$'\n\nHere is the full report generated by latex:\nThis is pdfTeX, Version 3.141592653-2.6-1.40.24 (TeX Live 2022) (preloaded format=latex)\n restricted \\write18 enabled.\nentering extended mode\n(/Users/fangirl/.matplotlib/tex.cache/bbae94166c65f55c834fe220190eaf23.tex\nLaTeX2e <2021-11-15> patch level 1\nL3 programming layer <2022-02-24>\n(/usr/local/texlive/2022/texmf-dist/tex/latex/base/article.cls\nDocument Class: article 2021/10/04 v1.4n Standard LaTeX document class\n(/usr/local/texlive/2022/texmf-dist/tex/latex/base/size10.clo))\n(/usr/local/texlive/2022/texmf-dist/tex/latex/type1cm/type1cm.sty)\n(/usr/local/texlive/2022/texmf-dist/tex/latex/cm-super/type1ec.sty\n(/usr/local/texlive/2022/texmf-dist/tex/latex/base/t1cmr.fd))\n(/usr/local/texlive/2022/texmf-dist/tex/latex/base/textcomp.sty)\n(/usr/local/texlive/2022/texmf-dist/tex/latex/base/inputenc.sty)\n(/usr/local/texlive/2022/texmf-dist/tex/latex/geometry/geometry.sty\n(/usr/local/texlive/2022/texmf-dist/tex/latex/graphics/keyval.sty)\n(/usr/local/texlive/2022/texmf-dist/tex/generic/iftex/ifvtex.sty\n(/usr/local/texlive/2022/texmf-dist/tex/generic/iftex/iftex.sty))\n\nPackage geometry Warning: Over-specification in `h'-direction.\n    `width' (5058.9pt) is ignored.\n\n\nPackage geometry Warning: Over-specification in `v'-direction.\n    `height' (5058.9pt) is ignored.\n\n) (/usr/local/texlive/2022/texmf-dist/tex/latex/amsmath/amsmath.sty\nFor additional information on amsmath, use the `?' option.\n(/usr/local/texlive/2022/texmf-dist/tex/latex/amsmath/amstext.sty\n(/usr/local/texlive/2022/texmf-dist/tex/latex/amsmath/amsgen.sty))\n(/usr/local/texlive/2022/texmf-dist/tex/latex/amsmath/amsbsy.sty)\n(/usr/local/texlive/2022/texmf-dist/tex/latex/amsmath/amsopn.sty))\n(/usr/local/texlive/2022/texmf-dist/tex/latex/l3backend/l3backend-dvips.def)\nNo file bbae94166c65f55c834fe220190eaf23.aux.\n*geometry* driver: auto-detecting\n*geometry* detected driver: dvips\n! Missing $ inserted.\n<inserted text> \n                $\nl.19 {\\rmfamily logf_\n                     pbh = ${-4.46}_{-3.05}^{+3.03}$}\nNo pages of output.\nTranscript written on bbae94166c65f55c834fe220190eaf23.log.\n\n\n"
     ]
    },
    {
     "ename": "RuntimeError",
     "evalue": "latex was not able to process the following string:\nb'logf_pbh = ${-4.46}_{-3.05}^{+3.03}$'\n\nHere is the full report generated by latex:\nThis is pdfTeX, Version 3.141592653-2.6-1.40.24 (TeX Live 2022) (preloaded format=latex)\n restricted \\write18 enabled.\nentering extended mode\n(/Users/fangirl/.matplotlib/tex.cache/bbae94166c65f55c834fe220190eaf23.tex\nLaTeX2e <2021-11-15> patch level 1\nL3 programming layer <2022-02-24>\n(/usr/local/texlive/2022/texmf-dist/tex/latex/base/article.cls\nDocument Class: article 2021/10/04 v1.4n Standard LaTeX document class\n(/usr/local/texlive/2022/texmf-dist/tex/latex/base/size10.clo))\n(/usr/local/texlive/2022/texmf-dist/tex/latex/type1cm/type1cm.sty)\n(/usr/local/texlive/2022/texmf-dist/tex/latex/cm-super/type1ec.sty\n(/usr/local/texlive/2022/texmf-dist/tex/latex/base/t1cmr.fd))\n(/usr/local/texlive/2022/texmf-dist/tex/latex/base/textcomp.sty)\n(/usr/local/texlive/2022/texmf-dist/tex/latex/base/inputenc.sty)\n(/usr/local/texlive/2022/texmf-dist/tex/latex/geometry/geometry.sty\n(/usr/local/texlive/2022/texmf-dist/tex/latex/graphics/keyval.sty)\n(/usr/local/texlive/2022/texmf-dist/tex/generic/iftex/ifvtex.sty\n(/usr/local/texlive/2022/texmf-dist/tex/generic/iftex/iftex.sty))\n\nPackage geometry Warning: Over-specification in `h'-direction.\n    `width' (5058.9pt) is ignored.\n\n\nPackage geometry Warning: Over-specification in `v'-direction.\n    `height' (5058.9pt) is ignored.\n\n) (/usr/local/texlive/2022/texmf-dist/tex/latex/amsmath/amsmath.sty\nFor additional information on amsmath, use the `?' option.\n(/usr/local/texlive/2022/texmf-dist/tex/latex/amsmath/amstext.sty\n(/usr/local/texlive/2022/texmf-dist/tex/latex/amsmath/amsgen.sty))\n(/usr/local/texlive/2022/texmf-dist/tex/latex/amsmath/amsbsy.sty)\n(/usr/local/texlive/2022/texmf-dist/tex/latex/amsmath/amsopn.sty))\n(/usr/local/texlive/2022/texmf-dist/tex/latex/l3backend/l3backend-dvips.def)\n(./bbae94166c65f55c834fe220190eaf23.aux)\n*geometry* driver: auto-detecting\n*geometry* detected driver: dvips\n! Missing $ inserted.\n<inserted text> \n                $\nl.19 {\\rmfamily logf_\n                     pbh = ${-4.46}_{-3.05}^{+3.03}$}\nNo pages of output.\nTranscript written on bbae94166c65f55c834fe220190eaf23.log.\n\n\n",
     "output_type": "error",
     "traceback": [
      "\u001b[0;31m---------------------------------------------------------------------------\u001b[0m",
      "\u001b[0;31mCalledProcessError\u001b[0m                        Traceback (most recent call last)",
      "File \u001b[0;32m~/miniconda3/envs/project/lib/python3.8/site-packages/matplotlib/texmanager.py:304\u001b[0m, in \u001b[0;36mTexManager._run_checked_subprocess\u001b[0;34m(self, command, tex)\u001b[0m\n\u001b[1;32m    303\u001b[0m \u001b[38;5;28;01mtry\u001b[39;00m:\n\u001b[0;32m--> 304\u001b[0m     report \u001b[38;5;241m=\u001b[39m \u001b[43msubprocess\u001b[49m\u001b[38;5;241;43m.\u001b[39;49m\u001b[43mcheck_output\u001b[49m\u001b[43m(\u001b[49m\u001b[43mcommand\u001b[49m\u001b[43m,\u001b[49m\n\u001b[1;32m    305\u001b[0m \u001b[43m                                     \u001b[49m\u001b[43mcwd\u001b[49m\u001b[38;5;241;43m=\u001b[39;49m\u001b[38;5;28;43mself\u001b[39;49m\u001b[38;5;241;43m.\u001b[39;49m\u001b[43mtexcache\u001b[49m\u001b[43m,\u001b[49m\n\u001b[1;32m    306\u001b[0m \u001b[43m                                     \u001b[49m\u001b[43mstderr\u001b[49m\u001b[38;5;241;43m=\u001b[39;49m\u001b[43msubprocess\u001b[49m\u001b[38;5;241;43m.\u001b[39;49m\u001b[43mSTDOUT\u001b[49m\u001b[43m)\u001b[49m\n\u001b[1;32m    307\u001b[0m \u001b[38;5;28;01mexcept\u001b[39;00m \u001b[38;5;167;01mFileNotFoundError\u001b[39;00m \u001b[38;5;28;01mas\u001b[39;00m exc:\n",
      "File \u001b[0;32m~/miniconda3/envs/project/lib/python3.8/subprocess.py:415\u001b[0m, in \u001b[0;36mcheck_output\u001b[0;34m(timeout, *popenargs, **kwargs)\u001b[0m\n\u001b[1;32m    413\u001b[0m     kwargs[\u001b[38;5;124m'\u001b[39m\u001b[38;5;124minput\u001b[39m\u001b[38;5;124m'\u001b[39m] \u001b[38;5;241m=\u001b[39m empty\n\u001b[0;32m--> 415\u001b[0m \u001b[38;5;28;01mreturn\u001b[39;00m \u001b[43mrun\u001b[49m\u001b[43m(\u001b[49m\u001b[38;5;241;43m*\u001b[39;49m\u001b[43mpopenargs\u001b[49m\u001b[43m,\u001b[49m\u001b[43m \u001b[49m\u001b[43mstdout\u001b[49m\u001b[38;5;241;43m=\u001b[39;49m\u001b[43mPIPE\u001b[49m\u001b[43m,\u001b[49m\u001b[43m \u001b[49m\u001b[43mtimeout\u001b[49m\u001b[38;5;241;43m=\u001b[39;49m\u001b[43mtimeout\u001b[49m\u001b[43m,\u001b[49m\u001b[43m \u001b[49m\u001b[43mcheck\u001b[49m\u001b[38;5;241;43m=\u001b[39;49m\u001b[38;5;28;43;01mTrue\u001b[39;49;00m\u001b[43m,\u001b[49m\n\u001b[1;32m    416\u001b[0m \u001b[43m           \u001b[49m\u001b[38;5;241;43m*\u001b[39;49m\u001b[38;5;241;43m*\u001b[39;49m\u001b[43mkwargs\u001b[49m\u001b[43m)\u001b[49m\u001b[38;5;241m.\u001b[39mstdout\n",
      "File \u001b[0;32m~/miniconda3/envs/project/lib/python3.8/subprocess.py:516\u001b[0m, in \u001b[0;36mrun\u001b[0;34m(input, capture_output, timeout, check, *popenargs, **kwargs)\u001b[0m\n\u001b[1;32m    515\u001b[0m     \u001b[38;5;28;01mif\u001b[39;00m check \u001b[38;5;129;01mand\u001b[39;00m retcode:\n\u001b[0;32m--> 516\u001b[0m         \u001b[38;5;28;01mraise\u001b[39;00m CalledProcessError(retcode, process\u001b[38;5;241m.\u001b[39margs,\n\u001b[1;32m    517\u001b[0m                                  output\u001b[38;5;241m=\u001b[39mstdout, stderr\u001b[38;5;241m=\u001b[39mstderr)\n\u001b[1;32m    518\u001b[0m \u001b[38;5;28;01mreturn\u001b[39;00m CompletedProcess(process\u001b[38;5;241m.\u001b[39margs, retcode, stdout, stderr)\n",
      "\u001b[0;31mCalledProcessError\u001b[0m: Command '['latex', '-interaction=nonstopmode', '--halt-on-error', '/Users/fangirl/.matplotlib/tex.cache/bbae94166c65f55c834fe220190eaf23.tex']' returned non-zero exit status 1.",
      "\nThe above exception was the direct cause of the following exception:\n",
      "\u001b[0;31mRuntimeError\u001b[0m                              Traceback (most recent call last)",
      "File \u001b[0;32m~/miniconda3/envs/project/lib/python3.8/site-packages/IPython/core/formatters.py:338\u001b[0m, in \u001b[0;36mBaseFormatter.__call__\u001b[0;34m(self, obj)\u001b[0m\n\u001b[1;32m    336\u001b[0m     \u001b[38;5;28;01mpass\u001b[39;00m\n\u001b[1;32m    337\u001b[0m \u001b[38;5;28;01melse\u001b[39;00m:\n\u001b[0;32m--> 338\u001b[0m     \u001b[38;5;28;01mreturn\u001b[39;00m \u001b[43mprinter\u001b[49m\u001b[43m(\u001b[49m\u001b[43mobj\u001b[49m\u001b[43m)\u001b[49m\n\u001b[1;32m    339\u001b[0m \u001b[38;5;66;03m# Finally look for special method names\u001b[39;00m\n\u001b[1;32m    340\u001b[0m method \u001b[38;5;241m=\u001b[39m get_real_method(obj, \u001b[38;5;28mself\u001b[39m\u001b[38;5;241m.\u001b[39mprint_method)\n",
      "File \u001b[0;32m~/miniconda3/envs/project/lib/python3.8/site-packages/IPython/core/pylabtools.py:152\u001b[0m, in \u001b[0;36mprint_figure\u001b[0;34m(fig, fmt, bbox_inches, base64, **kwargs)\u001b[0m\n\u001b[1;32m    149\u001b[0m     \u001b[38;5;28;01mfrom\u001b[39;00m \u001b[38;5;21;01mmatplotlib\u001b[39;00m\u001b[38;5;21;01m.\u001b[39;00m\u001b[38;5;21;01mbackend_bases\u001b[39;00m \u001b[38;5;28;01mimport\u001b[39;00m FigureCanvasBase\n\u001b[1;32m    150\u001b[0m     FigureCanvasBase(fig)\n\u001b[0;32m--> 152\u001b[0m \u001b[43mfig\u001b[49m\u001b[38;5;241;43m.\u001b[39;49m\u001b[43mcanvas\u001b[49m\u001b[38;5;241;43m.\u001b[39;49m\u001b[43mprint_figure\u001b[49m\u001b[43m(\u001b[49m\u001b[43mbytes_io\u001b[49m\u001b[43m,\u001b[49m\u001b[43m \u001b[49m\u001b[38;5;241;43m*\u001b[39;49m\u001b[38;5;241;43m*\u001b[39;49m\u001b[43mkw\u001b[49m\u001b[43m)\u001b[49m\n\u001b[1;32m    153\u001b[0m data \u001b[38;5;241m=\u001b[39m bytes_io\u001b[38;5;241m.\u001b[39mgetvalue()\n\u001b[1;32m    154\u001b[0m \u001b[38;5;28;01mif\u001b[39;00m fmt \u001b[38;5;241m==\u001b[39m \u001b[38;5;124m'\u001b[39m\u001b[38;5;124msvg\u001b[39m\u001b[38;5;124m'\u001b[39m:\n",
      "File \u001b[0;32m~/miniconda3/envs/project/lib/python3.8/site-packages/matplotlib/backend_bases.py:2100\u001b[0m, in \u001b[0;36mFigureCanvasBase.print_figure\u001b[0;34m(self, filename, dpi, facecolor, edgecolor, orientation, format, bbox_inches, **kwargs)\u001b[0m\n\u001b[1;32m   2096\u001b[0m ctx \u001b[38;5;241m=\u001b[39m (renderer\u001b[38;5;241m.\u001b[39m_draw_disabled()\n\u001b[1;32m   2097\u001b[0m        \u001b[38;5;28;01mif\u001b[39;00m \u001b[38;5;28mhasattr\u001b[39m(renderer, \u001b[38;5;124m'\u001b[39m\u001b[38;5;124m_draw_disabled\u001b[39m\u001b[38;5;124m'\u001b[39m)\n\u001b[1;32m   2098\u001b[0m        \u001b[38;5;28;01melse\u001b[39;00m suppress())\n\u001b[1;32m   2099\u001b[0m \u001b[38;5;28;01mwith\u001b[39;00m ctx:\n\u001b[0;32m-> 2100\u001b[0m     \u001b[38;5;28;43mself\u001b[39;49m\u001b[38;5;241;43m.\u001b[39;49m\u001b[43mfigure\u001b[49m\u001b[38;5;241;43m.\u001b[39;49m\u001b[43mdraw\u001b[49m\u001b[43m(\u001b[49m\u001b[43mrenderer\u001b[49m\u001b[43m)\u001b[49m\n\u001b[1;32m   2101\u001b[0m bbox_artists \u001b[38;5;241m=\u001b[39m kwargs\u001b[38;5;241m.\u001b[39mpop(\u001b[38;5;124m\"\u001b[39m\u001b[38;5;124mbbox_extra_artists\u001b[39m\u001b[38;5;124m\"\u001b[39m, \u001b[38;5;28;01mNone\u001b[39;00m)\n\u001b[1;32m   2102\u001b[0m bbox_inches \u001b[38;5;241m=\u001b[39m \u001b[38;5;28mself\u001b[39m\u001b[38;5;241m.\u001b[39mfigure\u001b[38;5;241m.\u001b[39mget_tightbbox(renderer,\n\u001b[1;32m   2103\u001b[0m         bbox_extra_artists\u001b[38;5;241m=\u001b[39mbbox_artists)\n",
      "File \u001b[0;32m~/miniconda3/envs/project/lib/python3.8/site-packages/matplotlib/artist.py:38\u001b[0m, in \u001b[0;36mallow_rasterization.<locals>.draw_wrapper\u001b[0;34m(artist, renderer, *args, **kwargs)\u001b[0m\n\u001b[1;32m     35\u001b[0m     \u001b[38;5;28;01mif\u001b[39;00m artist\u001b[38;5;241m.\u001b[39mget_agg_filter() \u001b[38;5;129;01mis\u001b[39;00m \u001b[38;5;129;01mnot\u001b[39;00m \u001b[38;5;28;01mNone\u001b[39;00m:\n\u001b[1;32m     36\u001b[0m         renderer\u001b[38;5;241m.\u001b[39mstart_filter()\n\u001b[0;32m---> 38\u001b[0m     \u001b[38;5;28;01mreturn\u001b[39;00m \u001b[43mdraw\u001b[49m\u001b[43m(\u001b[49m\u001b[43martist\u001b[49m\u001b[43m,\u001b[49m\u001b[43m \u001b[49m\u001b[43mrenderer\u001b[49m\u001b[43m,\u001b[49m\u001b[43m \u001b[49m\u001b[38;5;241;43m*\u001b[39;49m\u001b[43margs\u001b[49m\u001b[43m,\u001b[49m\u001b[43m \u001b[49m\u001b[38;5;241;43m*\u001b[39;49m\u001b[38;5;241;43m*\u001b[39;49m\u001b[43mkwargs\u001b[49m\u001b[43m)\u001b[49m\n\u001b[1;32m     39\u001b[0m \u001b[38;5;28;01mfinally\u001b[39;00m:\n\u001b[1;32m     40\u001b[0m     \u001b[38;5;28;01mif\u001b[39;00m artist\u001b[38;5;241m.\u001b[39mget_agg_filter() \u001b[38;5;129;01mis\u001b[39;00m \u001b[38;5;129;01mnot\u001b[39;00m \u001b[38;5;28;01mNone\u001b[39;00m:\n",
      "File \u001b[0;32m~/miniconda3/envs/project/lib/python3.8/site-packages/matplotlib/figure.py:1735\u001b[0m, in \u001b[0;36mFigure.draw\u001b[0;34m(self, renderer)\u001b[0m\n\u001b[1;32m   1732\u001b[0m             \u001b[38;5;66;03m# ValueError can occur when resizing a window.\u001b[39;00m\n\u001b[1;32m   1734\u001b[0m     \u001b[38;5;28mself\u001b[39m\u001b[38;5;241m.\u001b[39mpatch\u001b[38;5;241m.\u001b[39mdraw(renderer)\n\u001b[0;32m-> 1735\u001b[0m     \u001b[43mmimage\u001b[49m\u001b[38;5;241;43m.\u001b[39;49m\u001b[43m_draw_list_compositing_images\u001b[49m\u001b[43m(\u001b[49m\n\u001b[1;32m   1736\u001b[0m \u001b[43m        \u001b[49m\u001b[43mrenderer\u001b[49m\u001b[43m,\u001b[49m\u001b[43m \u001b[49m\u001b[38;5;28;43mself\u001b[39;49m\u001b[43m,\u001b[49m\u001b[43m \u001b[49m\u001b[43martists\u001b[49m\u001b[43m,\u001b[49m\u001b[43m \u001b[49m\u001b[38;5;28;43mself\u001b[39;49m\u001b[38;5;241;43m.\u001b[39;49m\u001b[43msuppressComposite\u001b[49m\u001b[43m)\u001b[49m\n\u001b[1;32m   1738\u001b[0m     renderer\u001b[38;5;241m.\u001b[39mclose_group(\u001b[38;5;124m'\u001b[39m\u001b[38;5;124mfigure\u001b[39m\u001b[38;5;124m'\u001b[39m)\n\u001b[1;32m   1739\u001b[0m \u001b[38;5;28;01mfinally\u001b[39;00m:\n",
      "File \u001b[0;32m~/miniconda3/envs/project/lib/python3.8/site-packages/matplotlib/image.py:137\u001b[0m, in \u001b[0;36m_draw_list_compositing_images\u001b[0;34m(renderer, parent, artists, suppress_composite)\u001b[0m\n\u001b[1;32m    135\u001b[0m \u001b[38;5;28;01mif\u001b[39;00m not_composite \u001b[38;5;129;01mor\u001b[39;00m \u001b[38;5;129;01mnot\u001b[39;00m has_images:\n\u001b[1;32m    136\u001b[0m     \u001b[38;5;28;01mfor\u001b[39;00m a \u001b[38;5;129;01min\u001b[39;00m artists:\n\u001b[0;32m--> 137\u001b[0m         \u001b[43ma\u001b[49m\u001b[38;5;241;43m.\u001b[39;49m\u001b[43mdraw\u001b[49m\u001b[43m(\u001b[49m\u001b[43mrenderer\u001b[49m\u001b[43m)\u001b[49m\n\u001b[1;32m    138\u001b[0m \u001b[38;5;28;01melse\u001b[39;00m:\n\u001b[1;32m    139\u001b[0m     \u001b[38;5;66;03m# Composite any adjacent images together\u001b[39;00m\n\u001b[1;32m    140\u001b[0m     image_group \u001b[38;5;241m=\u001b[39m []\n",
      "File \u001b[0;32m~/miniconda3/envs/project/lib/python3.8/site-packages/matplotlib/artist.py:38\u001b[0m, in \u001b[0;36mallow_rasterization.<locals>.draw_wrapper\u001b[0;34m(artist, renderer, *args, **kwargs)\u001b[0m\n\u001b[1;32m     35\u001b[0m     \u001b[38;5;28;01mif\u001b[39;00m artist\u001b[38;5;241m.\u001b[39mget_agg_filter() \u001b[38;5;129;01mis\u001b[39;00m \u001b[38;5;129;01mnot\u001b[39;00m \u001b[38;5;28;01mNone\u001b[39;00m:\n\u001b[1;32m     36\u001b[0m         renderer\u001b[38;5;241m.\u001b[39mstart_filter()\n\u001b[0;32m---> 38\u001b[0m     \u001b[38;5;28;01mreturn\u001b[39;00m \u001b[43mdraw\u001b[49m\u001b[43m(\u001b[49m\u001b[43martist\u001b[49m\u001b[43m,\u001b[49m\u001b[43m \u001b[49m\u001b[43mrenderer\u001b[49m\u001b[43m,\u001b[49m\u001b[43m \u001b[49m\u001b[38;5;241;43m*\u001b[39;49m\u001b[43margs\u001b[49m\u001b[43m,\u001b[49m\u001b[43m \u001b[49m\u001b[38;5;241;43m*\u001b[39;49m\u001b[38;5;241;43m*\u001b[39;49m\u001b[43mkwargs\u001b[49m\u001b[43m)\u001b[49m\n\u001b[1;32m     39\u001b[0m \u001b[38;5;28;01mfinally\u001b[39;00m:\n\u001b[1;32m     40\u001b[0m     \u001b[38;5;28;01mif\u001b[39;00m artist\u001b[38;5;241m.\u001b[39mget_agg_filter() \u001b[38;5;129;01mis\u001b[39;00m \u001b[38;5;129;01mnot\u001b[39;00m \u001b[38;5;28;01mNone\u001b[39;00m:\n",
      "File \u001b[0;32m~/miniconda3/envs/project/lib/python3.8/site-packages/matplotlib/axes/_base.py:2590\u001b[0m, in \u001b[0;36m_AxesBase.draw\u001b[0;34m(self, renderer, inframe)\u001b[0m\n\u001b[1;32m   2587\u001b[0m     \u001b[38;5;28;01mfor\u001b[39;00m spine \u001b[38;5;129;01min\u001b[39;00m \u001b[38;5;28mself\u001b[39m\u001b[38;5;241m.\u001b[39mspines\u001b[38;5;241m.\u001b[39mvalues():\n\u001b[1;32m   2588\u001b[0m         artists\u001b[38;5;241m.\u001b[39mremove(spine)\n\u001b[0;32m-> 2590\u001b[0m \u001b[38;5;28;43mself\u001b[39;49m\u001b[38;5;241;43m.\u001b[39;49m\u001b[43m_update_title_position\u001b[49m\u001b[43m(\u001b[49m\u001b[43mrenderer\u001b[49m\u001b[43m)\u001b[49m\n\u001b[1;32m   2592\u001b[0m \u001b[38;5;28;01mif\u001b[39;00m \u001b[38;5;129;01mnot\u001b[39;00m \u001b[38;5;28mself\u001b[39m\u001b[38;5;241m.\u001b[39maxison \u001b[38;5;129;01mor\u001b[39;00m inframe:\n\u001b[1;32m   2593\u001b[0m     \u001b[38;5;28;01mfor\u001b[39;00m _axis \u001b[38;5;129;01min\u001b[39;00m \u001b[38;5;28mself\u001b[39m\u001b[38;5;241m.\u001b[39m_get_axis_list():\n",
      "File \u001b[0;32m~/miniconda3/envs/project/lib/python3.8/site-packages/matplotlib/axes/_base.py:2538\u001b[0m, in \u001b[0;36m_AxesBase._update_title_position\u001b[0;34m(self, renderer)\u001b[0m\n\u001b[1;32m   2536\u001b[0m     \u001b[38;5;28;01mif\u001b[39;00m bb \u001b[38;5;129;01mis\u001b[39;00m \u001b[38;5;129;01mnot\u001b[39;00m \u001b[38;5;28;01mNone\u001b[39;00m:\n\u001b[1;32m   2537\u001b[0m         top \u001b[38;5;241m=\u001b[39m \u001b[38;5;28mmax\u001b[39m(top, bb\u001b[38;5;241m.\u001b[39mymax)\n\u001b[0;32m-> 2538\u001b[0m \u001b[38;5;28;01mif\u001b[39;00m \u001b[43mtitle\u001b[49m\u001b[38;5;241;43m.\u001b[39;49m\u001b[43mget_window_extent\u001b[49m\u001b[43m(\u001b[49m\u001b[43mrenderer\u001b[49m\u001b[43m)\u001b[49m\u001b[38;5;241m.\u001b[39mymin \u001b[38;5;241m<\u001b[39m top:\n\u001b[1;32m   2539\u001b[0m     _, y \u001b[38;5;241m=\u001b[39m \u001b[38;5;28mself\u001b[39m\u001b[38;5;241m.\u001b[39mtransAxes\u001b[38;5;241m.\u001b[39minverted()\u001b[38;5;241m.\u001b[39mtransform((\u001b[38;5;241m0\u001b[39m, top))\n\u001b[1;32m   2540\u001b[0m     title\u001b[38;5;241m.\u001b[39mset_position((x, y))\n",
      "File \u001b[0;32m~/miniconda3/envs/project/lib/python3.8/site-packages/matplotlib/text.py:905\u001b[0m, in \u001b[0;36mText.get_window_extent\u001b[0;34m(self, renderer, dpi)\u001b[0m\n\u001b[1;32m    902\u001b[0m \u001b[38;5;28;01mif\u001b[39;00m \u001b[38;5;28mself\u001b[39m\u001b[38;5;241m.\u001b[39m_renderer \u001b[38;5;129;01mis\u001b[39;00m \u001b[38;5;28;01mNone\u001b[39;00m:\n\u001b[1;32m    903\u001b[0m     \u001b[38;5;28;01mraise\u001b[39;00m \u001b[38;5;167;01mRuntimeError\u001b[39;00m(\u001b[38;5;124m'\u001b[39m\u001b[38;5;124mCannot get window extent w/o renderer\u001b[39m\u001b[38;5;124m'\u001b[39m)\n\u001b[0;32m--> 905\u001b[0m bbox, info, descent \u001b[38;5;241m=\u001b[39m \u001b[38;5;28;43mself\u001b[39;49m\u001b[38;5;241;43m.\u001b[39;49m\u001b[43m_get_layout\u001b[49m\u001b[43m(\u001b[49m\u001b[38;5;28;43mself\u001b[39;49m\u001b[38;5;241;43m.\u001b[39;49m\u001b[43m_renderer\u001b[49m\u001b[43m)\u001b[49m\n\u001b[1;32m    906\u001b[0m x, y \u001b[38;5;241m=\u001b[39m \u001b[38;5;28mself\u001b[39m\u001b[38;5;241m.\u001b[39mget_unitless_position()\n\u001b[1;32m    907\u001b[0m x, y \u001b[38;5;241m=\u001b[39m \u001b[38;5;28mself\u001b[39m\u001b[38;5;241m.\u001b[39mget_transform()\u001b[38;5;241m.\u001b[39mtransform((x, y))\n",
      "File \u001b[0;32m~/miniconda3/envs/project/lib/python3.8/site-packages/matplotlib/text.py:299\u001b[0m, in \u001b[0;36mText._get_layout\u001b[0;34m(self, renderer)\u001b[0m\n\u001b[1;32m    297\u001b[0m clean_line, ismath \u001b[38;5;241m=\u001b[39m \u001b[38;5;28mself\u001b[39m\u001b[38;5;241m.\u001b[39m_preprocess_math(line)\n\u001b[1;32m    298\u001b[0m \u001b[38;5;28;01mif\u001b[39;00m clean_line:\n\u001b[0;32m--> 299\u001b[0m     w, h, d \u001b[38;5;241m=\u001b[39m \u001b[43mrenderer\u001b[49m\u001b[38;5;241;43m.\u001b[39;49m\u001b[43mget_text_width_height_descent\u001b[49m\u001b[43m(\u001b[49m\n\u001b[1;32m    300\u001b[0m \u001b[43m        \u001b[49m\u001b[43mclean_line\u001b[49m\u001b[43m,\u001b[49m\u001b[43m \u001b[49m\u001b[38;5;28;43mself\u001b[39;49m\u001b[38;5;241;43m.\u001b[39;49m\u001b[43m_fontproperties\u001b[49m\u001b[43m,\u001b[49m\u001b[43m \u001b[49m\u001b[43mismath\u001b[49m\u001b[38;5;241;43m=\u001b[39;49m\u001b[43mismath\u001b[49m\u001b[43m)\u001b[49m\n\u001b[1;32m    301\u001b[0m \u001b[38;5;28;01melse\u001b[39;00m:\n\u001b[1;32m    302\u001b[0m     w \u001b[38;5;241m=\u001b[39m h \u001b[38;5;241m=\u001b[39m d \u001b[38;5;241m=\u001b[39m \u001b[38;5;241m0\u001b[39m\n",
      "File \u001b[0;32m~/miniconda3/envs/project/lib/python3.8/site-packages/matplotlib/backends/backend_agg.py:203\u001b[0m, in \u001b[0;36mRendererAgg.get_text_width_height_descent\u001b[0;34m(self, s, prop, ismath)\u001b[0m\n\u001b[1;32m    201\u001b[0m     texmanager \u001b[38;5;241m=\u001b[39m \u001b[38;5;28mself\u001b[39m\u001b[38;5;241m.\u001b[39mget_texmanager()\n\u001b[1;32m    202\u001b[0m     fontsize \u001b[38;5;241m=\u001b[39m prop\u001b[38;5;241m.\u001b[39mget_size_in_points()\n\u001b[0;32m--> 203\u001b[0m     w, h, d \u001b[38;5;241m=\u001b[39m \u001b[43mtexmanager\u001b[49m\u001b[38;5;241;43m.\u001b[39;49m\u001b[43mget_text_width_height_descent\u001b[49m\u001b[43m(\u001b[49m\n\u001b[1;32m    204\u001b[0m \u001b[43m        \u001b[49m\u001b[43ms\u001b[49m\u001b[43m,\u001b[49m\u001b[43m \u001b[49m\u001b[43mfontsize\u001b[49m\u001b[43m,\u001b[49m\u001b[43m \u001b[49m\u001b[43mrenderer\u001b[49m\u001b[38;5;241;43m=\u001b[39;49m\u001b[38;5;28;43mself\u001b[39;49m\u001b[43m)\u001b[49m\n\u001b[1;32m    205\u001b[0m     \u001b[38;5;28;01mreturn\u001b[39;00m w, h, d\n\u001b[1;32m    207\u001b[0m \u001b[38;5;28;01mif\u001b[39;00m ismath:\n",
      "File \u001b[0;32m~/miniconda3/envs/project/lib/python3.8/site-packages/matplotlib/texmanager.py:458\u001b[0m, in \u001b[0;36mTexManager.get_text_width_height_descent\u001b[0;34m(self, tex, fontsize, renderer)\u001b[0m\n\u001b[1;32m    454\u001b[0m     \u001b[38;5;28;01mreturn\u001b[39;00m width, height \u001b[38;5;241m+\u001b[39m depth, depth\n\u001b[1;32m    456\u001b[0m \u001b[38;5;28;01melse\u001b[39;00m:\n\u001b[1;32m    457\u001b[0m     \u001b[38;5;66;03m# use dviread.\u001b[39;00m\n\u001b[0;32m--> 458\u001b[0m     dvifile \u001b[38;5;241m=\u001b[39m \u001b[38;5;28;43mself\u001b[39;49m\u001b[38;5;241;43m.\u001b[39;49m\u001b[43mmake_dvi\u001b[49m\u001b[43m(\u001b[49m\u001b[43mtex\u001b[49m\u001b[43m,\u001b[49m\u001b[43m \u001b[49m\u001b[43mfontsize\u001b[49m\u001b[43m)\u001b[49m\n\u001b[1;32m    459\u001b[0m     \u001b[38;5;28;01mwith\u001b[39;00m dviread\u001b[38;5;241m.\u001b[39mDvi(dvifile, \u001b[38;5;241m72\u001b[39m \u001b[38;5;241m*\u001b[39m dpi_fraction) \u001b[38;5;28;01mas\u001b[39;00m dvi:\n\u001b[1;32m    460\u001b[0m         page, \u001b[38;5;241m=\u001b[39m dvi\n",
      "File \u001b[0;32m~/miniconda3/envs/project/lib/python3.8/site-packages/matplotlib/texmanager.py:338\u001b[0m, in \u001b[0;36mTexManager.make_dvi\u001b[0;34m(self, tex, fontsize)\u001b[0m\n\u001b[1;32m    336\u001b[0m texfile \u001b[38;5;241m=\u001b[39m \u001b[38;5;28mself\u001b[39m\u001b[38;5;241m.\u001b[39mmake_tex(tex, fontsize)\n\u001b[1;32m    337\u001b[0m \u001b[38;5;28;01mwith\u001b[39;00m cbook\u001b[38;5;241m.\u001b[39m_lock_path(texfile):\n\u001b[0;32m--> 338\u001b[0m     \u001b[38;5;28;43mself\u001b[39;49m\u001b[38;5;241;43m.\u001b[39;49m\u001b[43m_run_checked_subprocess\u001b[49m\u001b[43m(\u001b[49m\n\u001b[1;32m    339\u001b[0m \u001b[43m        \u001b[49m\u001b[43m[\u001b[49m\u001b[38;5;124;43m\"\u001b[39;49m\u001b[38;5;124;43mlatex\u001b[39;49m\u001b[38;5;124;43m\"\u001b[39;49m\u001b[43m,\u001b[49m\u001b[43m \u001b[49m\u001b[38;5;124;43m\"\u001b[39;49m\u001b[38;5;124;43m-interaction=nonstopmode\u001b[39;49m\u001b[38;5;124;43m\"\u001b[39;49m\u001b[43m,\u001b[49m\u001b[43m \u001b[49m\u001b[38;5;124;43m\"\u001b[39;49m\u001b[38;5;124;43m--halt-on-error\u001b[39;49m\u001b[38;5;124;43m\"\u001b[39;49m\u001b[43m,\u001b[49m\n\u001b[1;32m    340\u001b[0m \u001b[43m         \u001b[49m\u001b[43mtexfile\u001b[49m\u001b[43m]\u001b[49m\u001b[43m,\u001b[49m\u001b[43m \u001b[49m\u001b[43mtex\u001b[49m\u001b[43m)\u001b[49m\n\u001b[1;32m    341\u001b[0m \u001b[38;5;28;01mfor\u001b[39;00m fname \u001b[38;5;129;01min\u001b[39;00m glob\u001b[38;5;241m.\u001b[39mglob(basefile \u001b[38;5;241m+\u001b[39m \u001b[38;5;124m'\u001b[39m\u001b[38;5;124m*\u001b[39m\u001b[38;5;124m'\u001b[39m):\n\u001b[1;32m    342\u001b[0m     \u001b[38;5;28;01mif\u001b[39;00m \u001b[38;5;129;01mnot\u001b[39;00m fname\u001b[38;5;241m.\u001b[39mendswith((\u001b[38;5;124m'\u001b[39m\u001b[38;5;124mdvi\u001b[39m\u001b[38;5;124m'\u001b[39m, \u001b[38;5;124m'\u001b[39m\u001b[38;5;124mtex\u001b[39m\u001b[38;5;124m'\u001b[39m)):\n",
      "File \u001b[0;32m~/miniconda3/envs/project/lib/python3.8/site-packages/matplotlib/texmanager.py:312\u001b[0m, in \u001b[0;36mTexManager._run_checked_subprocess\u001b[0;34m(self, command, tex)\u001b[0m\n\u001b[1;32m    308\u001b[0m     \u001b[38;5;28;01mraise\u001b[39;00m \u001b[38;5;167;01mRuntimeError\u001b[39;00m(\n\u001b[1;32m    309\u001b[0m         \u001b[38;5;124m'\u001b[39m\u001b[38;5;124mFailed to process string with tex because \u001b[39m\u001b[38;5;132;01m{}\u001b[39;00m\u001b[38;5;124m could not be \u001b[39m\u001b[38;5;124m'\u001b[39m\n\u001b[1;32m    310\u001b[0m         \u001b[38;5;124m'\u001b[39m\u001b[38;5;124mfound\u001b[39m\u001b[38;5;124m'\u001b[39m\u001b[38;5;241m.\u001b[39mformat(command[\u001b[38;5;241m0\u001b[39m])) \u001b[38;5;28;01mfrom\u001b[39;00m \u001b[38;5;21;01mexc\u001b[39;00m\n\u001b[1;32m    311\u001b[0m \u001b[38;5;28;01mexcept\u001b[39;00m subprocess\u001b[38;5;241m.\u001b[39mCalledProcessError \u001b[38;5;28;01mas\u001b[39;00m exc:\n\u001b[0;32m--> 312\u001b[0m     \u001b[38;5;28;01mraise\u001b[39;00m \u001b[38;5;167;01mRuntimeError\u001b[39;00m(\n\u001b[1;32m    313\u001b[0m         \u001b[38;5;124m'\u001b[39m\u001b[38;5;132;01m{prog}\u001b[39;00m\u001b[38;5;124m was not able to process the following string:\u001b[39m\u001b[38;5;130;01m\\n\u001b[39;00m\u001b[38;5;124m'\u001b[39m\n\u001b[1;32m    314\u001b[0m         \u001b[38;5;124m'\u001b[39m\u001b[38;5;132;01m{tex!r}\u001b[39;00m\u001b[38;5;130;01m\\n\u001b[39;00m\u001b[38;5;130;01m\\n\u001b[39;00m\u001b[38;5;124m'\u001b[39m\n\u001b[1;32m    315\u001b[0m         \u001b[38;5;124m'\u001b[39m\u001b[38;5;124mHere is the full report generated by \u001b[39m\u001b[38;5;132;01m{prog}\u001b[39;00m\u001b[38;5;124m:\u001b[39m\u001b[38;5;130;01m\\n\u001b[39;00m\u001b[38;5;124m'\u001b[39m\n\u001b[1;32m    316\u001b[0m         \u001b[38;5;124m'\u001b[39m\u001b[38;5;132;01m{exc}\u001b[39;00m\u001b[38;5;130;01m\\n\u001b[39;00m\u001b[38;5;130;01m\\n\u001b[39;00m\u001b[38;5;124m'\u001b[39m\u001b[38;5;241m.\u001b[39mformat(\n\u001b[1;32m    317\u001b[0m             prog\u001b[38;5;241m=\u001b[39mcommand[\u001b[38;5;241m0\u001b[39m],\n\u001b[1;32m    318\u001b[0m             tex\u001b[38;5;241m=\u001b[39mtex\u001b[38;5;241m.\u001b[39mencode(\u001b[38;5;124m'\u001b[39m\u001b[38;5;124municode_escape\u001b[39m\u001b[38;5;124m'\u001b[39m),\n\u001b[1;32m    319\u001b[0m             exc\u001b[38;5;241m=\u001b[39mexc\u001b[38;5;241m.\u001b[39moutput\u001b[38;5;241m.\u001b[39mdecode(\u001b[38;5;124m'\u001b[39m\u001b[38;5;124mutf-8\u001b[39m\u001b[38;5;124m'\u001b[39m))) \u001b[38;5;28;01mfrom\u001b[39;00m \u001b[38;5;21;01mexc\u001b[39;00m\n\u001b[1;32m    320\u001b[0m _log\u001b[38;5;241m.\u001b[39mdebug(report)\n\u001b[1;32m    321\u001b[0m \u001b[38;5;28;01mreturn\u001b[39;00m report\n",
      "\u001b[0;31mRuntimeError\u001b[0m: latex was not able to process the following string:\nb'logf_pbh = ${-4.46}_{-3.05}^{+3.03}$'\n\nHere is the full report generated by latex:\nThis is pdfTeX, Version 3.141592653-2.6-1.40.24 (TeX Live 2022) (preloaded format=latex)\n restricted \\write18 enabled.\nentering extended mode\n(/Users/fangirl/.matplotlib/tex.cache/bbae94166c65f55c834fe220190eaf23.tex\nLaTeX2e <2021-11-15> patch level 1\nL3 programming layer <2022-02-24>\n(/usr/local/texlive/2022/texmf-dist/tex/latex/base/article.cls\nDocument Class: article 2021/10/04 v1.4n Standard LaTeX document class\n(/usr/local/texlive/2022/texmf-dist/tex/latex/base/size10.clo))\n(/usr/local/texlive/2022/texmf-dist/tex/latex/type1cm/type1cm.sty)\n(/usr/local/texlive/2022/texmf-dist/tex/latex/cm-super/type1ec.sty\n(/usr/local/texlive/2022/texmf-dist/tex/latex/base/t1cmr.fd))\n(/usr/local/texlive/2022/texmf-dist/tex/latex/base/textcomp.sty)\n(/usr/local/texlive/2022/texmf-dist/tex/latex/base/inputenc.sty)\n(/usr/local/texlive/2022/texmf-dist/tex/latex/geometry/geometry.sty\n(/usr/local/texlive/2022/texmf-dist/tex/latex/graphics/keyval.sty)\n(/usr/local/texlive/2022/texmf-dist/tex/generic/iftex/ifvtex.sty\n(/usr/local/texlive/2022/texmf-dist/tex/generic/iftex/iftex.sty))\n\nPackage geometry Warning: Over-specification in `h'-direction.\n    `width' (5058.9pt) is ignored.\n\n\nPackage geometry Warning: Over-specification in `v'-direction.\n    `height' (5058.9pt) is ignored.\n\n) (/usr/local/texlive/2022/texmf-dist/tex/latex/amsmath/amsmath.sty\nFor additional information on amsmath, use the `?' option.\n(/usr/local/texlive/2022/texmf-dist/tex/latex/amsmath/amstext.sty\n(/usr/local/texlive/2022/texmf-dist/tex/latex/amsmath/amsgen.sty))\n(/usr/local/texlive/2022/texmf-dist/tex/latex/amsmath/amsbsy.sty)\n(/usr/local/texlive/2022/texmf-dist/tex/latex/amsmath/amsopn.sty))\n(/usr/local/texlive/2022/texmf-dist/tex/latex/l3backend/l3backend-dvips.def)\n(./bbae94166c65f55c834fe220190eaf23.aux)\n*geometry* driver: auto-detecting\n*geometry* detected driver: dvips\n! Missing $ inserted.\n<inserted text> \n                $\nl.19 {\\rmfamily logf_\n                     pbh = ${-4.46}_{-3.05}^{+3.03}$}\nNo pages of output.\nTranscript written on bbae94166c65f55c834fe220190eaf23.log.\n\n\n"
     ]
    },
    {
     "data": {
      "text/plain": [
       "<Figure size 340x340 with 1 Axes>"
      ]
     },
     "metadata": {},
     "output_type": "display_data"
    }
   ],
   "source": [
    "%%time\n",
    "s = sm.Sampler(nstars=1000, nsamples=5000,survey=r,nchains=64, MassFunction=pbh, MassProfile=ps)"
   ]
  },
  {
   "cell_type": "code",
   "execution_count": 78,
   "id": "17214f14",
   "metadata": {
    "collapsed": true
   },
   "outputs": [
    {
     "name": "stdout",
     "output_type": "stream",
     "text": [
      "Creating data vector\n",
      "Wrote to /Users/fangirl/Repos/Kris/dmsl/data/star_accel/Roman_3_2_0_2024:06:18-13.41.27.dat\n",
      "/Users/fangirl/Repos/Kris/dmsl/data/star_accel/Roman_hist_3_2_0_2024:06:18-13.41.27.png\n",
      "(1000, 2)\n",
      "2024-06-18T13:41:27.155604: made /Users/fangirl/Repos/Kris/dmsl/data/star_accel/Roman_hist_3_2_0_2024:06:18-13.41.27.png\n",
      "Loading prior\n",
      "Prior loaded\n",
      "Total pars: 5\n",
      "Sampling..\n"
     ]
    },
    {
     "name": "stderr",
     "output_type": "stream",
     "text": [
      " 25%|████████████████████████████████████████████████▊                                                                                                                                                | 506/2000 [5:56:48<12:36:07, 30.37s/it]/Users/fangirl/miniconda3/envs/project/lib/python3.8/site-packages/astropy/units/quantity.py:620: RuntimeWarning: invalid value encountered in add\n",
      "  result = super().__array_ufunc__(function, method, *arrays, **kwargs)\n",
      "100%|██████████████████████████████████████████████████████████████████████████████████████████████████████████████████████████████████████████████████████████████████████████████████████████████████| 2000/2000 [25:21:21<00:00, 45.64s/it]"
     ]
    },
    {
     "name": "stdout",
     "output_type": "stream",
     "text": [
      "Serial took 91329.6 seconds\n"
     ]
    },
    {
     "name": "stderr",
     "output_type": "stream",
     "text": [
      "\n",
      "/Users/fangirl/miniconda3/envs/project/lib/python3.8/site-packages/scipy/__init__.py:146: UserWarning: A NumPy version >=1.16.5 and <1.23.0 is required for this version of SciPy (detected version 1.24.0\n",
      "  warnings.warn(f\"A NumPy version >={np_minversion} and <{np_maxversion}\"\n",
      "WARNING (pytensor.tensor.blas): Using NumPy C-API based implementation for BLAS functions.\n",
      "/Users/fangirl/miniconda3/envs/project/lib/python3.8/site-packages/scipy/__init__.py:146: UserWarning: A NumPy version >=1.16.5 and <1.23.0 is required for this version of SciPy (detected version 1.24.0\n",
      "  warnings.warn(f\"A NumPy version >={np_minversion} and <{np_maxversion}\"\n",
      "WARNING (pytensor.tensor.blas): Using NumPy C-API based implementation for BLAS functions.\n",
      "/Users/fangirl/miniconda3/envs/project/lib/python3.8/site-packages/scipy/__init__.py:146: UserWarning: A NumPy version >=1.16.5 and <1.23.0 is required for this version of SciPy (detected version 1.24.0\n",
      "  warnings.warn(f\"A NumPy version >={np_minversion} and <{np_maxversion}\"\n",
      "WARNING (pytensor.tensor.blas): Using NumPy C-API based implementation for BLAS functions.\n",
      "/Users/fangirl/miniconda3/envs/project/lib/python3.8/site-packages/scipy/__init__.py:146: UserWarning: A NumPy version >=1.16.5 and <1.23.0 is required for this version of SciPy (detected version 1.24.0\n",
      "  warnings.warn(f\"A NumPy version >={np_minversion} and <{np_maxversion}\"\n",
      "WARNING (pytensor.tensor.blas): Using NumPy C-API based implementation for BLAS functions.\n",
      "/Users/fangirl/miniconda3/envs/project/lib/python3.8/site-packages/scipy/__init__.py:146: UserWarning: A NumPy version >=1.16.5 and <1.23.0 is required for this version of SciPy (detected version 1.24.0\n",
      "  warnings.warn(f\"A NumPy version >={np_minversion} and <{np_maxversion}\"\n",
      "WARNING (pytensor.tensor.blas): Using NumPy C-API based implementation for BLAS functions.\n",
      "/Users/fangirl/miniconda3/envs/project/lib/python3.8/site-packages/scipy/__init__.py:146: UserWarning: A NumPy version >=1.16.5 and <1.23.0 is required for this version of SciPy (detected version 1.24.0\n",
      "  warnings.warn(f\"A NumPy version >={np_minversion} and <{np_maxversion}\"\n",
      "WARNING (pytensor.tensor.blas): Using NumPy C-API based implementation for BLAS functions.\n",
      "/Users/fangirl/miniconda3/envs/project/lib/python3.8/site-packages/scipy/__init__.py:146: UserWarning: A NumPy version >=1.16.5 and <1.23.0 is required for this version of SciPy (detected version 1.24.0\n",
      "  warnings.warn(f\"A NumPy version >={np_minversion} and <{np_maxversion}\"\n",
      "WARNING (pytensor.tensor.blas): Using NumPy C-API based implementation for BLAS functions.\n",
      "/Users/fangirl/miniconda3/envs/project/lib/python3.8/site-packages/scipy/__init__.py:146: UserWarning: A NumPy version >=1.16.5 and <1.23.0 is required for this version of SciPy (detected version 1.24.0\n",
      "  warnings.warn(f\"A NumPy version >={np_minversion} and <{np_maxversion}\"\n",
      "WARNING (pytensor.tensor.blas): Using NumPy C-API based implementation for BLAS functions.\n",
      "100%|███████████████████████████████████████████████████████████████████████████████████████████████████████████████████████████████████████████████████████████████████████████████████████████████████| 2000/2000 [4:35:07<00:00,  8.25s/it]\n",
      "/Users/fangirl/miniconda3/envs/project/lib/python3.8/site-packages/astropy/units/quantity.py:620: RuntimeWarning: invalid value encountered in add\n",
      "  result = super().__array_ufunc__(function, method, *arrays, **kwargs)\n"
     ]
    },
    {
     "name": "stdout",
     "output_type": "stream",
     "text": [
      "Multiprocessing took 16541.7 seconds\n",
      "5.5 times faster than serial\n",
      "95\\% upper limit on fpbh: 3.7570038382558795\n",
      "Wrote /Users/fangirl/Repos/Kris/dmsl/results/samples_Roman_nfw_Tinker_3_3_2_2024:06:19-19.39.18.pkl\n",
      "Chains have been pruned. 12.0 chains remain\n",
      "Wrote /Users/fangirl/Repos/Kris/dmsl/results/loglike_Roman_nfw_Tinker_3_3_2_2024:06:19-19.39.18.pkl\n",
      "Wrote /Users/fangirl/Repos/Kris/dmsl/results/pruned_samples_Roman_nfw_Tinker_3_3_2_2024:06:19-19.39.18.pkl\n",
      "Chains have been pruned. 12.0 chains remain\n",
      "flatchain: (12000, 5)\n",
      "A\n",
      "2024-06-19T19:39:19.990036: made /Users/fangirl/Repos/Kris/dmsl/results/post_Roman_nfw_Tinker_A_3_3_2_2024:06:19-19.39.18.png\n",
      "a\n",
      "2024-06-19T19:39:20.067146: made /Users/fangirl/Repos/Kris/dmsl/results/post_Roman_nfw_Tinker_a_3_3_2_2024:06:19-19.39.19.png\n",
      "b\n",
      "2024-06-19T19:39:20.137763: made /Users/fangirl/Repos/Kris/dmsl/results/post_Roman_nfw_Tinker_b_3_3_2_2024:06:19-19.39.20.png\n",
      "c\n",
      "2024-06-19T19:39:20.208417: made /Users/fangirl/Repos/Kris/dmsl/results/post_Roman_nfw_Tinker_c_3_3_2_2024:06:19-19.39.20.png\n",
      "2024-06-19T19:39:20.276365: made /Users/fangirl/Repos/Kris/dmsl/results/post_Roman_nfw_Tinker_c200_3_3_2_2024:06:19-19.39.20.png\n",
      "2024-06-19T19:39:26.805725: made /Users/fangirl/Repos/Kris/dmsl/results/corner_Roman_nfw_Tinker_3_3_2_2024:06:19-19.39.20.png\n",
      "2024-06-19T19:39:27.854645: made /Users/fangirl/Repos/Kris/dmsl/results/chainsplot_Roman_nfw_Tinker_3_3_2_2024:06:19-19.39.26.png\n",
      "2024-06-19T19:39:27.970742: made /Users/fangirl/Repos/Kris/dmsl/results/logprob_Roman_nfw_Tinker_3_3_2_2024:06:19-19.39.27.png\n",
      "CPU times: user 16h 13min 44s, sys: 3min 44s, total: 16h 17min 28s\n",
      "Wall time: 1d 5h 58min\n"
     ]
    }
   ],
   "source": [
    "%%time\n",
    "s = sm.Sampler(nstars=1000, nsamples=1000,survey=r,nchains=16, MassFunction=tinker, MassProfile=nfw)"
   ]
  },
  {
   "cell_type": "code",
   "execution_count": 81,
   "id": "5cc11f19",
   "metadata": {},
   "outputs": [],
   "source": [
    "tinker_s = s"
   ]
  },
  {
   "cell_type": "code",
   "execution_count": 82,
   "id": "5810c709",
   "metadata": {},
   "outputs": [
    {
     "data": {
      "text/plain": [
       "(1e-08, 0.013060848176154443)"
      ]
     },
     "execution_count": 82,
     "metadata": {},
     "output_type": "execute_result"
    },
    {
     "data": {
      "image/png": "[encoded data removed]",
      "text/plain": [
       "<Figure size 600x400 with 1 Axes>"
      ]
     },
     "metadata": {},
     "output_type": "display_data"
    }
   ],
   "source": [
    "plt.hist(tinker_s.beff_avg)\n",
    "plt.title('beff avg regular')\n",
    "np.min(tinker_s.bs),np.max(tinker_s.bs)"
   ]
  },
  {
   "cell_type": "code",
   "execution_count": 35,
   "id": "61b07b5b",
   "metadata": {},
   "outputs": [],
   "source": [
    "pbh1 = s"
   ]
  },
  {
   "cell_type": "code",
   "execution_count": 40,
   "id": "1cb42878",
   "metadata": {},
   "outputs": [
    {
     "data": {
      "text/plain": [
       "(1e-08, 0.013060848176154443)"
      ]
     },
     "execution_count": 40,
     "metadata": {},
     "output_type": "execute_result"
    },
    {
     "data": {
      "image/png": "[encoded data removed]",
      "text/plain": [
       "<Figure size 600x400 with 1 Axes>"
      ]
     },
     "metadata": {},
     "output_type": "display_data"
    }
   ],
   "source": [
    "# beff_avg,_ = np.histogram(pbh.beff_avg,bins=1000)\n",
    "# plt.scatter(pbh.bs,10**beff_avg)\n",
    "plt.hist(pbh1.beff_avg)\n",
    "plt.title('beff avg then dist')\n",
    "np.min(pbh1.bs),np.max(pbh1.bs)"
   ]
  },
  {
   "cell_type": "code",
   "execution_count": 47,
   "id": "9e2b4a63",
   "metadata": {},
   "outputs": [],
   "source": [
    "pbh2 = s"
   ]
  },
  {
   "cell_type": "code",
   "execution_count": 48,
   "id": "045886ae",
   "metadata": {
    "scrolled": false
   },
   "outputs": [
    {
     "data": {
      "text/plain": [
       "(0.0001, 0.013060848176154443)"
      ]
     },
     "execution_count": 48,
     "metadata": {},
     "output_type": "execute_result"
    },
    {
     "data": {
      "image/png": "[encoded data removed]",
      "text/plain": [
       "<Figure size 600x400 with 1 Axes>"
      ]
     },
     "metadata": {},
     "output_type": "display_data"
    }
   ],
   "source": [
    "plt.hist(pbh2.beff_avg)\n",
    "plt.title('beff avg but regularly done! (-4,-2)')\n",
    "np.min(pbh2.bs),np.max(pbh2.bs)"
   ]
  },
  {
   "cell_type": "code",
   "execution_count": 51,
   "id": "da8f0cd5",
   "metadata": {},
   "outputs": [],
   "source": [
    "pbh3 = s"
   ]
  },
  {
   "cell_type": "code",
   "execution_count": 52,
   "id": "0318bb3e",
   "metadata": {},
   "outputs": [
    {
     "data": {
      "text/plain": [
       "(1e-08, 0.013060848176154443)"
      ]
     },
     "execution_count": 52,
     "metadata": {},
     "output_type": "execute_result"
    },
    {
     "data": {
      "image/png": "[encoded data removed]",
      "text/plain": [
       "<Figure size 600x400 with 1 Axes>"
      ]
     },
     "metadata": {},
     "output_type": "display_data"
    }
   ],
   "source": [
    "plt.hist(pbh3.beff_avg)\n",
    "plt.title('beff avg but regularly done! (-8,-2)')\n",
    "np.min(pbh3.bs),np.max(pbh3.bs)"
   ]
  },
  {
   "cell_type": "code",
   "execution_count": 57,
   "id": "87fcd0cb",
   "metadata": {},
   "outputs": [],
   "source": [
    "press = s"
   ]
  },
  {
   "cell_type": "code",
   "execution_count": 60,
   "id": "70786eb6",
   "metadata": {},
   "outputs": [
    {
     "data": {
      "text/plain": [
       "(1e-08, 0.013060848176154443, 0.0009330670627447253)"
      ]
     },
     "execution_count": 60,
     "metadata": {},
     "output_type": "execute_result"
    },
    {
     "data": {
      "image/png": "[encoded data removed]",
      "text/plain": [
       "<Figure size 600x400 with 1 Axes>"
      ]
     },
     "metadata": {},
     "output_type": "display_data"
    }
   ],
   "source": [
    "plt.hist(press.beff_avg)\n",
    "plt.title('beff avg but regularly done! (-8,-2)')\n",
    "np.min(press.bs),np.max(press.bs), np.average(press.bs)"
   ]
  },
  {
   "cell_type": "code",
   "execution_count": 378,
   "id": "216f593a",
   "metadata": {},
   "outputs": [],
   "source": [
    "pbh_chisq[0][0]#np.shape(pbh_chisq[:][0])\n",
    "x = []\n",
    "y = []\n",
    "for i in range(len(pbh_chisq)):\n",
    "    x.append(pbh_chisq[i][0])\n",
    "    y.append(pbh_chisq[i][1])"
   ]
  },
  {
   "cell_type": "code",
   "execution_count": 392,
   "id": "c776147e",
   "metadata": {},
   "outputs": [
    {
     "data": {
      "text/plain": [
       "Text(0.5, 1.0, 'Chisq from pbh sampler')"
      ]
     },
     "execution_count": 392,
     "metadata": {},
     "output_type": "execute_result"
    },
    {
     "data": {
      "image/png": "[encoded data removed]",
      "text/plain": [
       "<Figure size 600x400 with 1 Axes>"
      ]
     },
     "metadata": {},
     "output_type": "display_data"
    }
   ],
   "source": [
    "plt.scatter(x,y)\n",
    "plt.title('Chisq from pbh sampler')"
   ]
  },
  {
   "cell_type": "code",
   "execution_count": 9,
   "id": "3ee56a33",
   "metadata": {},
   "outputs": [],
   "source": [
    "pbh_chisq[0][0]#np.shape(pbh_chisq[:][0])\n",
    "x2 = []\n",
    "y2 = []\n",
    "for i in range(len(pbh_chisq)):\n",
    "    x2.append(pbh_chisq[i][0])\n",
    "    y2.append(pbh_chisq[i][1])"
   ]
  },
  {
   "cell_type": "code",
   "execution_count": 14,
   "id": "90cf7e9e",
   "metadata": {},
   "outputs": [
    {
     "data": {
      "text/plain": [
       "Text(0.5, 1.0, 'Chisq from pbh sampler2')"
      ]
     },
     "execution_count": 14,
     "metadata": {},
     "output_type": "execute_result"
    },
    {
     "data": {
      "image/png": "[encoded data removed]",
      "text/plain": [
       "<Figure size 600x400 with 1 Axes>"
      ]
     },
     "metadata": {},
     "output_type": "display_data"
    }
   ],
   "source": [
    "plt.scatter(x2[1000:5000],y2[1000:5000])\n",
    "plt.title('Chisq from pbh sampler2')"
   ]
  },
  {
   "cell_type": "code",
   "execution_count": null,
   "id": "36b3d57f",
   "metadata": {},
   "outputs": [],
   "source": []
  },
  {
   "cell_type": "code",
   "execution_count": 402,
   "id": "fd13580b",
   "metadata": {},
   "outputs": [],
   "source": [
    "wdm_chisq = s.chisq"
   ]
  },
  {
   "cell_type": "code",
   "execution_count": 403,
   "id": "95cf654f",
   "metadata": {},
   "outputs": [
    {
     "data": {
      "text/plain": [
       "(130822, 2)"
      ]
     },
     "execution_count": 403,
     "metadata": {},
     "output_type": "execute_result"
    }
   ],
   "source": [
    "np.shape(wdm_chisq)"
   ]
  },
  {
   "cell_type": "code",
   "execution_count": 404,
   "id": "7f150ae9",
   "metadata": {},
   "outputs": [],
   "source": [
    "x_wdm = []\n",
    "y_wdm = []\n",
    "for i in range(len(wdm_chisq)):\n",
    "    x_wdm.append(wdm_chisq[i][0])\n",
    "    y_wdm.append(wdm_chisq[i][1])"
   ]
  },
  {
   "cell_type": "code",
   "execution_count": 405,
   "id": "a3d6314f",
   "metadata": {},
   "outputs": [
    {
     "data": {
      "text/plain": [
       "Text(0.5, 1.0, 'Chisq from wdm sampler')"
      ]
     },
     "execution_count": 405,
     "metadata": {},
     "output_type": "execute_result"
    },
    {
     "data": {
      "image/png": "[encoded data removed]",
      "text/plain": [
       "<Figure size 600x400 with 1 Axes>"
      ]
     },
     "metadata": {},
     "output_type": "display_data"
    }
   ],
   "source": [
    "plt.scatter(x_wdm,y_wdm)\n",
    "plt.title('Chisq from wdm sampler')"
   ]
  },
  {
   "cell_type": "code",
   "execution_count": null,
   "id": "26d6f955",
   "metadata": {},
   "outputs": [],
   "source": []
  },
  {
   "cell_type": "code",
   "execution_count": 189,
   "id": "0ccb5f19",
   "metadata": {},
   "outputs": [],
   "source": [
    "pbh = s"
   ]
  },
  {
   "cell_type": "code",
   "execution_count": 219,
   "id": "b134fbee",
   "metadata": {},
   "outputs": [
    {
     "data": {
      "text/plain": [
       "(1000, 2)"
      ]
     },
     "execution_count": 219,
     "metadata": {},
     "output_type": "execute_result"
    }
   ],
   "source": [
    "d = s.data.data\n",
    "d.shape"
   ]
  },
  {
   "cell_type": "code",
   "execution_count": 213,
   "id": "858726d6",
   "metadata": {},
   "outputs": [
    {
     "data": {
      "text/html": [
       "<div>\n",
       "<style scoped>\n",
       "    .dataframe tbody tr th:only-of-type {\n",
       "        vertical-align: middle;\n",
       "    }\n",
       "\n",
       "    .dataframe tbody tr th {\n",
       "        vertical-align: top;\n",
       "    }\n",
       "\n",
       "    .dataframe thead th {\n",
       "        text-align: right;\n",
       "    }\n",
       "</style>\n",
       "<table border=\"1\" class=\"dataframe\">\n",
       "  <thead>\n",
       "    <tr style=\"text-align: right;\">\n",
       "      <th></th>\n",
       "      <th>a_x</th>\n",
       "      <th>a_y</th>\n",
       "    </tr>\n",
       "  </thead>\n",
       "  <tbody>\n",
       "    <tr>\n",
       "      <th>0</th>\n",
       "      <td>0.012573</td>\n",
       "      <td>-0.013210</td>\n",
       "    </tr>\n",
       "    <tr>\n",
       "      <th>1</th>\n",
       "      <td>0.064042</td>\n",
       "      <td>0.010490</td>\n",
       "    </tr>\n",
       "    <tr>\n",
       "      <th>2</th>\n",
       "      <td>-0.053567</td>\n",
       "      <td>0.036160</td>\n",
       "    </tr>\n",
       "    <tr>\n",
       "      <th>3</th>\n",
       "      <td>0.130400</td>\n",
       "      <td>0.094708</td>\n",
       "    </tr>\n",
       "    <tr>\n",
       "      <th>4</th>\n",
       "      <td>-0.070374</td>\n",
       "      <td>-0.126542</td>\n",
       "    </tr>\n",
       "  </tbody>\n",
       "</table>\n",
       "</div>"
      ],
      "text/plain": [
       "        a_x       a_y\n",
       "0  0.012573 -0.013210\n",
       "1  0.064042  0.010490\n",
       "2 -0.053567  0.036160\n",
       "3  0.130400  0.094708\n",
       "4 -0.070374 -0.126542"
      ]
     },
     "execution_count": 213,
     "metadata": {},
     "output_type": "execute_result"
    }
   ],
   "source": [
    "d.head()"
   ]
  },
  {
   "cell_type": "code",
   "execution_count": 220,
   "id": "b1653056",
   "metadata": {},
   "outputs": [
    {
     "name": "stdout",
     "output_type": "stream",
     "text": [
      "2024-04-14T20:51:08.954917: made ../data/star_accel/Roman_pbh3.png\n"
     ]
    }
   ],
   "source": [
    "import plotting as plot\n",
    "plot.make_histogram(d.to_numpy(),int(len(d) / 100) + 1, r'\\alpha', '../data/star_accel/Roman_pbh3.png')"
   ]
  },
  {
   "cell_type": "code",
   "execution_count": 205,
   "id": "c874c9b2",
   "metadata": {},
   "outputs": [
    {
     "name": "stdout",
     "output_type": "stream",
     "text": [
      "[[ 0.01257302 -0.01321049]\n",
      " [ 0.06404227  0.01049001]\n",
      " [-0.05356694  0.03615951]\n",
      " ...\n",
      " [ 0.12497253  0.0750634 ]\n",
      " [-0.05558157 -0.20188116]\n",
      " [-0.09094276  0.03692293]]\n"
     ]
    },
    {
     "data": {
      "text/plain": [
       "(array([[  1.,   7.,  19.,  62., 162., 221., 224., 180.,  91.,  29.,   4.],\n",
       "        [  1.,   3.,  14.,  64., 154., 237., 253., 158.,  85.,  24.,   7.]]),\n",
       " array([-0.38994217, -0.32661982, -0.26329747, -0.19997512, -0.13665277,\n",
       "        -0.07333042, -0.01000807,  0.05331428,  0.11663662,  0.17995897,\n",
       "         0.24328132,  0.30660367]),\n",
       " <a list of 2 Lists of Patches objects>)"
      ]
     },
     "execution_count": 205,
     "metadata": {},
     "output_type": "execute_result"
    },
    {
     "data": {
      "image/png": "[encoded data removed]",
      "text/plain": [
       "<Figure size 600x400 with 1 Axes>"
      ]
     },
     "metadata": {},
     "output_type": "display_data"
    }
   ],
   "source": [
    "print(d[0:])\n",
    "plt.hist(d, int(len(d) / 100) + 1)"
   ]
  },
  {
   "cell_type": "markdown",
   "id": "2fa4d8e6",
   "metadata": {},
   "source": [
    "## Chisq check"
   ]
  },
  {
   "cell_type": "code",
   "execution_count": 136,
   "id": "87edf6bd",
   "metadata": {
    "collapsed": true
   },
   "outputs": [
    {
     "data": {
      "text/plain": [
       "Text(0, 0.5, 'logL')"
      ]
     },
     "execution_count": 136,
     "metadata": {},
     "output_type": "execute_result"
    },
    {
     "data": {
      "image/png": "[encoded data removed]",
      "text/plain": [
       "<Figure size 600x400 with 1 Axes>"
      ]
     },
     "metadata": {},
     "output_type": "display_data"
    }
   ],
   "source": [
    "## Computing chisq at high c200 vals, fiducial loga=-4.49, b=-1.9, logc= 7.41\n",
    "c200 = np.logspace(0,8,100)\n",
    "chisq = []\n",
    "for i in range(len(c200)):\n",
    "    chisq.append(cdm_64.lnlike([np.log10(c200[i]),-3.1,-3.95,6.02]))\n",
    "plt.plot(np.log10(c200),chisq)\n",
    "#plt.xlim([0,4])\n",
    "#plt.yscale('symlog')\n",
    "plt.xlabel(r'logc200')\n",
    "plt.ylabel(r'logL')"
   ]
  },
  {
   "cell_type": "code",
   "execution_count": 203,
   "id": "8b44f1b5",
   "metadata": {
    "collapsed": true
   },
   "outputs": [
    {
     "data": {
      "text/plain": [
       "[-37594.080924395894,\n",
       " -inf,\n",
       " -37594.080898226464,\n",
       " -inf,\n",
       " -37594.08062299494,\n",
       " -37594.08121937506,\n",
       " -37594.08016543627,\n",
       " -37594.08093914086,\n",
       " -37594.08012411741,\n",
       " -37594.08278072151,\n",
       " -37594.0817171707,\n",
       " -37594.0791198161,\n",
       " -37594.08205136389,\n",
       " -37594.07977763513,\n",
       " -37594.076651971445,\n",
       " -37594.09129145827,\n",
       " -37594.099525839636,\n",
       " -37594.03266772265,\n",
       " -37594.09610205032,\n",
       " -37594.07124317826,\n",
       " -37594.08338569483,\n",
       " -37594.07834199637,\n",
       " -37594.05343340839,\n",
       " -37594.092616761096,\n",
       " -37594.09094342385,\n",
       " -37593.9123002888,\n",
       " -37594.18773247938,\n",
       " -37594.177965998475,\n",
       " -37593.89600692629,\n",
       " -37667.304187483016,\n",
       " -38590.712721967575,\n",
       " -37594.54789118786,\n",
       " -37595.798323351046,\n",
       " -37625.51412396371,\n",
       " -37592.953602373884,\n",
       " -37598.12172567468,\n",
       " -37597.2995217148,\n",
       " -37695.63809861639,\n",
       " -37646.30141629217,\n",
       " -38144.41738198436,\n",
       " -37901.53958530592,\n",
       " -37608.57179461385,\n",
       " -144219.99407913865,\n",
       " -451231.04098252044,\n",
       " -39078.73577959987,\n",
       " -42946.120482705206,\n",
       " -121294.92208899777,\n",
       " -85734.66176737679,\n",
       " -311627.379620574,\n",
       " -89094.93336816576,\n",
       " -1350588247.9832277,\n",
       " -10293398.127908302,\n",
       " -137306.26939676507,\n",
       " -22791495.301060397,\n",
       " -11335438.171632934,\n",
       " -4444352.0947559085,\n",
       " -11831020.240500342,\n",
       " -25852833.708500937,\n",
       " -598827546.6799808,\n",
       " -22428933474.63425,\n",
       " -2143265047.8457818,\n",
       " -185921532.53544328,\n",
       " -8984943469.976233,\n",
       " -233795361362.2651,\n",
       " -186551796901.57272,\n",
       " -5857277363.568987,\n",
       " -139913912174.9859,\n",
       " -67448521281470.17,\n",
       " -38173815693.82741,\n",
       " -11191584636.519768,\n",
       " -495503914938.454,\n",
       " -886515915214.5686,\n",
       " -2346741495688.778,\n",
       " -205560425838037.7,\n",
       " -329599256338.3419,\n",
       " -96516341779490.69,\n",
       " -358901667401661.75,\n",
       " -2675070662222858.0,\n",
       " -149777767404688.84,\n",
       " -155204215119432.4,\n",
       " -1862975747066350.5,\n",
       " -476345886114371.25,\n",
       " -399018583747713.4,\n",
       " -514669699245539.25,\n",
       " -7794701377655602.0,\n",
       " -109159151921358.8,\n",
       " -5122696570892054.0,\n",
       " -305021847889519.2,\n",
       " -127657906953303.08,\n",
       " -8.550033348390812e+18,\n",
       " -1.2954230836748725e+20,\n",
       " -3.203011064054504e+17,\n",
       " -4.724033527740009e+16,\n",
       " -1370447328799790.5,\n",
       " -4.893338667555934e+19,\n",
       " -5.038586709836314e+16,\n",
       " -4.153437597192198e+20,\n",
       " -4.369269984414261e+18,\n",
       " -5.863319395293414e+17,\n",
       " -5.274594445089466e+19]"
      ]
     },
     "execution_count": 203,
     "metadata": {},
     "output_type": "execute_result"
    }
   ],
   "source": [
    "chisq"
   ]
  },
  {
   "cell_type": "code",
   "execution_count": 169,
   "id": "8bf67712",
   "metadata": {
    "collapsed": true
   },
   "outputs": [
    {
     "data": {
      "text/plain": [
       "array([1.00000000e+00, 1.12332403e+00, 1.26185688e+00, 1.41747416e+00,\n",
       "       1.59228279e+00, 1.78864953e+00, 2.00923300e+00, 2.25701972e+00,\n",
       "       2.53536449e+00, 2.84803587e+00, 3.19926714e+00, 3.59381366e+00,\n",
       "       4.03701726e+00, 4.53487851e+00, 5.09413801e+00, 5.72236766e+00,\n",
       "       6.42807312e+00, 7.22080902e+00, 8.11130831e+00, 9.11162756e+00,\n",
       "       1.02353102e+01, 1.14975700e+01, 1.29154967e+01, 1.45082878e+01,\n",
       "       1.62975083e+01, 1.83073828e+01, 2.05651231e+01, 2.31012970e+01,\n",
       "       2.59502421e+01, 2.91505306e+01, 3.27454916e+01, 3.67837977e+01,\n",
       "       4.13201240e+01, 4.64158883e+01, 5.21400829e+01, 5.85702082e+01,\n",
       "       6.57933225e+01, 7.39072203e+01, 8.30217568e+01, 9.32603347e+01,\n",
       "       1.04761575e+02, 1.17681195e+02, 1.32194115e+02, 1.48496826e+02,\n",
       "       1.66810054e+02, 1.87381742e+02, 2.10490414e+02, 2.36448941e+02,\n",
       "       2.65608778e+02, 2.98364724e+02, 3.35160265e+02, 3.76493581e+02,\n",
       "       4.22924287e+02, 4.75081016e+02, 5.33669923e+02, 5.99484250e+02,\n",
       "       6.73415066e+02, 7.56463328e+02, 8.49753436e+02, 9.54548457e+02,\n",
       "       1.07226722e+03, 1.20450354e+03, 1.35304777e+03, 1.51991108e+03,\n",
       "       1.70735265e+03, 1.91791026e+03, 2.15443469e+03, 2.42012826e+03,\n",
       "       2.71858824e+03, 3.05385551e+03, 3.43046929e+03, 3.85352859e+03,\n",
       "       4.32876128e+03, 4.86260158e+03, 5.46227722e+03, 6.13590727e+03,\n",
       "       6.89261210e+03, 7.74263683e+03, 8.69749003e+03, 9.77009957e+03,\n",
       "       1.09749877e+04, 1.23284674e+04, 1.38488637e+04, 1.55567614e+04,\n",
       "       1.74752840e+04, 1.96304065e+04, 2.20513074e+04, 2.47707636e+04,\n",
       "       2.78255940e+04, 3.12571585e+04, 3.51119173e+04, 3.94420606e+04,\n",
       "       4.43062146e+04, 4.97702356e+04, 5.59081018e+04, 6.28029144e+04,\n",
       "       7.05480231e+04, 7.92482898e+04, 8.90215085e+04, 1.00000000e+05])"
      ]
     },
     "execution_count": 169,
     "metadata": {},
     "output_type": "execute_result"
    }
   ],
   "source": [
    "c200"
   ]
  },
  {
   "cell_type": "code",
   "execution_count": 138,
   "id": "405c39f3",
   "metadata": {
    "collapsed": true
   },
   "outputs": [
    {
     "data": {
      "text/plain": [
       "[<matplotlib.lines.Line2D at 0x7fa9eb1613a0>]"
      ]
     },
     "execution_count": 138,
     "metadata": {},
     "output_type": "execute_result"
    },
    {
     "data": {
      "image/png": "[encoded data removed]",
      "text/plain": [
       "<Figure size 600x400 with 1 Axes>"
      ]
     },
     "metadata": {},
     "output_type": "display_data"
    }
   ],
   "source": [
    "y, _ = cdm_64.sampler.compute_log_prob(np.array(([1,-3.41,-3.03,6.45],[2,-3.41,-3.03,6.45],[3,-3.41,-3.03,6.45],[4,-3.41,-3.03,6.45],[5,-3.41,-3.03,6.45],[6,-3.41,-3.03,6.45],[7,-3.41,-3.03,6.45],[8,-3.41,-3.03,6.45])))\n",
    "plt.plot([1,2,3,4,5,6,7,8],y,'o')"
   ]
  },
  {
   "cell_type": "code",
   "execution_count": 233,
   "id": "90fa89d0",
   "metadata": {
    "collapsed": true
   },
   "outputs": [
    {
     "name": "stdout",
     "output_type": "stream",
     "text": [
      "In samplealpha\n",
      "In make new mass\n",
      "In lensing model\n",
      "Outside lensing model\n",
      "Trying\n",
      "In samplealpha\n",
      "In make new mass\n",
      "In lensing model\n",
      "Outside lensing model\n",
      "Trying\n",
      "In samplealpha\n",
      "In make new mass\n",
      "In lensing model\n",
      "Outside lensing model\n",
      "Trying\n",
      "In samplealpha\n",
      "In make new mass\n",
      "In lensing model\n",
      "Outside lensing model\n",
      "Trying\n",
      "In samplealpha\n",
      "In make new mass\n",
      "In lensing model\n",
      "Outside lensing model\n",
      "Trying\n",
      "In samplealpha\n",
      "In make new mass\n",
      "In lensing model\n",
      "Outside lensing model\n",
      "Trying\n",
      "In samplealpha\n",
      "In make new mass\n",
      "In lensing model\n",
      "Outside lensing model\n",
      "Trying\n",
      "In samplealpha\n",
      "In make new mass\n",
      "In lensing model\n",
      "Outside lensing model\n",
      "Trying\n",
      "CPU times: user 1h 4min 23s, sys: 14.5 s, total: 1h 4min 38s\n",
      "Wall time: 4h 5min 55s\n"
     ]
    },
    {
     "data": {
      "text/plain": [
       "Text(0, 0.5, 'logL')"
      ]
     },
     "execution_count": 233,
     "metadata": {},
     "output_type": "execute_result"
    },
    {
     "data": {
      "image/png": "[encoded data removed]",
      "text/plain": [
       "<Figure size 600x400 with 1 Axes>"
      ]
     },
     "metadata": {},
     "output_type": "display_data"
    }
   ],
   "source": [
    "%%time\n",
    "f_pbh = np.logspace(-8,0,10)\n",
    "chisq = []\n",
    "for i in range(len(f_pbh)):\n",
    "    chisq.append(pbh.lnlike([np.log10(f_pbh[i])]))\n",
    "plt.plot(np.log10(f_pbh),chisq)\n",
    "#plt.xlim([0,4])\n",
    "#plt.yscale('symlog')\n",
    "plt.xlabel(r'logfpbh')\n",
    "plt.ylabel(r'logL')"
   ]
  },
  {
   "cell_type": "code",
   "execution_count": 234,
   "id": "899112fa",
   "metadata": {},
   "outputs": [
    {
     "data": {
      "text/plain": [
       "[-inf, -inf, -inf, -inf, -inf, -inf, -inf, -inf, -inf, -inf]"
      ]
     },
     "execution_count": 234,
     "metadata": {},
     "output_type": "execute_result"
    }
   ],
   "source": [
    "chisq"
   ]
  },
  {
   "cell_type": "code",
   "execution_count": 235,
   "id": "ec5dff54",
   "metadata": {},
   "outputs": [
    {
     "data": {
      "text/plain": [
       "array([1.00000000e-08, 7.74263683e-08, 5.99484250e-07, 4.64158883e-06,\n",
       "       3.59381366e-05, 2.78255940e-04, 2.15443469e-03, 1.66810054e-02,\n",
       "       1.29154967e-01, 1.00000000e+00])"
      ]
     },
     "execution_count": 235,
     "metadata": {},
     "output_type": "execute_result"
    }
   ],
   "source": [
    "f_pbh"
   ]
  },
  {
   "cell_type": "code",
   "execution_count": 237,
   "id": "b866f2cb",
   "metadata": {
    "collapsed": true
   },
   "outputs": [
    {
     "data": {
      "text/plain": [
       "[<matplotlib.lines.Line2D at 0x7faaa5efe280>]"
      ]
     },
     "execution_count": 237,
     "metadata": {},
     "output_type": "execute_result"
    },
    {
     "data": {
      "image/png": "[encoded data removed]",
      "text/plain": [
       "<Figure size 600x400 with 1 Axes>"
      ]
     },
     "metadata": {},
     "output_type": "display_data"
    }
   ],
   "source": [
    "y_pbh, _= pbh.sampler.compute_log_prob(np.array(([1.0],[1e-2],[1e-4],[1e-6],[1e-8])))\n",
    "plt.plot([1.0,1e-2,1e-4,1e-6,1e-8],y_pbh,'o')"
   ]
  },
  {
   "cell_type": "code",
   "execution_count": 238,
   "id": "99e3093f",
   "metadata": {},
   "outputs": [
    {
     "data": {
      "text/plain": [
       "array([-inf, -inf, -inf, -inf, -inf])"
      ]
     },
     "execution_count": 238,
     "metadata": {},
     "output_type": "execute_result"
    }
   ],
   "source": [
    "y_pbh"
   ]
  },
  {
   "cell_type": "code",
   "execution_count": null,
   "id": "69e22d47",
   "metadata": {},
   "outputs": [],
   "source": []
  }
 ],
 "metadata": {
  "kernelspec": {
   "display_name": "Python 3 (ipykernel)",
   "language": "python",
   "name": "python3"
  },
  "language_info": {
   "codemirror_mode": {
    "name": "ipython",
    "version": 3
   },
   "file_extension": ".py",
   "mimetype": "text/x-python",
   "name": "python",
   "nbconvert_exporter": "python",
   "pygments_lexer": "ipython3",
   "version": "3.8.15"
  }
 },
 "nbformat": 4,
 "nbformat_minor": 5
}
