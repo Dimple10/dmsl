{
 "cells": [
  {
   "cell_type": "code",
   "execution_count": 260,
   "id": "d98a911b",
   "metadata": {},
   "outputs": [
    {
     "name": "stdout",
     "output_type": "stream",
     "text": [
      "The autoreload extension is already loaded. To reload it, use:\n",
      "  %reload_ext autoreload\n"
     ]
    }
   ],
   "source": [
    "import sampler as sm\n",
    "import survey\n",
    "from importlib import reload \n",
    "import mass_function as mf\n",
    "import mass_profile as mp\n",
    "import numpy as np\n",
    "import matplotlib.pyplot as plt\n",
    "import astropy.units as u\n",
    "import scipy\n",
    "import pandas as pd\n",
    "import psutil\n",
    "%load_ext autoreload\n",
    "%autoreload 2\n",
    "%matplotlib inline"
   ]
  },
  {
   "cell_type": "code",
   "execution_count": 3,
   "id": "92cab557",
   "metadata": {},
   "outputs": [
    {
     "data": {
      "text/plain": [
       "24"
      ]
     },
     "execution_count": 3,
     "metadata": {},
     "output_type": "execute_result"
    }
   ],
   "source": [
    "values = psutil.virtual_memory()\n",
    "total = values.total >> 30\n",
    "total"
   ]
  },
  {
   "cell_type": "code",
   "execution_count": 264,
   "id": "23f1b6bc",
   "metadata": {},
   "outputs": [],
   "source": [
    "r = survey.Roman()"
   ]
  },
  {
   "cell_type": "code",
   "execution_count": 3,
   "id": "08c4ba1b",
   "metadata": {},
   "outputs": [
    {
     "name": "stdout",
     "output_type": "stream",
     "text": [
      "CPU times: user 808 µs, sys: 8 µs, total: 816 µs\n",
      "Wall time: 820 µs\n"
     ]
    }
   ],
   "source": [
    "%%time\n",
    "ps = mp.PointSource(Ml=1)\n",
    "gauss = mp.Gaussian(Ml=1.e6*u.Msun,R0=0.01*u.kpc)\n",
    "nfw = mp.NFW(Ml=1.e5*u.Msun, c200= 13)"
   ]
  },
  {
   "cell_type": "code",
   "execution_count": 261,
   "id": "070d72f0",
   "metadata": {},
   "outputs": [
    {
     "name": "stdout",
     "output_type": "stream",
     "text": [
      "CPU times: user 1.06 ms, sys: 588 µs, total: 1.65 ms\n",
      "Wall time: 2.49 ms\n"
     ]
    }
   ],
   "source": [
    "%%time\n",
    "nfw = mp.NFW(Ml=1.e5*u.Msun, c200= 13)"
   ]
  },
  {
   "cell_type": "code",
   "execution_count": 117,
   "id": "44f606a5",
   "metadata": {},
   "outputs": [
    {
     "name": "stdout",
     "output_type": "stream",
     "text": [
      "CPU times: user 11 µs, sys: 6 µs, total: 17 µs\n",
      "Wall time: 19.1 µs\n"
     ]
    }
   ],
   "source": [
    "%%time\n",
    "ps = mp.PointSource(Ml=1)"
   ]
  },
  {
   "cell_type": "code",
   "execution_count": null,
   "id": "350d3093",
   "metadata": {},
   "outputs": [],
   "source": [
    "pl = mf.PowerLaw(m_l = np.logspace(0, np.log10(1000), 100))"
   ]
  },
  {
   "cell_type": "code",
   "execution_count": 110,
   "id": "aa100044",
   "metadata": {
    "scrolled": false
   },
   "outputs": [
    {
     "name": "stdout",
     "output_type": "stream",
     "text": [
      "CPU times: user 900 µs, sys: 44 µs, total: 944 µs\n",
      "Wall time: 912 µs\n"
     ]
    }
   ],
   "source": [
    "%%time\n",
    "cdm = mf.CDM_Test(m_l = np.logspace(0,6,10))"
   ]
  },
  {
   "cell_type": "code",
   "execution_count": 258,
   "id": "7e891e1e",
   "metadata": {},
   "outputs": [
    {
     "name": "stdout",
     "output_type": "stream",
     "text": [
      "CPU times: user 1.05 ms, sys: 1.35 ms, total: 2.4 ms\n",
      "Wall time: 2.36 ms\n"
     ]
    }
   ],
   "source": [
    "%%time\n",
    "pbh = mf.PBH(m_l = np.logspace(0,6,10))"
   ]
  },
  {
   "cell_type": "code",
   "execution_count": 263,
   "id": "9cf0304f",
   "metadata": {},
   "outputs": [],
   "source": [
    "wdm = mf.WDM_stream(m_l = np.logspace(0,7,100))"
   ]
  },
  {
   "cell_type": "code",
   "execution_count": null,
   "id": "1c09aec9",
   "metadata": {},
   "outputs": [],
   "source": [
    "tinker = mf.Tinker(m_l = np.logspace(0, np.log10(1000), 20))"
   ]
  },
  {
   "cell_type": "code",
   "execution_count": 90,
   "id": "78754a9a",
   "metadata": {},
   "outputs": [
    {
     "name": "stdout",
     "output_type": "stream",
     "text": [
      "CPU times: user 13.3 ms, sys: 617 µs, total: 13.9 ms\n",
      "Wall time: 13.6 ms\n"
     ]
    }
   ],
   "source": [
    "%%time\n",
    "press_s=mf.PressSchechter_test(m_l=np.logspace(6,14,10))"
   ]
  },
  {
   "cell_type": "markdown",
   "id": "aad1376b",
   "metadata": {},
   "source": [
    "## Sampling"
   ]
  },
  {
   "cell_type": "code",
   "execution_count": null,
   "id": "6398670b",
   "metadata": {},
   "outputs": [],
   "source": [
    "%%time\n",
    "s = sm.Sampler(nstars=100,survey=r, MassFunction=pl)"
   ]
  },
  {
   "cell_type": "code",
   "execution_count": null,
   "id": "c472690d",
   "metadata": {},
   "outputs": [],
   "source": [
    "%%time\n",
    "s = sm.Sampler(nstars=1000, survey=r,nchains=20, MassFunction=pl, MassProfile=nfw)"
   ]
  },
  {
   "cell_type": "code",
   "execution_count": null,
   "id": "3833c7ad",
   "metadata": {
    "collapsed": true
   },
   "outputs": [
    {
     "name": "stdout",
     "output_type": "stream",
     "text": [
      "Creating data vector\n",
      "Wrote to /Users/fangirl/Repos/Kris/dmsl/data/star_accel/Roman_3_2_0.dat\n",
      "/Users/fangirl/Repos/Kris/dmsl/data/star_accel/Roman_hist_3_2_0.png\n",
      "(1000, 2)\n",
      "2024-03-17T16:08:57.573380: made /Users/fangirl/Repos/Kris/dmsl/data/star_accel/Roman_hist_3_2_0.png\n",
      "Loading prior\n",
      "Prior loaded\n",
      "Total pars: 4\n",
      "Sampling..\n"
     ]
    },
    {
     "name": "stderr",
     "output_type": "stream",
     "text": [
      "/Users/fangirl/miniconda3/envs/project/lib/python3.8/site-packages/astropy/units/quantity.py:620: RuntimeWarning: divide by zero encountered in divide\n",
      "  result = super().__array_ufunc__(function, method, *arrays, **kwargs)\n",
      "/Users/fangirl/miniconda3/envs/project/lib/python3.8/site-packages/astropy/units/quantity.py:620: RuntimeWarning: invalid value encountered in multiply\n",
      "  result = super().__array_ufunc__(function, method, *arrays, **kwargs)\n",
      "/Users/fangirl/Repos/Kris/dmsl/dmsl/mass_function.py:227: RuntimeWarning: invalid value encountered in cast\n",
      "  self.n_l = (hist*norm).astype(int)\n",
      "/Users/fangirl/miniconda3/envs/project/lib/python3.8/site-packages/astropy/units/quantity.py:620: RuntimeWarning: overflow encountered in power\n",
      "  result = super().__array_ufunc__(function, method, *arrays, **kwargs)\n",
      "/Users/fangirl/miniconda3/envs/project/lib/python3.8/site-packages/numpy/lib/function_base.py:1248: RuntimeWarning: invalid value encountered in add\n",
      "  out[tuple(slice1)] = a * f[tuple(slice2)] + b * f[tuple(slice3)] + c * f[tuple(slice4)]\n",
      "/Users/fangirl/miniconda3/envs/project/lib/python3.8/site-packages/numpy/lib/function_base.py:1264: RuntimeWarning: invalid value encountered in scalar subtract\n",
      "  out[tuple(slice1)] = (f[tuple(slice2)] - f[tuple(slice3)]) / dx_n\n",
      "  0%|                                                                                                                                                                                                                | 0/1010 [00:00<?, ?it/s]/Users/fangirl/miniconda3/envs/project/lib/python3.8/site-packages/emcee/moves/red_blue.py:99: RuntimeWarning: invalid value encountered in scalar subtract\n",
      "  lnpdiff = f + nlp - state.log_prob[j]\n",
      "  1%|██▎                                                                                                                                                                                                    | 12/1010 [00:14<31:32,  1.90s/it]"
     ]
    }
   ],
   "source": [
    "s = sm.Sampler(nstars=1000, nsamples=10, survey=r,nchains=8, MassFunction=cdm, MassProfile=gauss)"
   ]
  },
  {
   "cell_type": "code",
   "execution_count": 111,
   "id": "f994e9da",
   "metadata": {
    "collapsed": true
   },
   "outputs": [
    {
     "name": "stdout",
     "output_type": "stream",
     "text": [
      "Creating data vector\n",
      "Wrote to /Users/fangirl/Repos/Kris/dmsl/data/star_accel/Roman_3_2_0.dat\n",
      "/Users/fangirl/Repos/Kris/dmsl/data/star_accel/Roman_hist_3_2_0.png\n",
      "(1000, 2)\n",
      "2024-04-06T22:11:39.081365: made /Users/fangirl/Repos/Kris/dmsl/data/star_accel/Roman_hist_3_2_0.png\n",
      "Loading prior\n",
      "Prior loaded\n",
      "Total pars: 4\n",
      "Sampling..\n"
     ]
    },
    {
     "name": "stderr",
     "output_type": "stream",
     "text": [
      "  3%|█████▎                                                                                                                                                                                            | 276/10000 [40:16<21:44:21,  8.05s/it]/Users/fangirl/miniconda3/envs/project/lib/python3.8/site-packages/astropy/units/quantity.py:620: RuntimeWarning: invalid value encountered in add\n",
      "  result = super().__array_ufunc__(function, method, *arrays, **kwargs)\n",
      " 77%|███████████████████████████████████████████████████████████████████████████████████████████████████████████████████████████████████████████████████                                            | 7700/10000 [16:10:17<4:27:25,  6.98s/it]"
     ]
    },
    {
     "name": "stdout",
     "output_type": "stream",
     "text": [
      "Converged at.. 7700\n"
     ]
    },
    {
     "name": "stderr",
     "output_type": "stream",
     "text": [
      "100%|████████████████████████████████████████████████████████████████████████████████████████████████████████████████████████████████████████████████████████████████████████████████████████████████| 10000/10000 [20:58:04<00:00,  7.55s/it]\n"
     ]
    },
    {
     "name": "stdout",
     "output_type": "stream",
     "text": [
      "95\\% upper limit on c200: 2.990894144663971\n",
      "95\\% upper limit on loga: 2.3556390092290096\n",
      "95\\% upper limit on b: -0.4544015926665841\n",
      "95\\% upper limit on logc: 11.434036479093095\n",
      "Wrote /Users/fangirl/Repos/Kris/dmsl/results/samples_Roman_nfw_CDM_3_3_2.pkl\n",
      "Chains have been pruned. 61.0 chains remain\n",
      "Wrote /Users/fangirl/Repos/Kris/dmsl/results/loglike_Roman_nfw_CDM_3_3_2.pkl\n",
      "Wrote /Users/fangirl/Repos/Kris/dmsl/results/pruned_samples_Roman_nfw_CDM_3_3_2.pkl\n",
      "Chains have been pruned. 61.0 chains remain\n",
      "flatchain: (549000, 4)\n",
      "loga\n",
      "2024-04-07T19:10:01.648846: made /Users/fangirl/Repos/Kris/dmsl/results/post_Roman_nfw_CDM_loga_3_3_2.png\n",
      "b\n",
      "2024-04-07T19:10:01.730847: made /Users/fangirl/Repos/Kris/dmsl/results/post_Roman_nfw_CDM_b_3_3_2.png\n",
      "logc\n",
      "2024-04-07T19:10:01.807853: made /Users/fangirl/Repos/Kris/dmsl/results/post_Roman_nfw_CDM_logc_3_3_2.png\n",
      "2024-04-07T19:10:01.882566: made /Users/fangirl/Repos/Kris/dmsl/results/post_Roman_nfw_CDM_c200_3_3_2.png\n",
      "2024-04-07T19:10:06.719780: made /Users/fangirl/Repos/Kris/dmsl/results/corner_Roman_nfw_CDM_3_3_2.png\n",
      "2024-04-07T19:10:07.057260: made /Users/fangirl/Repos/Kris/dmsl/results/chainsplot_Roman_nfw_CDM_3_3_2.png\n",
      "2024-04-07T19:10:09.211128: made /Users/fangirl/Repos/Kris/dmsl/results/logprob_Roman_nfw_CDM_3_3_2.png\n",
      "CPU times: user 20h 55min 49s, sys: 2min 31s, total: 20h 58min 20s\n",
      "Wall time: 20h 58min 30s\n"
     ]
    }
   ],
   "source": [
    "%%time\n",
    "s = sm.Sampler(nstars=1000, nsamples=9000, survey=r,nchains=64, MassFunction=cdm, MassProfile=nfw)"
   ]
  },
  {
   "cell_type": "code",
   "execution_count": 32,
   "id": "523b9cc2",
   "metadata": {},
   "outputs": [
    {
     "data": {
      "text/plain": [
       "(1000, 2)"
      ]
     },
     "execution_count": 32,
     "metadata": {},
     "output_type": "execute_result"
    }
   ],
   "source": [
    "s.data.shape"
   ]
  },
  {
   "cell_type": "code",
   "execution_count": 105,
   "id": "2dd379f1",
   "metadata": {},
   "outputs": [],
   "source": [
    "cdm_32 = s"
   ]
  },
  {
   "cell_type": "code",
   "execution_count": 106,
   "id": "797f4ca4",
   "metadata": {},
   "outputs": [
    {
     "data": {
      "text/plain": [
       "<sampler.Sampler at 0x7faa9a69b910>"
      ]
     },
     "execution_count": 106,
     "metadata": {},
     "output_type": "execute_result"
    }
   ],
   "source": [
    "cdm_32"
   ]
  },
  {
   "cell_type": "code",
   "execution_count": 118,
   "id": "0346d6cf",
   "metadata": {},
   "outputs": [],
   "source": [
    "cdm_64 =s"
   ]
  },
  {
   "cell_type": "code",
   "execution_count": 35,
   "id": "8695e62c",
   "metadata": {},
   "outputs": [
    {
     "data": {
      "text/plain": [
       "(288000, 4)"
      ]
     },
     "execution_count": 35,
     "metadata": {},
     "output_type": "execute_result"
    }
   ],
   "source": [
    "np.shape(s.flatchain)"
   ]
  },
  {
   "cell_type": "code",
   "execution_count": 36,
   "id": "a2f09146",
   "metadata": {},
   "outputs": [
    {
     "data": {
      "text/plain": [
       "0.1"
      ]
     },
     "execution_count": 36,
     "metadata": {},
     "output_type": "execute_result"
    }
   ],
   "source": [
    "r.alphasigma.value"
   ]
  },
  {
   "cell_type": "code",
   "execution_count": 64,
   "id": "8f99d933",
   "metadata": {},
   "outputs": [
    {
     "data": {
      "text/plain": [
       "(1000, 2)"
      ]
     },
     "execution_count": 64,
     "metadata": {},
     "output_type": "execute_result"
    }
   ],
   "source": [
    "s.samplealphal(s.flatchain[0]).shape"
   ]
  },
  {
   "cell_type": "code",
   "execution_count": null,
   "id": "bf9ba071",
   "metadata": {},
   "outputs": [],
   "source": []
  },
  {
   "cell_type": "code",
   "execution_count": null,
   "id": "05cc2ee9",
   "metadata": {},
   "outputs": [],
   "source": [
    "# https://stackoverflow.com/questions/35215161/most-efficient-way-to-map-function-over-numpy-array"
   ]
  },
  {
   "cell_type": "code",
   "execution_count": 80,
   "id": "be02a02d",
   "metadata": {
    "scrolled": true
   },
   "outputs": [
    {
     "name": "stdout",
     "output_type": "stream",
     "text": [
      "CPU times: user 24 s, sys: 76.6 ms, total: 24.1 s\n",
      "Wall time: 24.1 s\n"
     ]
    }
   ],
   "source": [
    "%%time\n",
    "cdm_data = [s.samplealphal(ftch) for ftch in s.flatchain[:100]]"
   ]
  },
  {
   "cell_type": "code",
   "execution_count": 81,
   "id": "f8ad59c8",
   "metadata": {},
   "outputs": [
    {
     "data": {
      "text/plain": [
       "(100, 1000)"
      ]
     },
     "execution_count": 81,
     "metadata": {},
     "output_type": "execute_result"
    }
   ],
   "source": [
    "len(cdm_data), len(cdm_data[0])"
   ]
  },
  {
   "cell_type": "code",
   "execution_count": 82,
   "id": "0d5ee7ba",
   "metadata": {},
   "outputs": [
    {
     "name": "stdout",
     "output_type": "stream",
     "text": [
      "CPU times: user 24 s, sys: 93.6 ms, total: 24 s\n",
      "Wall time: 24.1 s\n"
     ]
    }
   ],
   "source": [
    "%%time\n",
    "cdm_data = list(map(lambda x: s.samplealphal(x), s.flatchain[:100]))"
   ]
  },
  {
   "cell_type": "code",
   "execution_count": 83,
   "id": "877e8bc5",
   "metadata": {},
   "outputs": [
    {
     "data": {
      "text/plain": [
       "(100, 1000)"
      ]
     },
     "execution_count": 83,
     "metadata": {},
     "output_type": "execute_result"
    }
   ],
   "source": [
    "len(cdm_data), len(cdm_data[0])"
   ]
  },
  {
   "cell_type": "code",
   "execution_count": 84,
   "id": "ae99bbe7",
   "metadata": {},
   "outputs": [
    {
     "name": "stdout",
     "output_type": "stream",
     "text": [
      "CPU times: user 23.8 s, sys: 78.1 ms, total: 23.9 s\n",
      "Wall time: 23.9 s\n"
     ]
    }
   ],
   "source": [
    "%%time\n",
    "cdm_data = list(map(s.samplealphal, s.flatchain[:100]))"
   ]
  },
  {
   "cell_type": "code",
   "execution_count": 85,
   "id": "c5d2bd58",
   "metadata": {},
   "outputs": [
    {
     "data": {
      "text/plain": [
       "(100, 1000)"
      ]
     },
     "execution_count": 85,
     "metadata": {},
     "output_type": "execute_result"
    }
   ],
   "source": [
    "len(cdm_data), len(cdm_data[0])"
   ]
  },
  {
   "cell_type": "code",
   "execution_count": 97,
   "id": "64775768",
   "metadata": {},
   "outputs": [
    {
     "name": "stdout",
     "output_type": "stream",
     "text": [
      "CPU times: user 23.8 s, sys: 40.7 ms, total: 23.9 s\n",
      "Wall time: 23.9 s\n"
     ]
    }
   ],
   "source": [
    "%%time\n",
    "cdm_data = np.apply_along_axis(lambda x: s.samplealphal(x), 1, s.flatchain[:100]).value.tolist()"
   ]
  },
  {
   "cell_type": "code",
   "execution_count": 98,
   "id": "af92b686",
   "metadata": {},
   "outputs": [
    {
     "data": {
      "text/plain": [
       "(100, 1000, 2)"
      ]
     },
     "execution_count": 98,
     "metadata": {},
     "output_type": "execute_result"
    }
   ],
   "source": [
    "len(cdm_data), len(cdm_data[0]), len(cdm_data[0][0])"
   ]
  },
  {
   "cell_type": "code",
   "execution_count": 99,
   "id": "a4b7726a",
   "metadata": {},
   "outputs": [
    {
     "name": "stdout",
     "output_type": "stream",
     "text": [
      "CPU times: user 23.6 s, sys: 41.6 ms, total: 23.7 s\n",
      "Wall time: 23.7 s\n"
     ]
    }
   ],
   "source": [
    "%%time\n",
    "cdm_data = np.apply_along_axis(s.samplealphal, 1, s.flatchain[:100]).value.tolist()"
   ]
  },
  {
   "cell_type": "code",
   "execution_count": 100,
   "id": "15163088",
   "metadata": {},
   "outputs": [
    {
     "data": {
      "text/plain": [
       "(100, 1000, 2)"
      ]
     },
     "execution_count": 100,
     "metadata": {},
     "output_type": "execute_result"
    }
   ],
   "source": [
    "len(cdm_data), len(cdm_data[0]), len(cdm_data[0][0])"
   ]
  },
  {
   "cell_type": "code",
   "execution_count": null,
   "id": "574626f1",
   "metadata": {},
   "outputs": [],
   "source": []
  },
  {
   "cell_type": "code",
   "execution_count": null,
   "id": "b4bafdbe",
   "metadata": {},
   "outputs": [],
   "source": []
  },
  {
   "cell_type": "code",
   "execution_count": 12,
   "id": "e7379ba3",
   "metadata": {
    "collapsed": true
   },
   "outputs": [
    {
     "ename": "NameError",
     "evalue": "name 'gauss' is not defined",
     "output_type": "error",
     "traceback": [
      "\u001b[0;31m---------------------------------------------------------------------------\u001b[0m",
      "\u001b[0;31mNameError\u001b[0m                                 Traceback (most recent call last)",
      "Cell \u001b[0;32mIn [12], line 1\u001b[0m\n\u001b[0;32m----> 1\u001b[0m s \u001b[38;5;241m=\u001b[39m sm\u001b[38;5;241m.\u001b[39mSampler(nstars\u001b[38;5;241m=\u001b[39m\u001b[38;5;241m10\u001b[39m, nsamples\u001b[38;5;241m=\u001b[39m\u001b[38;5;241m10\u001b[39m, survey\u001b[38;5;241m=\u001b[39mr,nchains\u001b[38;5;241m=\u001b[39m\u001b[38;5;241m8\u001b[39m, MassProfile\u001b[38;5;241m=\u001b[39m\u001b[43mgauss\u001b[49m)\n",
      "\u001b[0;31mNameError\u001b[0m: name 'gauss' is not defined"
     ]
    }
   ],
   "source": [
    "s = sm.Sampler(nstars=10, nsamples=10, survey=r,nchains=8, MassProfile=gauss)"
   ]
  },
  {
   "cell_type": "code",
   "execution_count": 270,
   "id": "b1ad7817",
   "metadata": {
    "collapsed": true
   },
   "outputs": [
    {
     "name": "stdout",
     "output_type": "stream",
     "text": [
      "Creating data vector\n",
      "Wrote to /Users/fangirl/Repos/Kris/dmsl/data/star_accel/Roman_3_2_0.dat\n",
      "/Users/fangirl/Repos/Kris/dmsl/data/star_accel/Roman_hist_3_2_0.png\n",
      "(1000, 2)\n",
      "2024-03-05T16:28:33.468273: made /Users/fangirl/Repos/Kris/dmsl/data/star_accel/Roman_hist_3_2_0.png\n",
      "Loading prior\n",
      "Prior loaded\n",
      "Total pars: 4\n",
      "Sampling..\n"
     ]
    },
    {
     "name": "stderr",
     "output_type": "stream",
     "text": [
      "  1%|██▋                                                                                                                                                                                                  | 27/2000 [01:18<1:29:57,  2.74s/it]Traceback (most recent call last):\n",
      "  File \"/Users/fangirl/miniconda3/envs/project/lib/python3.8/site-packages/emcee/ensemble.py\", line 624, in __call__\n",
      "    return self.f(x, *self.args, **self.kwargs)\n",
      "  File \"/Users/fangirl/Repos/Kris/dmsl/dmsl/sampler.py\", line 359, in lnlike\n",
      "    alphal = self.samplealphal(pars) #FIXME for mf, gets array of alphal\n",
      "  File \"/Users/fangirl/Repos/Kris/dmsl/dmsl/sampler.py\", line 332, in samplealphal\n",
      "    alphal = lm.alphal(newmassprofile, bvec, vvec) #FIXME Test if it works for new_mass function and newmassprofile array-- for loop instead?\n",
      "  File \"/Users/fangirl/Repos/Kris/dmsl/dmsl/lensing_model.py\", line 32, in alphal\n",
      "    vec_part = alphal_vec(Ml, bvec, vvec)\n",
      "  File \"/Users/fangirl/Repos/Kris/dmsl/dmsl/lensing_model.py\", line 99, in alphal_vec\n",
      "    Term1 = Ml.M(b)[:, np.newaxis] * Aterm\n",
      "AttributeError: 'list' object has no attribute 'M'\n",
      "  1%|██▋                                                                                                                                                                                                  | 27/2000 [01:20<1:38:35,  3.00s/it]"
     ]
    },
    {
     "name": "stdout",
     "output_type": "stream",
     "text": [
      "emcee: Exception while calling your likelihood function:\n",
      "  params: [ 0.96050506 -2.94191101 -1.43763373  2.42146997]\n",
      "  args: []\n",
      "  kwargs: {}\n",
      "  exception:\n"
     ]
    },
    {
     "name": "stderr",
     "output_type": "stream",
     "text": [
      "\n"
     ]
    },
    {
     "ename": "AttributeError",
     "evalue": "'list' object has no attribute 'M'",
     "output_type": "error",
     "traceback": [
      "\u001b[0;31m---------------------------------------------------------------------------\u001b[0m",
      "\u001b[0;31mAttributeError\u001b[0m                            Traceback (most recent call last)",
      "File \u001b[0;32m<timed exec>:1\u001b[0m\n",
      "File \u001b[0;32m~/Repos/Kris/dmsl/dmsl/sampler.py:75\u001b[0m, in \u001b[0;36mSampler.__init__\u001b[0;34m(self, nstars, nsamples, nchains, ntune, ndims, minlogMl, maxlogMl, MassProfile, MassFunction, SNRcutoff, survey, overwrite, usefraction)\u001b[0m\n\u001b[1;32m     73\u001b[0m \u001b[38;5;28mself\u001b[39m\u001b[38;5;241m.\u001b[39mload_data()\n\u001b[1;32m     74\u001b[0m \u001b[38;5;28mself\u001b[39m\u001b[38;5;241m.\u001b[39mload_prior()\n\u001b[0;32m---> 75\u001b[0m \u001b[38;5;28;43mself\u001b[39;49m\u001b[38;5;241;43m.\u001b[39;49m\u001b[43mrun_inference\u001b[49m\u001b[43m(\u001b[49m\u001b[43m)\u001b[49m\n\u001b[1;32m     76\u001b[0m \u001b[38;5;28;01mif\u001b[39;00m \u001b[38;5;28mself\u001b[39m\u001b[38;5;241m.\u001b[39moverwrite:\n\u001b[1;32m     77\u001b[0m     \u001b[38;5;28mself\u001b[39m\u001b[38;5;241m.\u001b[39mmake_diagnostic_plots()\n",
      "File \u001b[0;32m~/Repos/Kris/dmsl/dmsl/sampler.py:139\u001b[0m, in \u001b[0;36mSampler.run_inference\u001b[0;34m(self)\u001b[0m\n\u001b[1;32m    137\u001b[0m \u001b[38;5;28mprint\u001b[39m(\u001b[38;5;124m\"\u001b[39m\u001b[38;5;124mSampling..\u001b[39m\u001b[38;5;124m\"\u001b[39m)\n\u001b[1;32m    138\u001b[0m ctr \u001b[38;5;241m=\u001b[39m \u001b[38;5;241m0\u001b[39m\n\u001b[0;32m--> 139\u001b[0m \u001b[38;5;28;01mfor\u001b[39;00m sample \u001b[38;5;129;01min\u001b[39;00m sampler\u001b[38;5;241m.\u001b[39msample(p0, iterations\u001b[38;5;241m=\u001b[39mmax_n, progress\u001b[38;5;241m=\u001b[39m\u001b[38;5;28;01mTrue\u001b[39;00m):\n\u001b[1;32m    140\u001b[0m     \u001b[38;5;66;03m# Only check convergence every 100 steps\u001b[39;00m\n\u001b[1;32m    141\u001b[0m     \u001b[38;5;28;01mif\u001b[39;00m sampler\u001b[38;5;241m.\u001b[39miteration \u001b[38;5;241m%\u001b[39m \u001b[38;5;241m100\u001b[39m:\n\u001b[1;32m    142\u001b[0m         \u001b[38;5;28;01mcontinue\u001b[39;00m\n",
      "File \u001b[0;32m~/miniconda3/envs/project/lib/python3.8/site-packages/emcee/ensemble.py:402\u001b[0m, in \u001b[0;36mEnsembleSampler.sample\u001b[0;34m(self, initial_state, log_prob0, rstate0, blobs0, iterations, tune, skip_initial_state_check, thin_by, thin, store, progress, progress_kwargs)\u001b[0m\n\u001b[1;32m    399\u001b[0m move \u001b[38;5;241m=\u001b[39m \u001b[38;5;28mself\u001b[39m\u001b[38;5;241m.\u001b[39m_random\u001b[38;5;241m.\u001b[39mchoice(\u001b[38;5;28mself\u001b[39m\u001b[38;5;241m.\u001b[39m_moves, p\u001b[38;5;241m=\u001b[39m\u001b[38;5;28mself\u001b[39m\u001b[38;5;241m.\u001b[39m_weights)\n\u001b[1;32m    401\u001b[0m \u001b[38;5;66;03m# Propose\u001b[39;00m\n\u001b[0;32m--> 402\u001b[0m state, accepted \u001b[38;5;241m=\u001b[39m \u001b[43mmove\u001b[49m\u001b[38;5;241;43m.\u001b[39;49m\u001b[43mpropose\u001b[49m\u001b[43m(\u001b[49m\u001b[43mmodel\u001b[49m\u001b[43m,\u001b[49m\u001b[43m \u001b[49m\u001b[43mstate\u001b[49m\u001b[43m)\u001b[49m\n\u001b[1;32m    403\u001b[0m state\u001b[38;5;241m.\u001b[39mrandom_state \u001b[38;5;241m=\u001b[39m \u001b[38;5;28mself\u001b[39m\u001b[38;5;241m.\u001b[39mrandom_state\n\u001b[1;32m    405\u001b[0m \u001b[38;5;28;01mif\u001b[39;00m tune:\n",
      "File \u001b[0;32m~/miniconda3/envs/project/lib/python3.8/site-packages/emcee/moves/red_blue.py:93\u001b[0m, in \u001b[0;36mRedBlueMove.propose\u001b[0;34m(self, model, state)\u001b[0m\n\u001b[1;32m     90\u001b[0m q, factors \u001b[38;5;241m=\u001b[39m \u001b[38;5;28mself\u001b[39m\u001b[38;5;241m.\u001b[39mget_proposal(s, c, model\u001b[38;5;241m.\u001b[39mrandom)\n\u001b[1;32m     92\u001b[0m \u001b[38;5;66;03m# Compute the lnprobs of the proposed position.\u001b[39;00m\n\u001b[0;32m---> 93\u001b[0m new_log_probs, new_blobs \u001b[38;5;241m=\u001b[39m \u001b[43mmodel\u001b[49m\u001b[38;5;241;43m.\u001b[39;49m\u001b[43mcompute_log_prob_fn\u001b[49m\u001b[43m(\u001b[49m\u001b[43mq\u001b[49m\u001b[43m)\u001b[49m\n\u001b[1;32m     95\u001b[0m \u001b[38;5;66;03m# Loop over the walkers and update them accordingly.\u001b[39;00m\n\u001b[1;32m     96\u001b[0m \u001b[38;5;28;01mfor\u001b[39;00m i, (j, f, nlp) \u001b[38;5;129;01min\u001b[39;00m \u001b[38;5;28menumerate\u001b[39m(\n\u001b[1;32m     97\u001b[0m     \u001b[38;5;28mzip\u001b[39m(all_inds[S1], factors, new_log_probs)\n\u001b[1;32m     98\u001b[0m ):\n",
      "File \u001b[0;32m~/miniconda3/envs/project/lib/python3.8/site-packages/emcee/ensemble.py:489\u001b[0m, in \u001b[0;36mEnsembleSampler.compute_log_prob\u001b[0;34m(self, coords)\u001b[0m\n\u001b[1;32m    487\u001b[0m     \u001b[38;5;28;01melse\u001b[39;00m:\n\u001b[1;32m    488\u001b[0m         map_func \u001b[38;5;241m=\u001b[39m \u001b[38;5;28mmap\u001b[39m\n\u001b[0;32m--> 489\u001b[0m     results \u001b[38;5;241m=\u001b[39m \u001b[38;5;28;43mlist\u001b[39;49m\u001b[43m(\u001b[49m\u001b[43mmap_func\u001b[49m\u001b[43m(\u001b[49m\u001b[38;5;28;43mself\u001b[39;49m\u001b[38;5;241;43m.\u001b[39;49m\u001b[43mlog_prob_fn\u001b[49m\u001b[43m,\u001b[49m\u001b[43m \u001b[49m\u001b[43mp\u001b[49m\u001b[43m)\u001b[49m\u001b[43m)\u001b[49m\n\u001b[1;32m    491\u001b[0m \u001b[38;5;28;01mtry\u001b[39;00m:\n\u001b[1;32m    492\u001b[0m     log_prob \u001b[38;5;241m=\u001b[39m np\u001b[38;5;241m.\u001b[39marray([\u001b[38;5;28mfloat\u001b[39m(l[\u001b[38;5;241m0\u001b[39m]) \u001b[38;5;28;01mfor\u001b[39;00m l \u001b[38;5;129;01min\u001b[39;00m results])\n",
      "File \u001b[0;32m~/miniconda3/envs/project/lib/python3.8/site-packages/emcee/ensemble.py:624\u001b[0m, in \u001b[0;36m_FunctionWrapper.__call__\u001b[0;34m(self, x)\u001b[0m\n\u001b[1;32m    622\u001b[0m \u001b[38;5;28;01mdef\u001b[39;00m \u001b[38;5;21m__call__\u001b[39m(\u001b[38;5;28mself\u001b[39m, x):\n\u001b[1;32m    623\u001b[0m     \u001b[38;5;28;01mtry\u001b[39;00m:\n\u001b[0;32m--> 624\u001b[0m         \u001b[38;5;28;01mreturn\u001b[39;00m \u001b[38;5;28;43mself\u001b[39;49m\u001b[38;5;241;43m.\u001b[39;49m\u001b[43mf\u001b[49m\u001b[43m(\u001b[49m\u001b[43mx\u001b[49m\u001b[43m,\u001b[49m\u001b[43m \u001b[49m\u001b[38;5;241;43m*\u001b[39;49m\u001b[38;5;28;43mself\u001b[39;49m\u001b[38;5;241;43m.\u001b[39;49m\u001b[43margs\u001b[49m\u001b[43m,\u001b[49m\u001b[43m \u001b[49m\u001b[38;5;241;43m*\u001b[39;49m\u001b[38;5;241;43m*\u001b[39;49m\u001b[38;5;28;43mself\u001b[39;49m\u001b[38;5;241;43m.\u001b[39;49m\u001b[43mkwargs\u001b[49m\u001b[43m)\u001b[49m\n\u001b[1;32m    625\u001b[0m     \u001b[38;5;28;01mexcept\u001b[39;00m:  \u001b[38;5;66;03m# pragma: no cover\u001b[39;00m\n\u001b[1;32m    626\u001b[0m         \u001b[38;5;28;01mimport\u001b[39;00m \u001b[38;5;21;01mtraceback\u001b[39;00m\n",
      "File \u001b[0;32m~/Repos/Kris/dmsl/dmsl/sampler.py:359\u001b[0m, in \u001b[0;36mSampler.lnlike\u001b[0;34m(self, pars)\u001b[0m\n\u001b[1;32m    357\u001b[0m \u001b[38;5;28;01mif\u001b[39;00m \u001b[38;5;241m~\u001b[39mnp\u001b[38;5;241m.\u001b[39misfinite(\u001b[38;5;28mself\u001b[39m\u001b[38;5;241m.\u001b[39mlogprior(pars)):\n\u001b[1;32m    358\u001b[0m     \u001b[38;5;28;01mreturn\u001b[39;00m \u001b[38;5;241m-\u001b[39mnp\u001b[38;5;241m.\u001b[39minf\n\u001b[0;32m--> 359\u001b[0m alphal \u001b[38;5;241m=\u001b[39m \u001b[38;5;28;43mself\u001b[39;49m\u001b[38;5;241;43m.\u001b[39;49m\u001b[43msamplealphal\u001b[49m\u001b[43m(\u001b[49m\u001b[43mpars\u001b[49m\u001b[43m)\u001b[49m \u001b[38;5;66;03m#FIXME for mf, gets array of alphal\u001b[39;00m\n\u001b[1;32m    360\u001b[0m \u001b[38;5;66;03m# if self.massprofile.type == 'ps':\u001b[39;00m\n\u001b[1;32m    361\u001b[0m \u001b[38;5;66;03m#     # if ps, need to do snr check and re-sample if any have too high snr. this stops walkers from getting too stuck.\u001b[39;00m\n\u001b[1;32m    362\u001b[0m \u001b[38;5;66;03m#      alphal = self.snr_check(alphal, pars)\u001b[39;00m\n\u001b[1;32m    363\u001b[0m \u001b[38;5;66;03m#      if alphal == \"error\":\u001b[39;00m\n\u001b[1;32m    364\u001b[0m \u001b[38;5;66;03m#          return -np.inf\u001b[39;00m\n\u001b[1;32m    365\u001b[0m \u001b[38;5;28;01mif\u001b[39;00m np\u001b[38;5;241m.\u001b[39many(np\u001b[38;5;241m.\u001b[39misnan(alphal)): \u001b[38;5;66;03m#FIXME Should not be needed!\u001b[39;00m\n\u001b[1;32m    366\u001b[0m     \u001b[38;5;66;03m# print('alphal nan')\u001b[39;00m\n",
      "File \u001b[0;32m~/Repos/Kris/dmsl/dmsl/sampler.py:332\u001b[0m, in \u001b[0;36mSampler.samplealphal\u001b[0;34m(self, pars)\u001b[0m\n\u001b[1;32m    330\u001b[0m vvec \u001b[38;5;241m*\u001b[39m\u001b[38;5;241m=\u001b[39m u\u001b[38;5;241m.\u001b[39mkm \u001b[38;5;241m/\u001b[39m u\u001b[38;5;241m.\u001b[39ms\n\u001b[1;32m    331\u001b[0m \u001b[38;5;66;03m## get alphal given sampled other params.\u001b[39;00m\n\u001b[0;32m--> 332\u001b[0m alphal \u001b[38;5;241m=\u001b[39m \u001b[43mlm\u001b[49m\u001b[38;5;241;43m.\u001b[39;49m\u001b[43malphal\u001b[49m\u001b[43m(\u001b[49m\u001b[43mnewmassprofile\u001b[49m\u001b[43m,\u001b[49m\u001b[43m \u001b[49m\u001b[43mbvec\u001b[49m\u001b[43m,\u001b[49m\u001b[43m \u001b[49m\u001b[43mvvec\u001b[49m\u001b[43m)\u001b[49m \u001b[38;5;66;03m#FIXME Test if it works for new_mass function and newmassprofile array-- for loop instead?\u001b[39;00m\n\u001b[1;32m    333\u001b[0m \u001b[38;5;66;03m## if only sampling in 1D, get magnitude of vec.\u001b[39;00m\n\u001b[1;32m    334\u001b[0m \u001b[38;5;28;01mif\u001b[39;00m \u001b[38;5;28mself\u001b[39m\u001b[38;5;241m.\u001b[39mndims \u001b[38;5;241m==\u001b[39m \u001b[38;5;241m1\u001b[39m:\n",
      "File \u001b[0;32m~/Repos/Kris/dmsl/dmsl/lensing_model.py:32\u001b[0m, in \u001b[0;36malphal\u001b[0;34m(Ml, bvec, vvec)\u001b[0m\n\u001b[1;32m     30\u001b[0m     v \u001b[38;5;241m=\u001b[39m np\u001b[38;5;241m.\u001b[39mlinalg\u001b[38;5;241m.\u001b[39mnorm(vvec)\n\u001b[1;32m     31\u001b[0m accmag \u001b[38;5;241m=\u001b[39m \u001b[38;5;241m4\u001b[39m \u001b[38;5;241m*\u001b[39m const\u001b[38;5;241m.\u001b[39mG \u001b[38;5;241m*\u001b[39m v\u001b[38;5;241m*\u001b[39m\u001b[38;5;241m*\u001b[39m\u001b[38;5;241m2\u001b[39m \u001b[38;5;241m/\u001b[39m (const\u001b[38;5;241m.\u001b[39mc\u001b[38;5;241m*\u001b[39m\u001b[38;5;241m*\u001b[39m\u001b[38;5;241m2\u001b[39m \u001b[38;5;241m*\u001b[39m b\u001b[38;5;241m*\u001b[39m\u001b[38;5;241m*\u001b[39m\u001b[38;5;241m3\u001b[39m)\n\u001b[0;32m---> 32\u001b[0m vec_part \u001b[38;5;241m=\u001b[39m \u001b[43malphal_vec\u001b[49m\u001b[43m(\u001b[49m\u001b[43mMl\u001b[49m\u001b[43m,\u001b[49m\u001b[43m \u001b[49m\u001b[43mbvec\u001b[49m\u001b[43m,\u001b[49m\u001b[43m \u001b[49m\u001b[43mvvec\u001b[49m\u001b[43m)\u001b[49m\n\u001b[1;32m     33\u001b[0m \u001b[38;5;28;01mif\u001b[39;00m accmag\u001b[38;5;241m.\u001b[39mndim \u001b[38;5;241m==\u001b[39m \u001b[38;5;241m1\u001b[39m:\n\u001b[1;32m     34\u001b[0m     alphal \u001b[38;5;241m=\u001b[39m accmag[:,np\u001b[38;5;241m.\u001b[39mnewaxis] \u001b[38;5;241m*\u001b[39m vec_part\n",
      "File \u001b[0;32m~/Repos/Kris/dmsl/dmsl/lensing_model.py:99\u001b[0m, in \u001b[0;36malphal_vec\u001b[0;34m(Ml, bvec, vvec, vdotvec)\u001b[0m\n\u001b[1;32m     97\u001b[0m         Term3 \u001b[38;5;241m+\u001b[39m\u001b[38;5;241m=\u001b[39m (m\u001b[38;5;241m.\u001b[39mMpprime(b) \u001b[38;5;241m*\u001b[39m b\u001b[38;5;241m*\u001b[39m\u001b[38;5;241m*\u001b[39m\u001b[38;5;241m2\u001b[39m)[:, np\u001b[38;5;241m.\u001b[39mnewaxis] \u001b[38;5;241m*\u001b[39m Cterm\n\u001b[1;32m     98\u001b[0m \u001b[38;5;28;01melse\u001b[39;00m:\n\u001b[0;32m---> 99\u001b[0m     Term1 \u001b[38;5;241m=\u001b[39m \u001b[43mMl\u001b[49m\u001b[38;5;241;43m.\u001b[39;49m\u001b[43mM\u001b[49m(b)[:, np\u001b[38;5;241m.\u001b[39mnewaxis] \u001b[38;5;241m*\u001b[39m Aterm\n\u001b[1;32m    100\u001b[0m     Term2 \u001b[38;5;241m=\u001b[39m (Ml\u001b[38;5;241m.\u001b[39mMprime(b) \u001b[38;5;241m*\u001b[39m b)[:, np\u001b[38;5;241m.\u001b[39mnewaxis] \u001b[38;5;241m*\u001b[39m Bterm\n\u001b[1;32m    101\u001b[0m     Term3 \u001b[38;5;241m=\u001b[39m (Ml\u001b[38;5;241m.\u001b[39mMpprime(b) \u001b[38;5;241m*\u001b[39m b \u001b[38;5;241m*\u001b[39m\u001b[38;5;241m*\u001b[39m \u001b[38;5;241m2\u001b[39m)[:, np\u001b[38;5;241m.\u001b[39mnewaxis] \u001b[38;5;241m*\u001b[39m Cterm\n",
      "\u001b[0;31mAttributeError\u001b[0m: 'list' object has no attribute 'M'"
     ]
    }
   ],
   "source": [
    "%%time\n",
    "s = sm.Sampler(nstars=1000,nsamples=1000,nchains=16, survey=r, MassFunction=cdm, MassProfile=nfw)"
   ]
  },
  {
   "cell_type": "code",
   "execution_count": 265,
   "id": "00c9e893",
   "metadata": {
    "scrolled": false
   },
   "outputs": [
    {
     "name": "stdout",
     "output_type": "stream",
     "text": [
      "Creating data vector\n",
      "CDM data: <class 'astropy.units.quantity.Quantity'> [[-2.47662034e-09  6.81600487e-09]\n",
      " [-1.74052383e-08 -4.23364750e-08]\n",
      " [-6.89713465e-09  5.57995110e-09]\n",
      " ...\n",
      " [ 1.11353855e-07 -2.24930853e-07]\n",
      " [ 2.76615666e-07 -6.85611702e-07]\n",
      " [-1.59219238e-09 -8.14065846e-09]] uas / yr2\n",
      "Wrote to /Users/fangirl/Repos/Kris/dmsl/data/star_accel/Roman_3_2_0_2024:04:25-17.14.43.dat\n",
      "/Users/fangirl/Repos/Kris/dmsl/data/star_accel/Roman_hist_3_2_0_2024:04:25-17.14.43.png\n",
      "(1000, 2)\n",
      "2024-04-25T17:14:45.370921: made /Users/fangirl/Repos/Kris/dmsl/data/star_accel/Roman_hist_3_2_0_2024:04:25-17.14.43.png\n",
      "Loading prior\n",
      "Prior loaded\n",
      "Total pars: 4\n",
      "Sampling..\n"
     ]
    },
    {
     "name": "stderr",
     "output_type": "stream",
     "text": [
      "  1%|█▋                                                                                                                                                                                                  | 95/11000 [01:13<1:40:33,  1.81it/s]/Users/fangirl/miniconda3/envs/project/lib/python3.8/site-packages/astropy/units/quantity.py:620: RuntimeWarning: invalid value encountered in add\n",
      "  result = super().__array_ufunc__(function, method, *arrays, **kwargs)\n",
      " 58%|██████████████████████████████████████████████████████████████████████████████████████████████████████████████████                                                                                  | 6400/11000 [50:12<41:20,  1.85it/s]"
     ]
    },
    {
     "name": "stdout",
     "output_type": "stream",
     "text": [
      "Converged at.. 6400\n"
     ]
    },
    {
     "name": "stderr",
     "output_type": "stream",
     "text": [
      "100%|█████████████████████████████████████████████████████████████████████████████████████████████████████████████████████████████████████████████████████████████████████████████████████████████████| 11000/11000 [1:26:46<00:00,  2.11it/s]\n"
     ]
    },
    {
     "name": "stdout",
     "output_type": "stream",
     "text": [
      "95\\% upper limit on fpbh: 2.9637117512594235\n",
      "Wrote /Users/fangirl/Repos/Kris/dmsl/results/samples_Roman_nfw_WDM Stream_3_4_2_2024:04:25-18.41.33.pkl\n",
      "Chains have been pruned. 32.0 chains remain\n",
      "Wrote /Users/fangirl/Repos/Kris/dmsl/results/loglike_Roman_nfw_WDM Stream_3_4_2_2024:04:25-18.41.33.pkl\n",
      "Wrote /Users/fangirl/Repos/Kris/dmsl/results/pruned_samples_Roman_nfw_WDM Stream_3_4_2_2024:04:25-18.41.33.pkl\n",
      "Chains have been pruned. 32.0 chains remain\n",
      "flatchain: (320000, 4)\n",
      "m_wdm\n",
      "2024-04-25T18:41:34.226687: made /Users/fangirl/Repos/Kris/dmsl/results/post_Roman_nfw_WDM Stream_m_wdm_3_4_2_2024:04:25-18.41.33.png\n",
      "gamma\n",
      "2024-04-25T18:41:34.313566: made /Users/fangirl/Repos/Kris/dmsl/results/post_Roman_nfw_WDM Stream_gamma_3_4_2_2024:04:25-18.41.34.png\n",
      "beta\n",
      "2024-04-25T18:41:34.395342: made /Users/fangirl/Repos/Kris/dmsl/results/post_Roman_nfw_WDM Stream_beta_3_4_2_2024:04:25-18.41.34.png\n",
      "2024-04-25T18:41:34.470401: made /Users/fangirl/Repos/Kris/dmsl/results/post_Roman_nfw_WDM Stream_c200_3_4_2_2024:04:25-18.41.34.png\n",
      "2024-04-25T18:41:39.267416: made /Users/fangirl/Repos/Kris/dmsl/results/corner_Roman_nfw_WDM Stream_3_4_2_2024:04:25-18.41.34.png\n",
      "2024-04-25T18:41:40.218184: made /Users/fangirl/Repos/Kris/dmsl/results/chainsplot_Roman_nfw_WDM Stream_3_4_2_2024:04:25-18.41.39.png\n",
      "2024-04-25T18:41:40.397611: made /Users/fangirl/Repos/Kris/dmsl/results/logprob_Roman_nfw_WDM Stream_3_4_2_2024:04:25-18.41.40.png\n",
      "CPU times: user 1h 26min 37s, sys: 17.3 s, total: 1h 26min 54s\n",
      "Wall time: 1h 26min 56s\n"
     ]
    }
   ],
   "source": [
    "%%time\n",
    "s = sm.Sampler(nstars=1000,nsamples=10000, survey=r,nchains=32, MassFunction=wdm, MassProfile=nfw)"
   ]
  },
  {
   "cell_type": "code",
   "execution_count": 99,
   "id": "99b8e21b",
   "metadata": {
    "collapsed": true
   },
   "outputs": [
    {
     "name": "stdout",
     "output_type": "stream",
     "text": [
      "Creating data vector\n",
      "Wrote to /Users/fangirl/Repos/Kris/dmsl/data/star_accel/Roman_1_2_0.dat\n",
      "/Users/fangirl/Repos/Kris/dmsl/data/star_accel/Roman_hist_1_2_0.png\n",
      "(10, 2)\n",
      "2024-02-28T11:46:41.745930: made /Users/fangirl/Repos/Kris/dmsl/data/star_accel/Roman_hist_1_2_0.png\n",
      "Loading prior\n",
      "Prior loaded\n",
      "Total pars: 2\n",
      "Sampling..\n"
     ]
    },
    {
     "name": "stderr",
     "output_type": "stream",
     "text": [
      " 12%|██████████████████████▉                                                                                                                                                                               | 117/1010 [00:05<00:38, 23.28it/s]/Users/fangirl/miniconda3/envs/project/lib/python3.8/site-packages/astropy/units/quantity.py:620: RuntimeWarning: invalid value encountered in add\n",
      "  result = super().__array_ufunc__(function, method, *arrays, **kwargs)\n",
      "100%|█████████████████████████████████████████████████████████████████████████████████████████████████████████████████████████████████████████████████████████████████████████████████████████████████████| 1010/1010 [00:48<00:00, 20.75it/s]\n"
     ]
    },
    {
     "name": "stdout",
     "output_type": "stream",
     "text": [
      "Wrote /Users/fangirl/Repos/Kris/dmsl/results/samples_Roman_nfw_Press Schechter_1_1_2.pkl\n",
      "Chains have been pruned. 0.0 chains remain\n",
      "Wrote /Users/fangirl/Repos/Kris/dmsl/results/loglike_Roman_nfw_Press Schechter_1_1_2.pkl\n",
      "Wrote /Users/fangirl/Repos/Kris/dmsl/results/pruned_samples_Roman_nfw_Press Schechter_1_1_2.pkl\n",
      "Chains have been pruned. 0.0 chains remain\n",
      "flatchain: (0,)\n",
      "del_crit\n"
     ]
    },
    {
     "ename": "IndexError",
     "evalue": "cannot do a non-empty take from an empty axes.",
     "output_type": "error",
     "traceback": [
      "\u001b[0;31m---------------------------------------------------------------------------\u001b[0m",
      "\u001b[0;31mIndexError\u001b[0m                                Traceback (most recent call last)",
      "File \u001b[0;32m~/Repos/Kris/dmsl/dmsl/plotting.py:62\u001b[0m, in \u001b[0;36mplot_emcee\u001b[0;34m(flatchain, nstars, nsamples, ndims, massprofile, surveyname, usefraction, massfunction)\u001b[0m\n\u001b[1;32m     61\u001b[0m \u001b[38;5;28;01mtry\u001b[39;00m:\n\u001b[0;32m---> 62\u001b[0m     up95 \u001b[38;5;241m=\u001b[39m np\u001b[38;5;241m.\u001b[39mpercentile(\u001b[43mflatchain\u001b[49m\u001b[43m[\u001b[49m\u001b[43m:\u001b[49m\u001b[43m,\u001b[49m\u001b[43m \u001b[49m\u001b[43mi\u001b[49m\u001b[38;5;241;43m+\u001b[39;49m\u001b[38;5;241;43m1\u001b[39;49m\u001b[43m]\u001b[49m, \u001b[38;5;241m90\u001b[39m)\n\u001b[1;32m     63\u001b[0m     plt\u001b[38;5;241m.\u001b[39mhist(flatchain[:, i\u001b[38;5;241m+\u001b[39m\u001b[38;5;241m1\u001b[39m], \u001b[38;5;241m20\u001b[39m, color\u001b[38;5;241m=\u001b[39m\u001b[38;5;124m\"\u001b[39m\u001b[38;5;124mk\u001b[39m\u001b[38;5;124m\"\u001b[39m, histtype\u001b[38;5;241m=\u001b[39m\u001b[38;5;124m\"\u001b[39m\u001b[38;5;124mstep\u001b[39m\u001b[38;5;124m\"\u001b[39m, density\u001b[38;5;241m=\u001b[39m\u001b[38;5;28;01mTrue\u001b[39;00m);\n",
      "\u001b[0;31mIndexError\u001b[0m: too many indices for array: array is 1-dimensional, but 2 were indexed",
      "\nDuring handling of the above exception, another exception occurred:\n",
      "\u001b[0;31mIndexError\u001b[0m                                Traceback (most recent call last)",
      "File \u001b[0;32m<timed exec>:1\u001b[0m\n",
      "File \u001b[0;32m~/Repos/Kris/dmsl/dmsl/sampler.py:77\u001b[0m, in \u001b[0;36mSampler.__init__\u001b[0;34m(self, nstars, nsamples, nchains, ntune, ndims, minlogMl, maxlogMl, MassProfile, MassFunction, SNRcutoff, survey, overwrite, usefraction)\u001b[0m\n\u001b[1;32m     75\u001b[0m \u001b[38;5;28mself\u001b[39m\u001b[38;5;241m.\u001b[39mrun_inference()\n\u001b[1;32m     76\u001b[0m \u001b[38;5;28;01mif\u001b[39;00m \u001b[38;5;28mself\u001b[39m\u001b[38;5;241m.\u001b[39moverwrite:\n\u001b[0;32m---> 77\u001b[0m     \u001b[38;5;28;43mself\u001b[39;49m\u001b[38;5;241;43m.\u001b[39;49m\u001b[43mmake_diagnostic_plots\u001b[49m\u001b[43m(\u001b[49m\u001b[43m)\u001b[49m\n",
      "File \u001b[0;32m~/Repos/Kris/dmsl/dmsl/sampler.py:407\u001b[0m, in \u001b[0;36mSampler.make_diagnostic_plots\u001b[0;34m(self)\u001b[0m\n\u001b[1;32m    405\u001b[0m \u001b[38;5;28mprint\u001b[39m(\u001b[38;5;124m'\u001b[39m\u001b[38;5;124mflatchain:\u001b[39m\u001b[38;5;124m'\u001b[39m, np\u001b[38;5;241m.\u001b[39mshape(flatchain))\n\u001b[1;32m    406\u001b[0m \u001b[38;5;28;01mif\u001b[39;00m \u001b[38;5;28mself\u001b[39m\u001b[38;5;241m.\u001b[39mmassfunction:\n\u001b[0;32m--> 407\u001b[0m     \u001b[43mplot\u001b[49m\u001b[38;5;241;43m.\u001b[39;49m\u001b[43mplot_emcee\u001b[49m\u001b[43m(\u001b[49m\u001b[43mflatchain\u001b[49m\u001b[43m,\u001b[49m\n\u001b[1;32m    408\u001b[0m \u001b[43m            \u001b[49m\u001b[38;5;28;43mself\u001b[39;49m\u001b[38;5;241;43m.\u001b[39;49m\u001b[43mnstars\u001b[49m\u001b[43m,\u001b[49m\u001b[43m \u001b[49m\u001b[38;5;28;43mself\u001b[39;49m\u001b[38;5;241;43m.\u001b[39;49m\u001b[43mnsamples\u001b[49m\u001b[43m,\u001b[49m\u001b[38;5;28;43mself\u001b[39;49m\u001b[38;5;241;43m.\u001b[39;49m\u001b[43mndims\u001b[49m\u001b[43m,\u001b[49m\u001b[43m \u001b[49m\u001b[38;5;28;43mself\u001b[39;49m\u001b[38;5;241;43m.\u001b[39;49m\u001b[43mmassprofile\u001b[49m\u001b[43m,\u001b[49m\n\u001b[1;32m    409\u001b[0m \u001b[43m            \u001b[49m\u001b[38;5;28;43mself\u001b[39;49m\u001b[38;5;241;43m.\u001b[39;49m\u001b[43msurvey\u001b[49m\u001b[38;5;241;43m.\u001b[39;49m\u001b[43mname\u001b[49m\u001b[43m,\u001b[49m\u001b[43m \u001b[49m\u001b[38;5;28;43mself\u001b[39;49m\u001b[38;5;241;43m.\u001b[39;49m\u001b[43musefraction\u001b[49m\u001b[43m,\u001b[49m\u001b[43mmassfunction\u001b[49m\u001b[38;5;241;43m=\u001b[39;49m\u001b[38;5;28;43mself\u001b[39;49m\u001b[38;5;241;43m.\u001b[39;49m\u001b[43mmassfunction\u001b[49m\u001b[43m)\u001b[49m\n\u001b[1;32m    410\u001b[0m     extra_string \u001b[38;5;241m=\u001b[39m \u001b[38;5;124mf\u001b[39m\u001b[38;5;124m'\u001b[39m\u001b[38;5;124mchainsplot_\u001b[39m\u001b[38;5;132;01m{\u001b[39;00m\u001b[38;5;28mself\u001b[39m\u001b[38;5;241m.\u001b[39msurvey\u001b[38;5;241m.\u001b[39mname\u001b[38;5;132;01m}\u001b[39;00m\u001b[38;5;124m_\u001b[39m\u001b[38;5;132;01m{\u001b[39;00m\u001b[38;5;28mself\u001b[39m\u001b[38;5;241m.\u001b[39mmassprofile\u001b[38;5;241m.\u001b[39mtype\u001b[38;5;132;01m}\u001b[39;00m\u001b[38;5;124m_\u001b[39m\u001b[38;5;132;01m{\u001b[39;00m\u001b[38;5;28mself\u001b[39m\u001b[38;5;241m.\u001b[39mmassfunction\u001b[38;5;241m.\u001b[39mName\u001b[38;5;132;01m}\u001b[39;00m\u001b[38;5;124m'\u001b[39m\n\u001b[1;32m    411\u001b[0m \u001b[38;5;28;01melse\u001b[39;00m:\n",
      "File \u001b[0;32m~/Repos/Kris/dmsl/dmsl/plotting.py:65\u001b[0m, in \u001b[0;36mplot_emcee\u001b[0;34m(flatchain, nstars, nsamples, ndims, massprofile, surveyname, usefraction, massfunction)\u001b[0m\n\u001b[1;32m     63\u001b[0m     plt\u001b[38;5;241m.\u001b[39mhist(flatchain[:, i\u001b[38;5;241m+\u001b[39m\u001b[38;5;241m1\u001b[39m], \u001b[38;5;241m20\u001b[39m, color\u001b[38;5;241m=\u001b[39m\u001b[38;5;124m\"\u001b[39m\u001b[38;5;124mk\u001b[39m\u001b[38;5;124m\"\u001b[39m, histtype\u001b[38;5;241m=\u001b[39m\u001b[38;5;124m\"\u001b[39m\u001b[38;5;124mstep\u001b[39m\u001b[38;5;124m\"\u001b[39m, density\u001b[38;5;241m=\u001b[39m\u001b[38;5;28;01mTrue\u001b[39;00m);\n\u001b[1;32m     64\u001b[0m \u001b[38;5;28;01mexcept\u001b[39;00m:\n\u001b[0;32m---> 65\u001b[0m     up95 \u001b[38;5;241m=\u001b[39m \u001b[43mnp\u001b[49m\u001b[38;5;241;43m.\u001b[39;49m\u001b[43mpercentile\u001b[49m\u001b[43m(\u001b[49m\u001b[43mflatchain\u001b[49m\u001b[43m,\u001b[49m\u001b[43m \u001b[49m\u001b[38;5;241;43m90\u001b[39;49m\u001b[43m)\u001b[49m\n\u001b[1;32m     66\u001b[0m     plt\u001b[38;5;241m.\u001b[39mhist(flatchain, \u001b[38;5;241m20\u001b[39m, color\u001b[38;5;241m=\u001b[39m\u001b[38;5;124m\"\u001b[39m\u001b[38;5;124mk\u001b[39m\u001b[38;5;124m\"\u001b[39m, histtype\u001b[38;5;241m=\u001b[39m\u001b[38;5;124m\"\u001b[39m\u001b[38;5;124mstep\u001b[39m\u001b[38;5;124m\"\u001b[39m, density\u001b[38;5;241m=\u001b[39m\u001b[38;5;28;01mTrue\u001b[39;00m);\n\u001b[1;32m     67\u001b[0m plt\u001b[38;5;241m.\u001b[39maxvline(up95)\n",
      "File \u001b[0;32m<__array_function__ internals>:200\u001b[0m, in \u001b[0;36mpercentile\u001b[0;34m(*args, **kwargs)\u001b[0m\n",
      "File \u001b[0;32m~/miniconda3/envs/project/lib/python3.8/site-packages/numpy/lib/function_base.py:4205\u001b[0m, in \u001b[0;36mpercentile\u001b[0;34m(a, q, axis, out, overwrite_input, method, keepdims, interpolation)\u001b[0m\n\u001b[1;32m   4203\u001b[0m \u001b[38;5;28;01mif\u001b[39;00m \u001b[38;5;129;01mnot\u001b[39;00m _quantile_is_valid(q):\n\u001b[1;32m   4204\u001b[0m     \u001b[38;5;28;01mraise\u001b[39;00m \u001b[38;5;167;01mValueError\u001b[39;00m(\u001b[38;5;124m\"\u001b[39m\u001b[38;5;124mPercentiles must be in the range [0, 100]\u001b[39m\u001b[38;5;124m\"\u001b[39m)\n\u001b[0;32m-> 4205\u001b[0m \u001b[38;5;28;01mreturn\u001b[39;00m \u001b[43m_quantile_unchecked\u001b[49m\u001b[43m(\u001b[49m\n\u001b[1;32m   4206\u001b[0m \u001b[43m    \u001b[49m\u001b[43ma\u001b[49m\u001b[43m,\u001b[49m\u001b[43m \u001b[49m\u001b[43mq\u001b[49m\u001b[43m,\u001b[49m\u001b[43m \u001b[49m\u001b[43maxis\u001b[49m\u001b[43m,\u001b[49m\u001b[43m \u001b[49m\u001b[43mout\u001b[49m\u001b[43m,\u001b[49m\u001b[43m \u001b[49m\u001b[43moverwrite_input\u001b[49m\u001b[43m,\u001b[49m\u001b[43m \u001b[49m\u001b[43mmethod\u001b[49m\u001b[43m,\u001b[49m\u001b[43m \u001b[49m\u001b[43mkeepdims\u001b[49m\u001b[43m)\u001b[49m\n",
      "File \u001b[0;32m~/miniconda3/envs/project/lib/python3.8/site-packages/numpy/lib/function_base.py:4473\u001b[0m, in \u001b[0;36m_quantile_unchecked\u001b[0;34m(a, q, axis, out, overwrite_input, method, keepdims)\u001b[0m\n\u001b[1;32m   4465\u001b[0m \u001b[38;5;28;01mdef\u001b[39;00m \u001b[38;5;21m_quantile_unchecked\u001b[39m(a,\n\u001b[1;32m   4466\u001b[0m                         q,\n\u001b[1;32m   4467\u001b[0m                         axis\u001b[38;5;241m=\u001b[39m\u001b[38;5;28;01mNone\u001b[39;00m,\n\u001b[0;32m   (...)\u001b[0m\n\u001b[1;32m   4470\u001b[0m                         method\u001b[38;5;241m=\u001b[39m\u001b[38;5;124m\"\u001b[39m\u001b[38;5;124mlinear\u001b[39m\u001b[38;5;124m\"\u001b[39m,\n\u001b[1;32m   4471\u001b[0m                         keepdims\u001b[38;5;241m=\u001b[39m\u001b[38;5;28;01mFalse\u001b[39;00m):\n\u001b[1;32m   4472\u001b[0m     \u001b[38;5;124;03m\"\"\"Assumes that q is in [0, 1], and is an ndarray\"\"\"\u001b[39;00m\n\u001b[0;32m-> 4473\u001b[0m     \u001b[38;5;28;01mreturn\u001b[39;00m \u001b[43m_ureduce\u001b[49m\u001b[43m(\u001b[49m\u001b[43ma\u001b[49m\u001b[43m,\u001b[49m\n\u001b[1;32m   4474\u001b[0m \u001b[43m                    \u001b[49m\u001b[43mfunc\u001b[49m\u001b[38;5;241;43m=\u001b[39;49m\u001b[43m_quantile_ureduce_func\u001b[49m\u001b[43m,\u001b[49m\n\u001b[1;32m   4475\u001b[0m \u001b[43m                    \u001b[49m\u001b[43mq\u001b[49m\u001b[38;5;241;43m=\u001b[39;49m\u001b[43mq\u001b[49m\u001b[43m,\u001b[49m\n\u001b[1;32m   4476\u001b[0m \u001b[43m                    \u001b[49m\u001b[43mkeepdims\u001b[49m\u001b[38;5;241;43m=\u001b[39;49m\u001b[43mkeepdims\u001b[49m\u001b[43m,\u001b[49m\n\u001b[1;32m   4477\u001b[0m \u001b[43m                    \u001b[49m\u001b[43maxis\u001b[49m\u001b[38;5;241;43m=\u001b[39;49m\u001b[43maxis\u001b[49m\u001b[43m,\u001b[49m\n\u001b[1;32m   4478\u001b[0m \u001b[43m                    \u001b[49m\u001b[43mout\u001b[49m\u001b[38;5;241;43m=\u001b[39;49m\u001b[43mout\u001b[49m\u001b[43m,\u001b[49m\n\u001b[1;32m   4479\u001b[0m \u001b[43m                    \u001b[49m\u001b[43moverwrite_input\u001b[49m\u001b[38;5;241;43m=\u001b[39;49m\u001b[43moverwrite_input\u001b[49m\u001b[43m,\u001b[49m\n\u001b[1;32m   4480\u001b[0m \u001b[43m                    \u001b[49m\u001b[43mmethod\u001b[49m\u001b[38;5;241;43m=\u001b[39;49m\u001b[43mmethod\u001b[49m\u001b[43m)\u001b[49m\n",
      "File \u001b[0;32m~/miniconda3/envs/project/lib/python3.8/site-packages/numpy/lib/function_base.py:3752\u001b[0m, in \u001b[0;36m_ureduce\u001b[0;34m(a, func, keepdims, **kwargs)\u001b[0m\n\u001b[1;32m   3749\u001b[0m             index_out \u001b[38;5;241m=\u001b[39m (\u001b[38;5;241m0\u001b[39m, ) \u001b[38;5;241m*\u001b[39m nd\n\u001b[1;32m   3750\u001b[0m             kwargs[\u001b[38;5;124m'\u001b[39m\u001b[38;5;124mout\u001b[39m\u001b[38;5;124m'\u001b[39m] \u001b[38;5;241m=\u001b[39m out[(\u001b[38;5;28mEllipsis\u001b[39m, ) \u001b[38;5;241m+\u001b[39m index_out]\n\u001b[0;32m-> 3752\u001b[0m r \u001b[38;5;241m=\u001b[39m \u001b[43mfunc\u001b[49m\u001b[43m(\u001b[49m\u001b[43ma\u001b[49m\u001b[43m,\u001b[49m\u001b[43m \u001b[49m\u001b[38;5;241;43m*\u001b[39;49m\u001b[38;5;241;43m*\u001b[39;49m\u001b[43mkwargs\u001b[49m\u001b[43m)\u001b[49m\n\u001b[1;32m   3754\u001b[0m \u001b[38;5;28;01mif\u001b[39;00m out \u001b[38;5;129;01mis\u001b[39;00m \u001b[38;5;129;01mnot\u001b[39;00m \u001b[38;5;28;01mNone\u001b[39;00m:\n\u001b[1;32m   3755\u001b[0m     \u001b[38;5;28;01mreturn\u001b[39;00m out\n",
      "File \u001b[0;32m~/miniconda3/envs/project/lib/python3.8/site-packages/numpy/lib/function_base.py:4639\u001b[0m, in \u001b[0;36m_quantile_ureduce_func\u001b[0;34m(a, q, axis, out, overwrite_input, method)\u001b[0m\n\u001b[1;32m   4637\u001b[0m     \u001b[38;5;28;01melse\u001b[39;00m:\n\u001b[1;32m   4638\u001b[0m         arr \u001b[38;5;241m=\u001b[39m a\u001b[38;5;241m.\u001b[39mcopy()\n\u001b[0;32m-> 4639\u001b[0m result \u001b[38;5;241m=\u001b[39m \u001b[43m_quantile\u001b[49m\u001b[43m(\u001b[49m\u001b[43marr\u001b[49m\u001b[43m,\u001b[49m\n\u001b[1;32m   4640\u001b[0m \u001b[43m                   \u001b[49m\u001b[43mquantiles\u001b[49m\u001b[38;5;241;43m=\u001b[39;49m\u001b[43mq\u001b[49m\u001b[43m,\u001b[49m\n\u001b[1;32m   4641\u001b[0m \u001b[43m                   \u001b[49m\u001b[43maxis\u001b[49m\u001b[38;5;241;43m=\u001b[39;49m\u001b[43maxis\u001b[49m\u001b[43m,\u001b[49m\n\u001b[1;32m   4642\u001b[0m \u001b[43m                   \u001b[49m\u001b[43mmethod\u001b[49m\u001b[38;5;241;43m=\u001b[39;49m\u001b[43mmethod\u001b[49m\u001b[43m,\u001b[49m\n\u001b[1;32m   4643\u001b[0m \u001b[43m                   \u001b[49m\u001b[43mout\u001b[49m\u001b[38;5;241;43m=\u001b[39;49m\u001b[43mout\u001b[49m\u001b[43m)\u001b[49m\n\u001b[1;32m   4644\u001b[0m \u001b[38;5;28;01mreturn\u001b[39;00m result\n",
      "File \u001b[0;32m~/miniconda3/envs/project/lib/python3.8/site-packages/numpy/lib/function_base.py:4745\u001b[0m, in \u001b[0;36m_quantile\u001b[0;34m(arr, quantiles, axis, method, out)\u001b[0m\n\u001b[1;32m   4737\u001b[0m arr\u001b[38;5;241m.\u001b[39mpartition(\n\u001b[1;32m   4738\u001b[0m     np\u001b[38;5;241m.\u001b[39munique(np\u001b[38;5;241m.\u001b[39mconcatenate(([\u001b[38;5;241m0\u001b[39m, \u001b[38;5;241m-\u001b[39m\u001b[38;5;241m1\u001b[39m],\n\u001b[1;32m   4739\u001b[0m                               previous_indexes\u001b[38;5;241m.\u001b[39mravel(),\n\u001b[1;32m   4740\u001b[0m                               next_indexes\u001b[38;5;241m.\u001b[39mravel(),\n\u001b[1;32m   4741\u001b[0m                               ))),\n\u001b[1;32m   4742\u001b[0m     axis\u001b[38;5;241m=\u001b[39mDATA_AXIS)\n\u001b[1;32m   4743\u001b[0m \u001b[38;5;28;01mif\u001b[39;00m np\u001b[38;5;241m.\u001b[39missubdtype(arr\u001b[38;5;241m.\u001b[39mdtype, np\u001b[38;5;241m.\u001b[39minexact):\n\u001b[1;32m   4744\u001b[0m     slices_having_nans \u001b[38;5;241m=\u001b[39m np\u001b[38;5;241m.\u001b[39misnan(\n\u001b[0;32m-> 4745\u001b[0m         \u001b[43mtake\u001b[49m\u001b[43m(\u001b[49m\u001b[43marr\u001b[49m\u001b[43m,\u001b[49m\u001b[43m \u001b[49m\u001b[43mindices\u001b[49m\u001b[38;5;241;43m=\u001b[39;49m\u001b[38;5;241;43m-\u001b[39;49m\u001b[38;5;241;43m1\u001b[39;49m\u001b[43m,\u001b[49m\u001b[43m \u001b[49m\u001b[43maxis\u001b[49m\u001b[38;5;241;43m=\u001b[39;49m\u001b[43mDATA_AXIS\u001b[49m\u001b[43m)\u001b[49m\n\u001b[1;32m   4746\u001b[0m     )\n\u001b[1;32m   4747\u001b[0m \u001b[38;5;28;01melse\u001b[39;00m:\n\u001b[1;32m   4748\u001b[0m     slices_having_nans \u001b[38;5;241m=\u001b[39m \u001b[38;5;28;01mNone\u001b[39;00m\n",
      "File \u001b[0;32m<__array_function__ internals>:200\u001b[0m, in \u001b[0;36mtake\u001b[0;34m(*args, **kwargs)\u001b[0m\n",
      "File \u001b[0;32m~/miniconda3/envs/project/lib/python3.8/site-packages/numpy/core/fromnumeric.py:190\u001b[0m, in \u001b[0;36mtake\u001b[0;34m(a, indices, axis, out, mode)\u001b[0m\n\u001b[1;32m     93\u001b[0m \u001b[38;5;129m@array_function_dispatch\u001b[39m(_take_dispatcher)\n\u001b[1;32m     94\u001b[0m \u001b[38;5;28;01mdef\u001b[39;00m \u001b[38;5;21mtake\u001b[39m(a, indices, axis\u001b[38;5;241m=\u001b[39m\u001b[38;5;28;01mNone\u001b[39;00m, out\u001b[38;5;241m=\u001b[39m\u001b[38;5;28;01mNone\u001b[39;00m, mode\u001b[38;5;241m=\u001b[39m\u001b[38;5;124m'\u001b[39m\u001b[38;5;124mraise\u001b[39m\u001b[38;5;124m'\u001b[39m):\n\u001b[1;32m     95\u001b[0m     \u001b[38;5;124;03m\"\"\"\u001b[39;00m\n\u001b[1;32m     96\u001b[0m \u001b[38;5;124;03m    Take elements from an array along an axis.\u001b[39;00m\n\u001b[1;32m     97\u001b[0m \n\u001b[0;32m   (...)\u001b[0m\n\u001b[1;32m    188\u001b[0m \u001b[38;5;124;03m           [5, 7]])\u001b[39;00m\n\u001b[1;32m    189\u001b[0m \u001b[38;5;124;03m    \"\"\"\u001b[39;00m\n\u001b[0;32m--> 190\u001b[0m     \u001b[38;5;28;01mreturn\u001b[39;00m \u001b[43m_wrapfunc\u001b[49m\u001b[43m(\u001b[49m\u001b[43ma\u001b[49m\u001b[43m,\u001b[49m\u001b[43m \u001b[49m\u001b[38;5;124;43m'\u001b[39;49m\u001b[38;5;124;43mtake\u001b[39;49m\u001b[38;5;124;43m'\u001b[39;49m\u001b[43m,\u001b[49m\u001b[43m \u001b[49m\u001b[43mindices\u001b[49m\u001b[43m,\u001b[49m\u001b[43m \u001b[49m\u001b[43maxis\u001b[49m\u001b[38;5;241;43m=\u001b[39;49m\u001b[43maxis\u001b[49m\u001b[43m,\u001b[49m\u001b[43m \u001b[49m\u001b[43mout\u001b[49m\u001b[38;5;241;43m=\u001b[39;49m\u001b[43mout\u001b[49m\u001b[43m,\u001b[49m\u001b[43m \u001b[49m\u001b[43mmode\u001b[49m\u001b[38;5;241;43m=\u001b[39;49m\u001b[43mmode\u001b[49m\u001b[43m)\u001b[49m\n",
      "File \u001b[0;32m~/miniconda3/envs/project/lib/python3.8/site-packages/numpy/core/fromnumeric.py:57\u001b[0m, in \u001b[0;36m_wrapfunc\u001b[0;34m(obj, method, *args, **kwds)\u001b[0m\n\u001b[1;32m     54\u001b[0m     \u001b[38;5;28;01mreturn\u001b[39;00m _wrapit(obj, method, \u001b[38;5;241m*\u001b[39margs, \u001b[38;5;241m*\u001b[39m\u001b[38;5;241m*\u001b[39mkwds)\n\u001b[1;32m     56\u001b[0m \u001b[38;5;28;01mtry\u001b[39;00m:\n\u001b[0;32m---> 57\u001b[0m     \u001b[38;5;28;01mreturn\u001b[39;00m \u001b[43mbound\u001b[49m\u001b[43m(\u001b[49m\u001b[38;5;241;43m*\u001b[39;49m\u001b[43margs\u001b[49m\u001b[43m,\u001b[49m\u001b[43m \u001b[49m\u001b[38;5;241;43m*\u001b[39;49m\u001b[38;5;241;43m*\u001b[39;49m\u001b[43mkwds\u001b[49m\u001b[43m)\u001b[49m\n\u001b[1;32m     58\u001b[0m \u001b[38;5;28;01mexcept\u001b[39;00m \u001b[38;5;167;01mTypeError\u001b[39;00m:\n\u001b[1;32m     59\u001b[0m     \u001b[38;5;66;03m# A TypeError occurs if the object does have such a method in its\u001b[39;00m\n\u001b[1;32m     60\u001b[0m     \u001b[38;5;66;03m# class, but its signature is not identical to that of NumPy's. This\u001b[39;00m\n\u001b[0;32m   (...)\u001b[0m\n\u001b[1;32m     64\u001b[0m     \u001b[38;5;66;03m# Call _wrapit from within the except clause to ensure a potential\u001b[39;00m\n\u001b[1;32m     65\u001b[0m     \u001b[38;5;66;03m# exception has a traceback chain.\u001b[39;00m\n\u001b[1;32m     66\u001b[0m     \u001b[38;5;28;01mreturn\u001b[39;00m _wrapit(obj, method, \u001b[38;5;241m*\u001b[39margs, \u001b[38;5;241m*\u001b[39m\u001b[38;5;241m*\u001b[39mkwds)\n",
      "\u001b[0;31mIndexError\u001b[0m: cannot do a non-empty take from an empty axes."
     ]
    },
    {
     "data": {
      "text/plain": [
       "<Figure size 600x400 with 0 Axes>"
      ]
     },
     "metadata": {},
     "output_type": "display_data"
    }
   ],
   "source": [
    "%%time\n",
    "s = sm.Sampler(nstars=10,nsamples=10,nchains=4, survey=r, MassFunction=press_s, MassProfile=nfw)"
   ]
  },
  {
   "cell_type": "code",
   "execution_count": null,
   "id": "0af4f7ed",
   "metadata": {},
   "outputs": [],
   "source": [
    "%%time\n",
    "s = sm.Sampler(nstars=10, survey=r,nchains=18, MassFunction=tinker, MassProfile=nfw)"
   ]
  },
  {
   "cell_type": "code",
   "execution_count": 259,
   "id": "bf5287b0",
   "metadata": {
    "scrolled": true
   },
   "outputs": [
    {
     "name": "stdout",
     "output_type": "stream",
     "text": [
      "Creating data vector\n",
      "Wrote to /Users/fangirl/Repos/Kris/dmsl/data/star_accel/Roman_3_2_0_2024:04:22-20.02.59.dat\n",
      "/Users/fangirl/Repos/Kris/dmsl/data/star_accel/Roman_hist_3_2_0_2024:04:22-20.02.59.png\n",
      "(1000, 2)\n",
      "2024-04-22T20:02:59.424403: made /Users/fangirl/Repos/Kris/dmsl/data/star_accel/Roman_hist_3_2_0_2024:04:22-20.02.59.png\n",
      "Loading prior\n",
      "Prior loaded\n",
      "Total pars: 1\n",
      "Sampling..\n"
     ]
    },
    {
     "name": "stderr",
     "output_type": "stream",
     "text": [
      "100%|███████████████████████████████████████████████████████████████████████████████████████████████████████████████████████████████████████████████████████████████████████████████████████████████████| 2000/2000 [3:41:21<00:00,  6.64s/it]"
     ]
    },
    {
     "name": "stdout",
     "output_type": "stream",
     "text": [
      "95\\% upper limit on fpbh: -1.4808324475843144\n",
      "Wrote /Users/fangirl/Repos/Kris/dmsl/results/samples_Roman_ps_PBH_3_3_2_2024:04:22-23.44.28.pkl\n",
      "Chains have been pruned. 0.0 chains remain\n",
      "Wrote /Users/fangirl/Repos/Kris/dmsl/results/loglike_Roman_ps_PBH_3_3_2_2024:04:22-23.44.28.pkl\n",
      "Wrote /Users/fangirl/Repos/Kris/dmsl/results/pruned_samples_Roman_ps_PBH_3_3_2_2024:04:22-23.44.28.pkl\n",
      "Chains have been pruned. 0.0 chains remain\n",
      "CPU times: user 3h 40min 56s, sys: 29.1 s, total: 3h 41min 25s\n",
      "Wall time: 3h 41min 29s\n"
     ]
    },
    {
     "name": "stderr",
     "output_type": "stream",
     "text": [
      "\n"
     ]
    }
   ],
   "source": [
    "%%time\n",
    "s = sm.Sampler(nstars=1000, survey=r,nchains=16, MassFunction=pbh, MassProfile=ps)"
   ]
  },
  {
   "cell_type": "code",
   "execution_count": 189,
   "id": "0ccb5f19",
   "metadata": {},
   "outputs": [],
   "source": [
    "pbh = s"
   ]
  },
  {
   "cell_type": "code",
   "execution_count": 219,
   "id": "b134fbee",
   "metadata": {},
   "outputs": [
    {
     "data": {
      "text/plain": [
       "(1000, 2)"
      ]
     },
     "execution_count": 219,
     "metadata": {},
     "output_type": "execute_result"
    }
   ],
   "source": [
    "d = s.data.data\n",
    "d.shape"
   ]
  },
  {
   "cell_type": "code",
   "execution_count": 213,
   "id": "858726d6",
   "metadata": {},
   "outputs": [
    {
     "data": {
      "text/html": [
       "<div>\n",
       "<style scoped>\n",
       "    .dataframe tbody tr th:only-of-type {\n",
       "        vertical-align: middle;\n",
       "    }\n",
       "\n",
       "    .dataframe tbody tr th {\n",
       "        vertical-align: top;\n",
       "    }\n",
       "\n",
       "    .dataframe thead th {\n",
       "        text-align: right;\n",
       "    }\n",
       "</style>\n",
       "<table border=\"1\" class=\"dataframe\">\n",
       "  <thead>\n",
       "    <tr style=\"text-align: right;\">\n",
       "      <th></th>\n",
       "      <th>a_x</th>\n",
       "      <th>a_y</th>\n",
       "    </tr>\n",
       "  </thead>\n",
       "  <tbody>\n",
       "    <tr>\n",
       "      <th>0</th>\n",
       "      <td>0.012573</td>\n",
       "      <td>-0.013210</td>\n",
       "    </tr>\n",
       "    <tr>\n",
       "      <th>1</th>\n",
       "      <td>0.064042</td>\n",
       "      <td>0.010490</td>\n",
       "    </tr>\n",
       "    <tr>\n",
       "      <th>2</th>\n",
       "      <td>-0.053567</td>\n",
       "      <td>0.036160</td>\n",
       "    </tr>\n",
       "    <tr>\n",
       "      <th>3</th>\n",
       "      <td>0.130400</td>\n",
       "      <td>0.094708</td>\n",
       "    </tr>\n",
       "    <tr>\n",
       "      <th>4</th>\n",
       "      <td>-0.070374</td>\n",
       "      <td>-0.126542</td>\n",
       "    </tr>\n",
       "  </tbody>\n",
       "</table>\n",
       "</div>"
      ],
      "text/plain": [
       "        a_x       a_y\n",
       "0  0.012573 -0.013210\n",
       "1  0.064042  0.010490\n",
       "2 -0.053567  0.036160\n",
       "3  0.130400  0.094708\n",
       "4 -0.070374 -0.126542"
      ]
     },
     "execution_count": 213,
     "metadata": {},
     "output_type": "execute_result"
    }
   ],
   "source": [
    "d.head()"
   ]
  },
  {
   "cell_type": "code",
   "execution_count": 220,
   "id": "b1653056",
   "metadata": {},
   "outputs": [
    {
     "name": "stdout",
     "output_type": "stream",
     "text": [
      "2024-04-14T20:51:08.954917: made ../data/star_accel/Roman_pbh3.png\n"
     ]
    }
   ],
   "source": [
    "import plotting as plot\n",
    "plot.make_histogram(d.to_numpy(),int(len(d) / 100) + 1, r'\\alpha', '../data/star_accel/Roman_pbh3.png')"
   ]
  },
  {
   "cell_type": "code",
   "execution_count": 205,
   "id": "c874c9b2",
   "metadata": {},
   "outputs": [
    {
     "name": "stdout",
     "output_type": "stream",
     "text": [
      "[[ 0.01257302 -0.01321049]\n",
      " [ 0.06404227  0.01049001]\n",
      " [-0.05356694  0.03615951]\n",
      " ...\n",
      " [ 0.12497253  0.0750634 ]\n",
      " [-0.05558157 -0.20188116]\n",
      " [-0.09094276  0.03692293]]\n"
     ]
    },
    {
     "data": {
      "text/plain": [
       "(array([[  1.,   7.,  19.,  62., 162., 221., 224., 180.,  91.,  29.,   4.],\n",
       "        [  1.,   3.,  14.,  64., 154., 237., 253., 158.,  85.,  24.,   7.]]),\n",
       " array([-0.38994217, -0.32661982, -0.26329747, -0.19997512, -0.13665277,\n",
       "        -0.07333042, -0.01000807,  0.05331428,  0.11663662,  0.17995897,\n",
       "         0.24328132,  0.30660367]),\n",
       " <a list of 2 Lists of Patches objects>)"
      ]
     },
     "execution_count": 205,
     "metadata": {},
     "output_type": "execute_result"
    },
    {
     "data": {
      "image/png": "[encoded data removed]",
      "text/plain": [
       "<Figure size 600x400 with 1 Axes>"
      ]
     },
     "metadata": {},
     "output_type": "display_data"
    }
   ],
   "source": [
    "print(d[0:])\n",
    "plt.hist(d, int(len(d) / 100) + 1)"
   ]
  },
  {
   "cell_type": "markdown",
   "id": "2fa4d8e6",
   "metadata": {},
   "source": [
    "## Chisq check"
   ]
  },
  {
   "cell_type": "code",
   "execution_count": 136,
   "id": "87edf6bd",
   "metadata": {
    "scrolled": false
   },
   "outputs": [
    {
     "data": {
      "text/plain": [
       "Text(0, 0.5, 'logL')"
      ]
     },
     "execution_count": 136,
     "metadata": {},
     "output_type": "execute_result"
    },
    {
     "data": {
      "image/png": "[encoded data removed]",
      "text/plain": [
       "<Figure size 600x400 with 1 Axes>"
      ]
     },
     "metadata": {},
     "output_type": "display_data"
    }
   ],
   "source": [
    "## Computing chisq at high c200 vals, fiducial loga=-4.49, b=-1.9, logc= 7.41\n",
    "c200 = np.logspace(0,8,100)\n",
    "chisq = []\n",
    "for i in range(len(c200)):\n",
    "    chisq.append(cdm_64.lnlike([np.log10(c200[i]),-3.1,-3.95,6.02]))\n",
    "plt.plot(np.log10(c200),chisq)\n",
    "#plt.xlim([0,4])\n",
    "#plt.yscale('symlog')\n",
    "plt.xlabel(r'logc200')\n",
    "plt.ylabel(r'logL')"
   ]
  },
  {
   "cell_type": "code",
   "execution_count": 203,
   "id": "8b44f1b5",
   "metadata": {
    "collapsed": true
   },
   "outputs": [
    {
     "data": {
      "text/plain": [
       "[-37594.080924395894,\n",
       " -inf,\n",
       " -37594.080898226464,\n",
       " -inf,\n",
       " -37594.08062299494,\n",
       " -37594.08121937506,\n",
       " -37594.08016543627,\n",
       " -37594.08093914086,\n",
       " -37594.08012411741,\n",
       " -37594.08278072151,\n",
       " -37594.0817171707,\n",
       " -37594.0791198161,\n",
       " -37594.08205136389,\n",
       " -37594.07977763513,\n",
       " -37594.076651971445,\n",
       " -37594.09129145827,\n",
       " -37594.099525839636,\n",
       " -37594.03266772265,\n",
       " -37594.09610205032,\n",
       " -37594.07124317826,\n",
       " -37594.08338569483,\n",
       " -37594.07834199637,\n",
       " -37594.05343340839,\n",
       " -37594.092616761096,\n",
       " -37594.09094342385,\n",
       " -37593.9123002888,\n",
       " -37594.18773247938,\n",
       " -37594.177965998475,\n",
       " -37593.89600692629,\n",
       " -37667.304187483016,\n",
       " -38590.712721967575,\n",
       " -37594.54789118786,\n",
       " -37595.798323351046,\n",
       " -37625.51412396371,\n",
       " -37592.953602373884,\n",
       " -37598.12172567468,\n",
       " -37597.2995217148,\n",
       " -37695.63809861639,\n",
       " -37646.30141629217,\n",
       " -38144.41738198436,\n",
       " -37901.53958530592,\n",
       " -37608.57179461385,\n",
       " -144219.99407913865,\n",
       " -451231.04098252044,\n",
       " -39078.73577959987,\n",
       " -42946.120482705206,\n",
       " -121294.92208899777,\n",
       " -85734.66176737679,\n",
       " -311627.379620574,\n",
       " -89094.93336816576,\n",
       " -1350588247.9832277,\n",
       " -10293398.127908302,\n",
       " -137306.26939676507,\n",
       " -22791495.301060397,\n",
       " -11335438.171632934,\n",
       " -4444352.0947559085,\n",
       " -11831020.240500342,\n",
       " -25852833.708500937,\n",
       " -598827546.6799808,\n",
       " -22428933474.63425,\n",
       " -2143265047.8457818,\n",
       " -185921532.53544328,\n",
       " -8984943469.976233,\n",
       " -233795361362.2651,\n",
       " -186551796901.57272,\n",
       " -5857277363.568987,\n",
       " -139913912174.9859,\n",
       " -67448521281470.17,\n",
       " -38173815693.82741,\n",
       " -11191584636.519768,\n",
       " -495503914938.454,\n",
       " -886515915214.5686,\n",
       " -2346741495688.778,\n",
       " -205560425838037.7,\n",
       " -329599256338.3419,\n",
       " -96516341779490.69,\n",
       " -358901667401661.75,\n",
       " -2675070662222858.0,\n",
       " -149777767404688.84,\n",
       " -155204215119432.4,\n",
       " -1862975747066350.5,\n",
       " -476345886114371.25,\n",
       " -399018583747713.4,\n",
       " -514669699245539.25,\n",
       " -7794701377655602.0,\n",
       " -109159151921358.8,\n",
       " -5122696570892054.0,\n",
       " -305021847889519.2,\n",
       " -127657906953303.08,\n",
       " -8.550033348390812e+18,\n",
       " -1.2954230836748725e+20,\n",
       " -3.203011064054504e+17,\n",
       " -4.724033527740009e+16,\n",
       " -1370447328799790.5,\n",
       " -4.893338667555934e+19,\n",
       " -5.038586709836314e+16,\n",
       " -4.153437597192198e+20,\n",
       " -4.369269984414261e+18,\n",
       " -5.863319395293414e+17,\n",
       " -5.274594445089466e+19]"
      ]
     },
     "execution_count": 203,
     "metadata": {},
     "output_type": "execute_result"
    }
   ],
   "source": [
    "chisq"
   ]
  },
  {
   "cell_type": "code",
   "execution_count": 169,
   "id": "8bf67712",
   "metadata": {
    "collapsed": true
   },
   "outputs": [
    {
     "data": {
      "text/plain": [
       "array([1.00000000e+00, 1.12332403e+00, 1.26185688e+00, 1.41747416e+00,\n",
       "       1.59228279e+00, 1.78864953e+00, 2.00923300e+00, 2.25701972e+00,\n",
       "       2.53536449e+00, 2.84803587e+00, 3.19926714e+00, 3.59381366e+00,\n",
       "       4.03701726e+00, 4.53487851e+00, 5.09413801e+00, 5.72236766e+00,\n",
       "       6.42807312e+00, 7.22080902e+00, 8.11130831e+00, 9.11162756e+00,\n",
       "       1.02353102e+01, 1.14975700e+01, 1.29154967e+01, 1.45082878e+01,\n",
       "       1.62975083e+01, 1.83073828e+01, 2.05651231e+01, 2.31012970e+01,\n",
       "       2.59502421e+01, 2.91505306e+01, 3.27454916e+01, 3.67837977e+01,\n",
       "       4.13201240e+01, 4.64158883e+01, 5.21400829e+01, 5.85702082e+01,\n",
       "       6.57933225e+01, 7.39072203e+01, 8.30217568e+01, 9.32603347e+01,\n",
       "       1.04761575e+02, 1.17681195e+02, 1.32194115e+02, 1.48496826e+02,\n",
       "       1.66810054e+02, 1.87381742e+02, 2.10490414e+02, 2.36448941e+02,\n",
       "       2.65608778e+02, 2.98364724e+02, 3.35160265e+02, 3.76493581e+02,\n",
       "       4.22924287e+02, 4.75081016e+02, 5.33669923e+02, 5.99484250e+02,\n",
       "       6.73415066e+02, 7.56463328e+02, 8.49753436e+02, 9.54548457e+02,\n",
       "       1.07226722e+03, 1.20450354e+03, 1.35304777e+03, 1.51991108e+03,\n",
       "       1.70735265e+03, 1.91791026e+03, 2.15443469e+03, 2.42012826e+03,\n",
       "       2.71858824e+03, 3.05385551e+03, 3.43046929e+03, 3.85352859e+03,\n",
       "       4.32876128e+03, 4.86260158e+03, 5.46227722e+03, 6.13590727e+03,\n",
       "       6.89261210e+03, 7.74263683e+03, 8.69749003e+03, 9.77009957e+03,\n",
       "       1.09749877e+04, 1.23284674e+04, 1.38488637e+04, 1.55567614e+04,\n",
       "       1.74752840e+04, 1.96304065e+04, 2.20513074e+04, 2.47707636e+04,\n",
       "       2.78255940e+04, 3.12571585e+04, 3.51119173e+04, 3.94420606e+04,\n",
       "       4.43062146e+04, 4.97702356e+04, 5.59081018e+04, 6.28029144e+04,\n",
       "       7.05480231e+04, 7.92482898e+04, 8.90215085e+04, 1.00000000e+05])"
      ]
     },
     "execution_count": 169,
     "metadata": {},
     "output_type": "execute_result"
    }
   ],
   "source": [
    "c200"
   ]
  },
  {
   "cell_type": "code",
   "execution_count": 138,
   "id": "405c39f3",
   "metadata": {
    "scrolled": false
   },
   "outputs": [
    {
     "data": {
      "text/plain": [
       "[<matplotlib.lines.Line2D at 0x7fa9eb1613a0>]"
      ]
     },
     "execution_count": 138,
     "metadata": {},
     "output_type": "execute_result"
    },
    {
     "data": {
      "image/png": "[encoded data removed]",
      "text/plain": [
       "<Figure size 600x400 with 1 Axes>"
      ]
     },
     "metadata": {},
     "output_type": "display_data"
    }
   ],
   "source": [
    "y, _ = cdm_64.sampler.compute_log_prob(np.array(([1,-3.41,-3.03,6.45],[2,-3.41,-3.03,6.45],[3,-3.41,-3.03,6.45],[4,-3.41,-3.03,6.45],[5,-3.41,-3.03,6.45],[6,-3.41,-3.03,6.45],[7,-3.41,-3.03,6.45],[8,-3.41,-3.03,6.45])))\n",
    "plt.plot([1,2,3,4,5,6,7,8],y,'o')"
   ]
  },
  {
   "cell_type": "code",
   "execution_count": 233,
   "id": "90fa89d0",
   "metadata": {
    "collapsed": true
   },
   "outputs": [
    {
     "name": "stdout",
     "output_type": "stream",
     "text": [
      "In samplealpha\n",
      "In make new mass\n",
      "In lensing model\n",
      "Outside lensing model\n",
      "Trying\n",
      "In samplealpha\n",
      "In make new mass\n",
      "In lensing model\n",
      "Outside lensing model\n",
      "Trying\n",
      "In samplealpha\n",
      "In make new mass\n",
      "In lensing model\n",
      "Outside lensing model\n",
      "Trying\n",
      "In samplealpha\n",
      "In make new mass\n",
      "In lensing model\n",
      "Outside lensing model\n",
      "Trying\n",
      "In samplealpha\n",
      "In make new mass\n",
      "In lensing model\n",
      "Outside lensing model\n",
      "Trying\n",
      "In samplealpha\n",
      "In make new mass\n",
      "In lensing model\n",
      "Outside lensing model\n",
      "Trying\n",
      "In samplealpha\n",
      "In make new mass\n",
      "In lensing model\n",
      "Outside lensing model\n",
      "Trying\n",
      "In samplealpha\n",
      "In make new mass\n",
      "In lensing model\n",
      "Outside lensing model\n",
      "Trying\n",
      "CPU times: user 1h 4min 23s, sys: 14.5 s, total: 1h 4min 38s\n",
      "Wall time: 4h 5min 55s\n"
     ]
    },
    {
     "data": {
      "text/plain": [
       "Text(0, 0.5, 'logL')"
      ]
     },
     "execution_count": 233,
     "metadata": {},
     "output_type": "execute_result"
    },
    {
     "data": {
      "image/png": "[encoded data removed]",
      "text/plain": [
       "<Figure size 600x400 with 1 Axes>"
      ]
     },
     "metadata": {},
     "output_type": "display_data"
    }
   ],
   "source": [
    "%%time\n",
    "f_pbh = np.logspace(-8,0,10)\n",
    "chisq = []\n",
    "for i in range(len(f_pbh)):\n",
    "    chisq.append(pbh.lnlike([np.log10(f_pbh[i])]))\n",
    "plt.plot(np.log10(f_pbh),chisq)\n",
    "#plt.xlim([0,4])\n",
    "#plt.yscale('symlog')\n",
    "plt.xlabel(r'logfpbh')\n",
    "plt.ylabel(r'logL')"
   ]
  },
  {
   "cell_type": "code",
   "execution_count": 234,
   "id": "899112fa",
   "metadata": {},
   "outputs": [
    {
     "data": {
      "text/plain": [
       "[-inf, -inf, -inf, -inf, -inf, -inf, -inf, -inf, -inf, -inf]"
      ]
     },
     "execution_count": 234,
     "metadata": {},
     "output_type": "execute_result"
    }
   ],
   "source": [
    "chisq"
   ]
  },
  {
   "cell_type": "code",
   "execution_count": 235,
   "id": "ec5dff54",
   "metadata": {},
   "outputs": [
    {
     "data": {
      "text/plain": [
       "array([1.00000000e-08, 7.74263683e-08, 5.99484250e-07, 4.64158883e-06,\n",
       "       3.59381366e-05, 2.78255940e-04, 2.15443469e-03, 1.66810054e-02,\n",
       "       1.29154967e-01, 1.00000000e+00])"
      ]
     },
     "execution_count": 235,
     "metadata": {},
     "output_type": "execute_result"
    }
   ],
   "source": [
    "f_pbh"
   ]
  },
  {
   "cell_type": "code",
   "execution_count": 237,
   "id": "b866f2cb",
   "metadata": {},
   "outputs": [
    {
     "data": {
      "text/plain": [
       "[<matplotlib.lines.Line2D at 0x7faaa5efe280>]"
      ]
     },
     "execution_count": 237,
     "metadata": {},
     "output_type": "execute_result"
    },
    {
     "data": {
      "image/png": "[encoded data removed]",
      "text/plain": [
       "<Figure size 600x400 with 1 Axes>"
      ]
     },
     "metadata": {},
     "output_type": "display_data"
    }
   ],
   "source": [
    "y_pbh, _= pbh.sampler.compute_log_prob(np.array(([1.0],[1e-2],[1e-4],[1e-6],[1e-8])))\n",
    "plt.plot([1.0,1e-2,1e-4,1e-6,1e-8],y_pbh,'o')"
   ]
  },
  {
   "cell_type": "code",
   "execution_count": 238,
   "id": "99e3093f",
   "metadata": {},
   "outputs": [
    {
     "data": {
      "text/plain": [
       "array([-inf, -inf, -inf, -inf, -inf])"
      ]
     },
     "execution_count": 238,
     "metadata": {},
     "output_type": "execute_result"
    }
   ],
   "source": [
    "y_pbh"
   ]
  },
  {
   "cell_type": "code",
   "execution_count": null,
   "id": "69e22d47",
   "metadata": {},
   "outputs": [],
   "source": []
  }
 ],
 "metadata": {
  "kernelspec": {
   "display_name": "Python 3 (ipykernel)",
   "language": "python",
   "name": "python3"
  },
  "language_info": {
   "codemirror_mode": {
    "name": "ipython",
    "version": 3
   },
   "file_extension": ".py",
   "mimetype": "text/x-python",
   "name": "python",
   "nbconvert_exporter": "python",
   "pygments_lexer": "ipython3",
   "version": "3.8.15"
  }
 },
 "nbformat": 4,
 "nbformat_minor": 5
}
