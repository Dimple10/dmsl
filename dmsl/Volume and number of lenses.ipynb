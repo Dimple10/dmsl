{
 "cells": [
  {
   "cell_type": "code",
   "execution_count": 4,
   "id": "d80918a2",
   "metadata": {},
   "outputs": [
    {
     "name": "stdout",
     "output_type": "stream",
     "text": [
      "The autoreload extension is already loaded. To reload it, use:\n",
      "  %reload_ext autoreload\n"
     ]
    }
   ],
   "source": [
    "import sampler as sm\n",
    "import survey\n",
    "from importlib import reload \n",
    "import mass_function as mf\n",
    "import mass_profile as mp\n",
    "import numpy as np\n",
    "import matplotlib.pyplot as plt\n",
    "import astropy.units as u\n",
    "import scipy\n",
    "%load_ext autoreload\n",
    "%autoreload 2\n",
    "%matplotlib inline"
   ]
  },
  {
   "cell_type": "code",
   "execution_count": 5,
   "id": "b909b29c",
   "metadata": {},
   "outputs": [],
   "source": [
    "import galaxy_subhalo_dist as gsh"
   ]
  },
  {
   "cell_type": "code",
   "execution_count": 3,
   "id": "1f18c0aa",
   "metadata": {},
   "outputs": [],
   "source": [
    "r = np.linspace(0.00001,8,1000)*u.kpc"
   ]
  },
  {
   "cell_type": "code",
   "execution_count": 8,
   "id": "eea282e8",
   "metadata": {},
   "outputs": [],
   "source": [
    "iv = scipy.integrate.trapezoid(gsh.density(r),r)"
   ]
  },
  {
   "cell_type": "code",
   "execution_count": 11,
   "id": "8892f0ac",
   "metadata": {},
   "outputs": [
    {
     "data": {
      "text/plain": [
       "(<Quantity 8.79565831e+10 solMass / kpc2>,\n",
       " <Quantity 12940828.40236687 solMass / kpc3>)"
      ]
     },
     "execution_count": 11,
     "metadata": {},
     "output_type": "execute_result"
    }
   ],
   "source": [
    "iv,sm.RHO_DM"
   ]
  },
  {
   "cell_type": "code",
   "execution_count": null,
   "id": "9ea561a9",
   "metadata": {},
   "outputs": [],
   "source": []
  }
 ],
 "metadata": {
  "kernelspec": {
   "display_name": "Python 3 (ipykernel)",
   "language": "python",
   "name": "python3"
  },
  "language_info": {
   "codemirror_mode": {
    "name": "ipython",
    "version": 3
   },
   "file_extension": ".py",
   "mimetype": "text/x-python",
   "name": "python",
   "nbconvert_exporter": "python",
   "pygments_lexer": "ipython3",
   "version": "3.8.15"
  }
 },
 "nbformat": 4,
 "nbformat_minor": 5
}
